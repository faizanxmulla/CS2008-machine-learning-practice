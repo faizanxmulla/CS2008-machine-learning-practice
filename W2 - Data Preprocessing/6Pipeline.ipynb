{
 "cells": [
  {
   "cell_type": "markdown",
   "metadata": {},
   "source": [
    "Import necessary libraries"
   ]
  },
  {
   "cell_type": "code",
   "execution_count": 1,
   "metadata": {},
   "outputs": [],
   "source": [
    "from IPython.display import display, Math, Latex\n",
    "\n",
    "import numpy as np\n",
    "import pandas as pd\n",
    "import matplotlib.pyplot as plt\n",
    "import seaborn as sns\n",
    "sns.set_theme(style=\"whitegrid\")"
   ]
  },
  {
   "cell_type": "markdown",
   "metadata": {},
   "source": [
    "#### **Chaining Transformers**\n",
    "\n",
    "* The preprocessing transformations are applied one after another on the input feature matrix.\n",
    "\n",
    "* It is important to apply exactly same transformation on training, evaluation and test set in the same order.\n",
    "\n",
    "* Failing to do so would lead to incorrect predictions from model due to distribution shift and hence incorrect performance evaluation.\n",
    "\n",
    "* The `sklearn.pipeline` module provides utilities to build a composite estimator, as a chain of transformers and estimators."
   ]
  },
  {
   "cell_type": "markdown",
   "metadata": {},
   "source": [
    "## Pipeline\n",
    "\n",
    "Sequentially apply a list of transformers and estimators.\n",
    "\n",
    "* Intermediate steps of the pipeline must be 'transformer' i.e, they must implement `fit` and `transform` methods.\n",
    "\n",
    "* The final estimator only needs to implement `fit`. \n",
    "\n",
    "The purpose of the pipeline is to assemble several steps that can be cross-validated together while setting different parameters."
   ]
  },
  {
   "cell_type": "markdown",
   "metadata": {},
   "source": [
    "### **1.Creating Pipelines**\n",
    "\n",
    "A pipeline can be created with `Pipeline()`. \n",
    "\n",
    "It takes a list of ('estimatorsName',estimator(...)) tuples. The pipeline object exposes interface of the last step."
   ]
  },
  {
   "cell_type": "code",
   "execution_count": 2,
   "metadata": {},
   "outputs": [],
   "source": [
    "from sklearn.pipeline import Pipeline\n",
    "from sklearn.impute import SimpleImputer\n",
    "from sklearn.preprocessing import StandardScaler\n",
    "from sklearn.linear_model import LinearRegression\n",
    "\n",
    "estimators = [\n",
    "    ('simpleImputer' , SimpleImputer()),\n",
    "    ('standardScaler' , StandardScaler()),\n",
    "]\n",
    "\n",
    "pipe = Pipeline(steps=estimators)"
   ]
  },
  {
   "cell_type": "markdown",
   "metadata": {},
   "source": [
    "The same pipeline can also be created via `make_pipeline()` helper function, which doesn't take names of the steps and assigns them generic names based on their steps."
   ]
  },
  {
   "cell_type": "code",
   "execution_count": 3,
   "metadata": {},
   "outputs": [],
   "source": [
    "from sklearn.pipeline import make_pipeline\n",
    "pipe = make_pipeline(SimpleImputer(), StandardScaler())"
   ]
  },
  {
   "cell_type": "markdown",
   "metadata": {},
   "source": [
    "### **2.Accessing Individual steps in a Pipeline**"
   ]
  },
  {
   "cell_type": "code",
   "execution_count": 4,
   "metadata": {},
   "outputs": [],
   "source": [
    "from sklearn.decomposition import PCA\n",
    "estimators = [\n",
    "    ('simpleImputer', SimpleImputer()),\n",
    "    ('pca', PCA()),\n",
    "    ('regressor', LinearRegression())\n",
    "]\n",
    "pipe = Pipeline(steps=estimators)"
   ]
  },
  {
   "cell_type": "markdown",
   "metadata": {},
   "source": [
    "Let's print number of steps in this pipeline:"
   ]
  },
  {
   "cell_type": "code",
   "execution_count": 5,
   "metadata": {},
   "outputs": [
    {
     "name": "stdout",
     "output_type": "stream",
     "text": [
      "3\n"
     ]
    }
   ],
   "source": [
    "print(len(pipe.steps))"
   ]
  },
  {
   "cell_type": "markdown",
   "metadata": {},
   "source": [
    "Let's look at each of the steps:"
   ]
  },
  {
   "cell_type": "code",
   "execution_count": 6,
   "metadata": {},
   "outputs": [
    {
     "name": "stdout",
     "output_type": "stream",
     "text": [
      "[('simpleImputer', SimpleImputer()), ('pca', PCA()), ('regressor', LinearRegression())]\n"
     ]
    }
   ],
   "source": [
    "print(pipe.steps)"
   ]
  },
  {
   "cell_type": "markdown",
   "metadata": {},
   "source": [
    "The second estimator can be accessed in following 4 ways:"
   ]
  },
  {
   "cell_type": "code",
   "execution_count": 7,
   "metadata": {},
   "outputs": [
    {
     "name": "stdout",
     "output_type": "stream",
     "text": [
      "LinearRegression()\n"
     ]
    }
   ],
   "source": [
    "print(pipe.named_steps.regressor)"
   ]
  },
  {
   "cell_type": "code",
   "execution_count": 8,
   "metadata": {},
   "outputs": [
    {
     "data": {
      "text/plain": [
       "('pca', PCA())"
      ]
     },
     "execution_count": 8,
     "metadata": {},
     "output_type": "execute_result"
    }
   ],
   "source": [
    "pipe.steps[1]"
   ]
  },
  {
   "cell_type": "code",
   "execution_count": 9,
   "metadata": {},
   "outputs": [
    {
     "data": {
      "text/plain": [
       "PCA()"
      ]
     },
     "execution_count": 9,
     "metadata": {},
     "output_type": "execute_result"
    }
   ],
   "source": [
    "pipe['pca']"
   ]
  },
  {
   "cell_type": "markdown",
   "metadata": {},
   "source": [
    "### **3.Accessing parameters of a step in pipeline**\n",
    "\n",
    "Parameters of the estimators in the pipeline can be accessed using the __syntax, note there are two underscores. "
   ]
  },
  {
   "cell_type": "code",
   "execution_count": 10,
   "metadata": {},
   "outputs": [
    {
     "data": {
      "text/plain": [
       "Pipeline(steps=[('simpleImputer', SimpleImputer()),\n",
       "                ('pca', PCA(n_components=2)),\n",
       "                ('regressor', LinearRegression())])"
      ]
     },
     "execution_count": 10,
     "metadata": {},
     "output_type": "execute_result"
    }
   ],
   "source": [
    "estimators = [\n",
    "    ('simpleImputer', SimpleImputer()),\n",
    "    ('pca', PCA()),\n",
    "    ('regressor', LinearRegression())\n",
    "]\n",
    "\n",
    "pipe = Pipeline(steps=estimators)\n",
    "pipe.set_params(pca__n_components=2)"
   ]
  },
  {
   "cell_type": "markdown",
   "metadata": {},
   "source": [
    "In above example `n_components` of `PCA()` step is set after the pipeline is created.\n"
   ]
  },
  {
   "cell_type": "markdown",
   "metadata": {},
   "source": [
    "### **4.GridSeachCV with Pipeline**\n",
    "\n",
    "By using naming convention of nested parameters, grid search can be implemented."
   ]
  },
  {
   "cell_type": "code",
   "execution_count": 11,
   "metadata": {},
   "outputs": [],
   "source": [
    "from sklearn.impute import KNNImputer\n",
    "from sklearn.linear_model import LogisticRegression\n",
    "from sklearn.svm import SVC\n",
    "from sklearn.model_selection import GridSearchCV\n",
    "\n",
    "param_grid = dict(\n",
    "    imputer=['passthrough',SimpleImputer(),KNNImputer()],\n",
    "    clf=[SVC(), LogisticRegression()],\n",
    "    clf_C=[0.1, 1, 10, 100])\n",
    "\n",
    "grid_search = GridSearchCV(pipe, param_grid=param_grid)"
   ]
  },
  {
   "cell_type": "markdown",
   "metadata": {},
   "source": [
    "* `c` is an inverse of regularization, lower its value stronger the regularization is.\n",
    "\n",
    "* In the example above `clf_C` provides a set of values for grid search."
   ]
  },
  {
   "cell_type": "markdown",
   "metadata": {},
   "source": [
    "### **Caching Transformers**\n",
    "\n",
    "Transforming data is a computationally expensive step.\n",
    "* For grid search, transformers need not be applied for every parameter configuration. \n",
    "\n",
    "* They can be applied only once, and the transformed data can be reused.\n",
    "\n",
    "* This can be achived by setting `memory` parameter of `pipeline` object.\n"
   ]
  },
  {
   "cell_type": "code",
   "execution_count": 12,
   "metadata": {},
   "outputs": [],
   "source": [
    "import tempfile \n",
    "tempDirPath = tempfile.TemporaryDirectory()"
   ]
  },
  {
   "cell_type": "code",
   "execution_count": 13,
   "metadata": {},
   "outputs": [],
   "source": [
    "estimators = [\n",
    "              ('simpleImputer', SimpleImputer()),\n",
    "              ('pca', PCA(2)),\n",
    "              ('regressor',LinearRegression())\n",
    "]\n",
    "\n",
    "pipe = Pipeline(steps = estimators ,memory = tempDirPath)"
   ]
  },
  {
   "cell_type": "markdown",
   "metadata": {},
   "source": [
    "### **FeatureUnion** \n",
    "Concatenates results of multiple transformer objects.\n",
    "\n",
    "* Applies a list of transformer objects in parallel, and their outputs are concatenated side-by-side into a larger matrix.\n",
    "\n",
    "* `FeatuerUnion` and `Pipeline` can be used to create complex transformers."
   ]
  },
  {
   "cell_type": "markdown",
   "metadata": {},
   "source": [
    "### **5.Visualizing Pipelines**"
   ]
  },
  {
   "cell_type": "code",
   "execution_count": 14,
   "metadata": {},
   "outputs": [],
   "source": [
    "from sklearn.preprocessing import StandardScaler, LabelBinarizer\n",
    "from sklearn.pipeline import Pipeline, FeatureUnion\n",
    "from sklearn.compose import ColumnTransformer\n",
    "from sklearn.impute import SimpleImputer\n",
    "\n",
    "num_pipeline = Pipeline([\n",
    "    ('selector', ColumnTransformer([(\n",
    "        'select_first_4', 'passthrough', slice(0, 4))])),\n",
    "\n",
    "    ('imputer', SimpleImputer(strategy='median')),\n",
    "    ('scaler', StandardScaler()),\n",
    "])\n",
    "\n",
    "cat_pipeline = ColumnTransformer([\n",
    "    ('label_binarizer', LabelBinarizer(), [4]),\n",
    "])\n",
    "\n",
    "full_pipeline = FeatureUnion(transformer_list=[('num_pipeline', num_pipeline),\n",
    "                                               ('cat_pipeline', cat_pipeline)\n",
    "                                               ])\n"
   ]
  },
  {
   "cell_type": "code",
   "execution_count": 15,
   "metadata": {},
   "outputs": [
    {
     "data": {
      "text/html": [
       "<style>#sk-42b5463e-b9a1-4550-8583-c5de55f0fecb {color: black;background-color: white;}#sk-42b5463e-b9a1-4550-8583-c5de55f0fecb pre{padding: 0;}#sk-42b5463e-b9a1-4550-8583-c5de55f0fecb div.sk-toggleable {background-color: white;}#sk-42b5463e-b9a1-4550-8583-c5de55f0fecb label.sk-toggleable__label {cursor: pointer;display: block;width: 100%;margin-bottom: 0;padding: 0.3em;box-sizing: border-box;text-align: center;}#sk-42b5463e-b9a1-4550-8583-c5de55f0fecb label.sk-toggleable__label-arrow:before {content: \"▸\";float: left;margin-right: 0.25em;color: #696969;}#sk-42b5463e-b9a1-4550-8583-c5de55f0fecb label.sk-toggleable__label-arrow:hover:before {color: black;}#sk-42b5463e-b9a1-4550-8583-c5de55f0fecb div.sk-estimator:hover label.sk-toggleable__label-arrow:before {color: black;}#sk-42b5463e-b9a1-4550-8583-c5de55f0fecb div.sk-toggleable__content {max-height: 0;max-width: 0;overflow: hidden;text-align: left;background-color: #f0f8ff;}#sk-42b5463e-b9a1-4550-8583-c5de55f0fecb div.sk-toggleable__content pre {margin: 0.2em;color: black;border-radius: 0.25em;background-color: #f0f8ff;}#sk-42b5463e-b9a1-4550-8583-c5de55f0fecb input.sk-toggleable__control:checked~div.sk-toggleable__content {max-height: 200px;max-width: 100%;overflow: auto;}#sk-42b5463e-b9a1-4550-8583-c5de55f0fecb input.sk-toggleable__control:checked~label.sk-toggleable__label-arrow:before {content: \"▾\";}#sk-42b5463e-b9a1-4550-8583-c5de55f0fecb div.sk-estimator input.sk-toggleable__control:checked~label.sk-toggleable__label {background-color: #d4ebff;}#sk-42b5463e-b9a1-4550-8583-c5de55f0fecb div.sk-label input.sk-toggleable__control:checked~label.sk-toggleable__label {background-color: #d4ebff;}#sk-42b5463e-b9a1-4550-8583-c5de55f0fecb input.sk-hidden--visually {border: 0;clip: rect(1px 1px 1px 1px);clip: rect(1px, 1px, 1px, 1px);height: 1px;margin: -1px;overflow: hidden;padding: 0;position: absolute;width: 1px;}#sk-42b5463e-b9a1-4550-8583-c5de55f0fecb div.sk-estimator {font-family: monospace;background-color: #f0f8ff;border: 1px dotted black;border-radius: 0.25em;box-sizing: border-box;margin-bottom: 0.5em;}#sk-42b5463e-b9a1-4550-8583-c5de55f0fecb div.sk-estimator:hover {background-color: #d4ebff;}#sk-42b5463e-b9a1-4550-8583-c5de55f0fecb div.sk-parallel-item::after {content: \"\";width: 100%;border-bottom: 1px solid gray;flex-grow: 1;}#sk-42b5463e-b9a1-4550-8583-c5de55f0fecb div.sk-label:hover label.sk-toggleable__label {background-color: #d4ebff;}#sk-42b5463e-b9a1-4550-8583-c5de55f0fecb div.sk-serial::before {content: \"\";position: absolute;border-left: 1px solid gray;box-sizing: border-box;top: 2em;bottom: 0;left: 50%;}#sk-42b5463e-b9a1-4550-8583-c5de55f0fecb div.sk-serial {display: flex;flex-direction: column;align-items: center;background-color: white;padding-right: 0.2em;padding-left: 0.2em;}#sk-42b5463e-b9a1-4550-8583-c5de55f0fecb div.sk-item {z-index: 1;}#sk-42b5463e-b9a1-4550-8583-c5de55f0fecb div.sk-parallel {display: flex;align-items: stretch;justify-content: center;background-color: white;}#sk-42b5463e-b9a1-4550-8583-c5de55f0fecb div.sk-parallel::before {content: \"\";position: absolute;border-left: 1px solid gray;box-sizing: border-box;top: 2em;bottom: 0;left: 50%;}#sk-42b5463e-b9a1-4550-8583-c5de55f0fecb div.sk-parallel-item {display: flex;flex-direction: column;position: relative;background-color: white;}#sk-42b5463e-b9a1-4550-8583-c5de55f0fecb div.sk-parallel-item:first-child::after {align-self: flex-end;width: 50%;}#sk-42b5463e-b9a1-4550-8583-c5de55f0fecb div.sk-parallel-item:last-child::after {align-self: flex-start;width: 50%;}#sk-42b5463e-b9a1-4550-8583-c5de55f0fecb div.sk-parallel-item:only-child::after {width: 0;}#sk-42b5463e-b9a1-4550-8583-c5de55f0fecb div.sk-dashed-wrapped {border: 1px dashed gray;margin: 0 0.4em 0.5em 0.4em;box-sizing: border-box;padding-bottom: 0.4em;background-color: white;position: relative;}#sk-42b5463e-b9a1-4550-8583-c5de55f0fecb div.sk-label label {font-family: monospace;font-weight: bold;background-color: white;display: inline-block;line-height: 1.2em;}#sk-42b5463e-b9a1-4550-8583-c5de55f0fecb div.sk-label-container {position: relative;z-index: 2;text-align: center;}#sk-42b5463e-b9a1-4550-8583-c5de55f0fecb div.sk-container {/* jupyter's `normalize.less` sets `[hidden] { display: none; }` but bootstrap.min.css set `[hidden] { display: none !important; }` so we also need the `!important` here to be able to override the default hidden behavior on the sphinx rendered scikit-learn.org. See: https://github.com/scikit-learn/scikit-learn/issues/21755 */display: inline-block !important;position: relative;}#sk-42b5463e-b9a1-4550-8583-c5de55f0fecb div.sk-text-repr-fallback {display: none;}</style><div id=\"sk-42b5463e-b9a1-4550-8583-c5de55f0fecb\" class=\"sk-top-container\"><div class=\"sk-text-repr-fallback\"><pre>FeatureUnion(transformer_list=[(&#x27;num_pipeline&#x27;,\n",
       "                                Pipeline(steps=[(&#x27;selector&#x27;,\n",
       "                                                 ColumnTransformer(transformers=[(&#x27;select_first_4&#x27;,\n",
       "                                                                                  &#x27;passthrough&#x27;,\n",
       "                                                                                  slice(0, 4, None))])),\n",
       "                                                (&#x27;imputer&#x27;,\n",
       "                                                 SimpleImputer(strategy=&#x27;median&#x27;)),\n",
       "                                                (&#x27;scaler&#x27;, StandardScaler())])),\n",
       "                               (&#x27;cat_pipeline&#x27;,\n",
       "                                ColumnTransformer(transformers=[(&#x27;label_binarizer&#x27;,\n",
       "                                                                 LabelBinarizer(),\n",
       "                                                                 [4])]))])</pre><b>Please rerun this cell to show the HTML repr or trust the notebook.</b></div><div class=\"sk-container\" hidden><div class=\"sk-item sk-dashed-wrapped\"><div class=\"sk-label-container\"><div class=\"sk-label sk-toggleable\"><input class=\"sk-toggleable__control sk-hidden--visually\" id=\"d2c548c9-433d-4d83-8651-271f3facf3f4\" type=\"checkbox\" ><label for=\"d2c548c9-433d-4d83-8651-271f3facf3f4\" class=\"sk-toggleable__label sk-toggleable__label-arrow\">FeatureUnion</label><div class=\"sk-toggleable__content\"><pre>FeatureUnion(transformer_list=[(&#x27;num_pipeline&#x27;,\n",
       "                                Pipeline(steps=[(&#x27;selector&#x27;,\n",
       "                                                 ColumnTransformer(transformers=[(&#x27;select_first_4&#x27;,\n",
       "                                                                                  &#x27;passthrough&#x27;,\n",
       "                                                                                  slice(0, 4, None))])),\n",
       "                                                (&#x27;imputer&#x27;,\n",
       "                                                 SimpleImputer(strategy=&#x27;median&#x27;)),\n",
       "                                                (&#x27;scaler&#x27;, StandardScaler())])),\n",
       "                               (&#x27;cat_pipeline&#x27;,\n",
       "                                ColumnTransformer(transformers=[(&#x27;label_binarizer&#x27;,\n",
       "                                                                 LabelBinarizer(),\n",
       "                                                                 [4])]))])</pre></div></div></div><div class=\"sk-parallel\"><div class=\"sk-parallel-item\"><div class=\"sk-item\"><div class=\"sk-label-container\"><div class=\"sk-label sk-toggleable\"><label>num_pipeline</label></div></div><div class=\"sk-serial\"><div class=\"sk-item\"><div class=\"sk-serial\"><div class=\"sk-item sk-dashed-wrapped\"><div class=\"sk-label-container\"><div class=\"sk-label sk-toggleable\"><input class=\"sk-toggleable__control sk-hidden--visually\" id=\"54864a1f-c3aa-4fdc-925c-3b8eeef134f0\" type=\"checkbox\" ><label for=\"54864a1f-c3aa-4fdc-925c-3b8eeef134f0\" class=\"sk-toggleable__label sk-toggleable__label-arrow\">selector: ColumnTransformer</label><div class=\"sk-toggleable__content\"><pre>ColumnTransformer(transformers=[(&#x27;select_first_4&#x27;, &#x27;passthrough&#x27;,\n",
       "                                 slice(0, 4, None))])</pre></div></div></div><div class=\"sk-parallel\"><div class=\"sk-parallel-item\"><div class=\"sk-item\"><div class=\"sk-label-container\"><div class=\"sk-label sk-toggleable\"><input class=\"sk-toggleable__control sk-hidden--visually\" id=\"5aa1c669-7365-47df-9f89-99bb25b43b60\" type=\"checkbox\" ><label for=\"5aa1c669-7365-47df-9f89-99bb25b43b60\" class=\"sk-toggleable__label sk-toggleable__label-arrow\">select_first_4</label><div class=\"sk-toggleable__content\"><pre>slice(0, 4, None)</pre></div></div></div><div class=\"sk-serial\"><div class=\"sk-item\"><div class=\"sk-estimator sk-toggleable\"><input class=\"sk-toggleable__control sk-hidden--visually\" id=\"e55e058c-5b8c-450e-beb7-2200e0f8e9db\" type=\"checkbox\" ><label for=\"e55e058c-5b8c-450e-beb7-2200e0f8e9db\" class=\"sk-toggleable__label sk-toggleable__label-arrow\">passthrough</label><div class=\"sk-toggleable__content\"><pre>passthrough</pre></div></div></div></div></div></div></div></div><div class=\"sk-item\"><div class=\"sk-estimator sk-toggleable\"><input class=\"sk-toggleable__control sk-hidden--visually\" id=\"142ca21e-f051-4980-8e58-f0ad5c3a749c\" type=\"checkbox\" ><label for=\"142ca21e-f051-4980-8e58-f0ad5c3a749c\" class=\"sk-toggleable__label sk-toggleable__label-arrow\">SimpleImputer</label><div class=\"sk-toggleable__content\"><pre>SimpleImputer(strategy=&#x27;median&#x27;)</pre></div></div></div><div class=\"sk-item\"><div class=\"sk-estimator sk-toggleable\"><input class=\"sk-toggleable__control sk-hidden--visually\" id=\"4511185a-3406-4287-82d2-f91c00062b1e\" type=\"checkbox\" ><label for=\"4511185a-3406-4287-82d2-f91c00062b1e\" class=\"sk-toggleable__label sk-toggleable__label-arrow\">StandardScaler</label><div class=\"sk-toggleable__content\"><pre>StandardScaler()</pre></div></div></div></div></div></div></div></div><div class=\"sk-parallel-item\"><div class=\"sk-item\"><div class=\"sk-label-container\"><div class=\"sk-label sk-toggleable\"><label>cat_pipeline</label></div></div><div class=\"sk-serial\"><div class=\"sk-item sk-dashed-wrapped\"><div class=\"sk-parallel\"><div class=\"sk-parallel-item\"><div class=\"sk-item\"><div class=\"sk-label-container\"><div class=\"sk-label sk-toggleable\"><input class=\"sk-toggleable__control sk-hidden--visually\" id=\"9040d01b-4956-435c-82f2-1de0819c9430\" type=\"checkbox\" ><label for=\"9040d01b-4956-435c-82f2-1de0819c9430\" class=\"sk-toggleable__label sk-toggleable__label-arrow\">label_binarizer</label><div class=\"sk-toggleable__content\"><pre>[4]</pre></div></div></div><div class=\"sk-serial\"><div class=\"sk-item\"><div class=\"sk-estimator sk-toggleable\"><input class=\"sk-toggleable__control sk-hidden--visually\" id=\"023d310a-6637-4f63-84b9-142e39acf419\" type=\"checkbox\" ><label for=\"023d310a-6637-4f63-84b9-142e39acf419\" class=\"sk-toggleable__label sk-toggleable__label-arrow\">LabelBinarizer</label><div class=\"sk-toggleable__content\"><pre>LabelBinarizer()</pre></div></div></div></div></div></div></div></div></div></div></div></div></div></div></div>"
      ],
      "text/plain": [
       "FeatureUnion(transformer_list=[('num_pipeline',\n",
       "                                Pipeline(steps=[('selector',\n",
       "                                                 ColumnTransformer(transformers=[('select_first_4',\n",
       "                                                                                  'passthrough',\n",
       "                                                                                  slice(0, 4, None))])),\n",
       "                                                ('imputer',\n",
       "                                                 SimpleImputer(strategy='median')),\n",
       "                                                ('scaler', StandardScaler())])),\n",
       "                               ('cat_pipeline',\n",
       "                                ColumnTransformer(transformers=[('label_binarizer',\n",
       "                                                                 LabelBinarizer(),\n",
       "                                                                 [4])]))])"
      ]
     },
     "execution_count": 15,
     "metadata": {},
     "output_type": "execute_result"
    }
   ],
   "source": [
    "from sklearn import set_config\n",
    "set_config(display='diagram')\n",
    "\n",
    "#displays HTML representation in a jupyter context\n",
    "full_pipeline"
   ]
  }
 ],
 "metadata": {
  "kernelspec": {
   "display_name": "Python 3.9.7 ('tensorflow')",
   "language": "python",
   "name": "python3"
  },
  "language_info": {
   "codemirror_mode": {
    "name": "ipython",
    "version": 3
   },
   "file_extension": ".py",
   "mimetype": "text/x-python",
   "name": "python",
   "nbconvert_exporter": "python",
   "pygments_lexer": "ipython3",
   "version": "3.9.7"
  },
  "orig_nbformat": 4,
  "vscode": {
   "interpreter": {
    "hash": "32f02dc107888b055323539767db1f9cf579f03b0ed3a3ace7986ed2d38433ec"
   }
  }
 },
 "nbformat": 4,
 "nbformat_minor": 2
}
