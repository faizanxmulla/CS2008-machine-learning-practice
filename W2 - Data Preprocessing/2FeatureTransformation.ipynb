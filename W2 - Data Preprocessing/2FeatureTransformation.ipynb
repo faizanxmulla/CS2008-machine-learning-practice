{
 "cells": [
  {
   "cell_type": "markdown",
   "metadata": {},
   "source": [
    "Import necessary libraries"
   ]
  },
  {
   "cell_type": "code",
   "execution_count": 1,
   "metadata": {},
   "outputs": [],
   "source": [
    "from IPython.display import display, Math, Latex\n",
    "\n",
    "import numpy as np\n",
    "import pandas as pd\n",
    "import matplotlib.pyplot as plt\n",
    "import seaborn as sns\n",
    "sns.set_theme(style=\"whitegrid\")"
   ]
  },
  {
   "cell_type": "markdown",
   "metadata": {},
   "source": [
    "## Feature Transformations"
   ]
  },
  {
   "cell_type": "markdown",
   "metadata": {},
   "source": [
    "### **1.Polynomial Features**\n",
    "\n",
    "* Generates a new feature matrix consisting of all polynomial combinations of the features with degree less than or equal to the specified degree. \n",
    "\n",
    "* For example, if an input sample is two dimensional and of the form  $[a,b]$ , the degree-2 polynomial features are  $[1,a,a^2,b,b^2 ,ab]$ . \n",
    "\n",
    "* `sklearn.preprocessing.PolynomialFeatures` enables us to perform polynomial transformation of desired degree. \n",
    "\n",
    "Let's demonstrate it with wine quality dataset : "
   ]
  },
  {
   "cell_type": "code",
   "execution_count": 2,
   "metadata": {},
   "outputs": [
    {
     "name": "stdout",
     "output_type": "stream",
     "text": [
      "Number of features before transformation =  (1599, 11)\n"
     ]
    }
   ],
   "source": [
    "from sklearn.preprocessing import PolynomialFeatures \n",
    "\n",
    "wine_data = pd.read_csv('https://archive.ics.uci.edu/ml/machine-learning-databases/wine-quality/winequality-red.csv',sep=';')\n",
    "\n",
    "wine_data_copy = wine_data.copy()\n",
    "wine_data = wine_data.drop(['quality'] ,axis=1)\n",
    "\n",
    "print('Number of features before transformation = ', wine_data.shape)"
   ]
  },
  {
   "cell_type": "code",
   "execution_count": 3,
   "metadata": {},
   "outputs": [
    {
     "name": "stdout",
     "output_type": "stream",
     "text": [
      "Number of features after transformation =  (1599, 78)\n"
     ]
    }
   ],
   "source": [
    "poly = PolynomialFeatures(degree=2)\n",
    "wine_data_poly = poly.fit_transform(wine_data) \n",
    "print('Number of features after transformation = ', wine_data_poly.shape)"
   ]
  },
  {
   "cell_type": "markdown",
   "metadata": {},
   "source": [
    "Note that after transformation, we have 78 features. Let's list out these features:"
   ]
  },
  {
   "cell_type": "code",
   "execution_count": 4,
   "metadata": {},
   "outputs": [
    {
     "data": {
      "text/plain": [
       "array(['1', 'fixed acidity', 'volatile acidity', 'citric acid',\n",
       "       'residual sugar', 'chlorides', 'free sulfur dioxide',\n",
       "       'total sulfur dioxide', 'density', 'pH', 'sulphates', 'alcohol',\n",
       "       'fixed acidity^2', 'fixed acidity volatile acidity',\n",
       "       'fixed acidity citric acid', 'fixed acidity residual sugar',\n",
       "       'fixed acidity chlorides', 'fixed acidity free sulfur dioxide',\n",
       "       'fixed acidity total sulfur dioxide', 'fixed acidity density',\n",
       "       'fixed acidity pH', 'fixed acidity sulphates',\n",
       "       'fixed acidity alcohol', 'volatile acidity^2',\n",
       "       'volatile acidity citric acid', 'volatile acidity residual sugar',\n",
       "       'volatile acidity chlorides',\n",
       "       'volatile acidity free sulfur dioxide',\n",
       "       'volatile acidity total sulfur dioxide',\n",
       "       'volatile acidity density', 'volatile acidity pH',\n",
       "       'volatile acidity sulphates', 'volatile acidity alcohol',\n",
       "       'citric acid^2', 'citric acid residual sugar',\n",
       "       'citric acid chlorides', 'citric acid free sulfur dioxide',\n",
       "       'citric acid total sulfur dioxide', 'citric acid density',\n",
       "       'citric acid pH', 'citric acid sulphates', 'citric acid alcohol',\n",
       "       'residual sugar^2', 'residual sugar chlorides',\n",
       "       'residual sugar free sulfur dioxide',\n",
       "       'residual sugar total sulfur dioxide', 'residual sugar density',\n",
       "       'residual sugar pH', 'residual sugar sulphates',\n",
       "       'residual sugar alcohol', 'chlorides^2',\n",
       "       'chlorides free sulfur dioxide', 'chlorides total sulfur dioxide',\n",
       "       'chlorides density', 'chlorides pH', 'chlorides sulphates',\n",
       "       'chlorides alcohol', 'free sulfur dioxide^2',\n",
       "       'free sulfur dioxide total sulfur dioxide',\n",
       "       'free sulfur dioxide density', 'free sulfur dioxide pH',\n",
       "       'free sulfur dioxide sulphates', 'free sulfur dioxide alcohol',\n",
       "       'total sulfur dioxide^2', 'total sulfur dioxide density',\n",
       "       'total sulfur dioxide pH', 'total sulfur dioxide sulphates',\n",
       "       'total sulfur dioxide alcohol', 'density^2', 'density pH',\n",
       "       'density sulphates', 'density alcohol', 'pH^2', 'pH sulphates',\n",
       "       'pH alcohol', 'sulphates^2', 'sulphates alcohol', 'alcohol^2'],\n",
       "      dtype=object)"
      ]
     },
     "execution_count": 4,
     "metadata": {},
     "output_type": "execute_result"
    }
   ],
   "source": [
    "poly.get_feature_names_out()"
   ]
  },
  {
   "cell_type": "markdown",
   "metadata": {},
   "source": [
    "Observe that :\n",
    "* Some features have ^2 suffix - these are degree-2 features of input features. For example, `sulphates^2` is the square of `sulphates` features.\n",
    "\n",
    "* Some features are combination of names of the original feature names. For example, `total sulfur dioxide pH` is a combinationn of two features `total sulfur dioxide` and `pH`."
   ]
  },
  {
   "cell_type": "markdown",
   "metadata": {},
   "source": [
    "### **2.Discretization**\n",
    "\n",
    "**Discretization** (otherwise known as **quantization or binning**) provides a way to partition continuous features into discrete values.\n",
    "\n",
    "\n",
    "* Certain datasets with continuous features may benefit from discretization, because it can transform the datasets of continuous attributes to one with only nominal attributes.\n",
    "\n",
    "* One-hot encoded discretized features can make a model more expressive, while maintaining interpretability.\n",
    "\n",
    "* For instance, pre-processing with discretizer can introduce non-linearity to linear models.\n",
    "\n",
    "`KBinsDiscretizer` discretizes features into `k-bins`."
   ]
  },
  {
   "cell_type": "code",
   "execution_count": 5,
   "metadata": {},
   "outputs": [],
   "source": [
    "from sklearn.preprocessing import KBinsDiscretizer"
   ]
  },
  {
   "cell_type": "code",
   "execution_count": 6,
   "metadata": {},
   "outputs": [],
   "source": [
    "wine_data = wine_data_copy.copy()\n",
    "\n",
    "#transform the dataset with KBinDiscretizer\n",
    "kbd = KBinsDiscretizer(n_bins=10, encode='onehot')\n",
    "\n",
    "X = np.array(wine_data['chlorides']).reshape(-1, 1)\n",
    "X_binned = kbd.fit_transform(X)"
   ]
  },
  {
   "cell_type": "code",
   "execution_count": 7,
   "metadata": {},
   "outputs": [
    {
     "data": {
      "text/plain": [
       "<1599x10 sparse matrix of type '<class 'numpy.float64'>'\n",
       "\twith 1599 stored elements in Compressed Sparse Row format>"
      ]
     },
     "execution_count": 7,
     "metadata": {},
     "output_type": "execute_result"
    }
   ],
   "source": [
    "X_binned"
   ]
  },
  {
   "cell_type": "code",
   "execution_count": 8,
   "metadata": {},
   "outputs": [
    {
     "data": {
      "text/plain": [
       "array([[0., 0., 0., 0., 1., 0., 0., 0., 0., 0.],\n",
       "       [0., 0., 0., 0., 0., 0., 0., 0., 1., 0.],\n",
       "       [0., 0., 0., 0., 0., 0., 0., 1., 0., 0.],\n",
       "       [0., 0., 0., 1., 0., 0., 0., 0., 0., 0.],\n",
       "       [0., 0., 0., 0., 1., 0., 0., 0., 0., 0.]])"
      ]
     },
     "execution_count": 8,
     "metadata": {},
     "output_type": "execute_result"
    }
   ],
   "source": [
    "X_binned.toarray()[:5]"
   ]
  },
  {
   "cell_type": "markdown",
   "metadata": {},
   "source": [
    "### **3.Handling Categorical Features**\n",
    "\n",
    "We need to convert the categorical features into numeric features. It includes :\n",
    "1. Ordinal encoding\n",
    "\n",
    "2. One hot encoding\n",
    "\n",
    "3. Label encoding\n",
    "\n",
    "4. MultiLabel Binarizer\n",
    "\n",
    "5. Using dummy variables"
   ]
  },
  {
   "cell_type": "markdown",
   "metadata": {},
   "source": [
    "[Iris dataset](https://archive.ics.uci.edu/ml/machine-learning-databases/iris/iris.data) has the following features:\n",
    "\n",
    "1. sepal length (in cm)\n",
    "\n",
    "2. sepal width (in cm)\n",
    "\n",
    "3. petal length (in cm)\n",
    "\n",
    "4. petal width (in cm)\n",
    "\n",
    "class : Iris Setosa, Iris Versicolour, Iris Virginica"
   ]
  },
  {
   "cell_type": "code",
   "execution_count": 9,
   "metadata": {},
   "outputs": [
    {
     "data": {
      "text/html": [
       "<div>\n",
       "<style scoped>\n",
       "    .dataframe tbody tr th:only-of-type {\n",
       "        vertical-align: middle;\n",
       "    }\n",
       "\n",
       "    .dataframe tbody tr th {\n",
       "        vertical-align: top;\n",
       "    }\n",
       "\n",
       "    .dataframe thead th {\n",
       "        text-align: right;\n",
       "    }\n",
       "</style>\n",
       "<table border=\"1\" class=\"dataframe\">\n",
       "  <thead>\n",
       "    <tr style=\"text-align: right;\">\n",
       "      <th></th>\n",
       "      <th>sepal length</th>\n",
       "      <th>sepal width</th>\n",
       "      <th>petal width</th>\n",
       "      <th>label</th>\n",
       "    </tr>\n",
       "  </thead>\n",
       "  <tbody>\n",
       "    <tr>\n",
       "      <th>5.1</th>\n",
       "      <td>3.5</td>\n",
       "      <td>1.4</td>\n",
       "      <td>0.2</td>\n",
       "      <td>Iris-setosa</td>\n",
       "    </tr>\n",
       "    <tr>\n",
       "      <th>4.9</th>\n",
       "      <td>3.0</td>\n",
       "      <td>1.4</td>\n",
       "      <td>0.2</td>\n",
       "      <td>Iris-setosa</td>\n",
       "    </tr>\n",
       "    <tr>\n",
       "      <th>4.7</th>\n",
       "      <td>3.2</td>\n",
       "      <td>1.3</td>\n",
       "      <td>0.2</td>\n",
       "      <td>Iris-setosa</td>\n",
       "    </tr>\n",
       "    <tr>\n",
       "      <th>4.6</th>\n",
       "      <td>3.1</td>\n",
       "      <td>1.5</td>\n",
       "      <td>0.2</td>\n",
       "      <td>Iris-setosa</td>\n",
       "    </tr>\n",
       "    <tr>\n",
       "      <th>5.0</th>\n",
       "      <td>3.6</td>\n",
       "      <td>1.4</td>\n",
       "      <td>0.2</td>\n",
       "      <td>Iris-setosa</td>\n",
       "    </tr>\n",
       "  </tbody>\n",
       "</table>\n",
       "</div>"
      ],
      "text/plain": [
       "     sepal length  sepal width  petal width        label\n",
       "5.1           3.5          1.4          0.2  Iris-setosa\n",
       "4.9           3.0          1.4          0.2  Iris-setosa\n",
       "4.7           3.2          1.3          0.2  Iris-setosa\n",
       "4.6           3.1          1.5          0.2  Iris-setosa\n",
       "5.0           3.6          1.4          0.2  Iris-setosa"
      ]
     },
     "execution_count": 9,
     "metadata": {},
     "output_type": "execute_result"
    }
   ],
   "source": [
    "cols = ['sepal length', 'sepal width', 'petal width', 'label']\n",
    "\n",
    "iris_data = pd.read_csv(\n",
    "    'https://archive.ics.uci.edu/ml/machine-learning-databases/iris/iris.data', header=None, names=cols)\n",
    "\n",
    "iris_data.head()"
   ]
  },
  {
   "cell_type": "markdown",
   "metadata": {},
   "source": [
    "**1. Ordinal Encoding** \n",
    "\n",
    "* Categorical features are those that contain categories or groups such as education level, state etc as their data. \n",
    "\n",
    "* These are non-numerical features and need to be converted into appropriate from before they feeding them for training an ML model.\n",
    "\n",
    "* Our intuitive way of handling them could be to assign them a numerical value.\n",
    "\n",
    "* As an example, take state as a feature with 'Punjab', Rajasthan, and Haryana as the possible values. We might consider assigning number to these values as follows:\n",
    "\n",
    "    Old feature | New feature\n",
    "    ------------|-------------\n",
    "    Punjab      |     1\n",
    "    Rajasthan   |     2\n",
    "    Haryana     |     3\n",
    "\n",
    "\n",
    "\n",
    "However, this approach assigns some ordering to the labels, i.e. states, thus representing that Haryana is thrice Punjab and Rajasthan is twice Pubjab, these relationships do not exist in the data, thus providing wrong information to the ML model.\n",
    "\n",
    "Let's demonstrate this concept with `Iris` dataset."
   ]
  },
  {
   "cell_type": "code",
   "execution_count": 10,
   "metadata": {},
   "outputs": [
    {
     "name": "stdout",
     "output_type": "stream",
     "text": [
      "[0. 1. 2.]\n",
      "\n",
      "First 5 labels in ordinal encoded form are : \n",
      " [[0.]\n",
      " [0.]\n",
      " [0.]\n",
      " [0.]\n",
      " [0.]]\n"
     ]
    }
   ],
   "source": [
    "from sklearn.preprocessing import OrdinalEncoder\n",
    "ordinal = OrdinalEncoder()\n",
    "\n",
    "iris_labels = np.array(iris_data['label'])\n",
    "\n",
    "iris_labels_transformed = ordinal.fit_transform(iris_labels.reshape(-1, 1))\n",
    "print(np.unique(iris_labels_transformed))\n",
    "\n",
    "print()\n",
    "print('First 5 labels in ordinal encoded form are : \\n',\n",
    "      iris_labels_transformed[:5])\n"
   ]
  },
  {
   "cell_type": "markdown",
   "metadata": {},
   "source": [
    "**2. One-hot Encoding**\n",
    "\n",
    "* This approach consists of creating an addtional feature for each label present in categorical feature(i.e. the number of different states here) and putting a 1 or 0 for these new features depending on the categorical feature's value. That is, \n",
    "\n",
    "\n",
    "Old feature  |   New feature_1 (punjab) | New feature_2 (Rajasthan) | New feature_3(Haryana) \n",
    "--------------|---------------------------|---------------------------|------------------------\n",
    "Punjab        |          1                |           0               |         0\n",
    "Rajasthan     |          0                |           1               |         0\n",
    "Haryana       |          0                |           1               |         0\n",
    "\n",
    "\n",
    "* It may be implemented using `OneHotEncoder` class from sklearn.preprocessing module. \n"
   ]
  },
  {
   "cell_type": "markdown",
   "metadata": {},
   "source": [
    "The `label` in the iris dataset is a categorical attribute."
   ]
  },
  {
   "cell_type": "code",
   "execution_count": 11,
   "metadata": {},
   "outputs": [
    {
     "data": {
      "text/plain": [
       "array(['Iris-setosa', 'Iris-versicolor', 'Iris-virginica'], dtype=object)"
      ]
     },
     "execution_count": 11,
     "metadata": {},
     "output_type": "execute_result"
    }
   ],
   "source": [
    "iris_data.label.unique()"
   ]
  },
  {
   "cell_type": "markdown",
   "metadata": {},
   "source": [
    "There are three class labels. Let's convert them to one hot vectors."
   ]
  },
  {
   "cell_type": "code",
   "execution_count": 12,
   "metadata": {},
   "outputs": [
    {
     "name": "stdout",
     "output_type": "stream",
     "text": [
      "Shape of y before encoding :  (150,)\n",
      "Shape of y after encoding :  (150, 3)\n",
      "\n",
      "First 5 labels in one-hot vector form are : \n",
      " [[1. 0. 0.]\n",
      " [1. 0. 0.]\n",
      " [1. 0. 0.]\n",
      " [1. 0. 0.]\n",
      " [1. 0. 0.]]\n"
     ]
    }
   ],
   "source": [
    "from sklearn.preprocessing import OneHotEncoder\n",
    "one_hot_encoder = OneHotEncoder()\n",
    "\n",
    "print('Shape of y before encoding : ', iris_data.label.shape)\n",
    "\n",
    "\n",
    "''' \n",
    "Passing 1d arrays as data to onehotcoder is deprecated in version, hence reshape to (-1,1) to have two dimensions. \n",
    "\n",
    "Input of onehotencoder fit_transform must not be 1-rank array\n",
    "'''\n",
    "\n",
    "iris_labels = one_hot_encoder.fit_transform(iris_data.label.values.reshape(-1, 1))\n",
    "\n",
    "# y.reshape(-1,1) is a 450 x 1 sparse matrix of type <class numpy.float64>\n",
    "\n",
    "# y is a 150 x 3 sparse matrix of type <class numpy.float64> with 150 stored\n",
    "# elements in Coordinate format.\n",
    "\n",
    "print('Shape of y after encoding : ', iris_labels.shape)\n",
    "\n",
    "# since output is sparse use toarray() to expand it.\n",
    "print()\n",
    "print('First 5 labels in one-hot vector form are : \\n',iris_labels.toarray()[:5])\n",
    "\n"
   ]
  },
  {
   "cell_type": "markdown",
   "metadata": {},
   "source": [
    "**3. Label Encoding**\n",
    "\n",
    "Another option is to use `LabelEncoder` for transforming categorical features into integer codes."
   ]
  },
  {
   "cell_type": "code",
   "execution_count": 13,
   "metadata": {},
   "outputs": [
    {
     "name": "stdout",
     "output_type": "stream",
     "text": [
      "Labels in integer form are : \n",
      " [0 0 0 0 0 0 0 0 0 0 0 0 0 0 0 0 0 0 0 0 0 0 0 0 0 0 0 0 0 0 0 0 0 0 0 0 0\n",
      " 0 0 0 0 0 0 0 0 0 0 0 0 0 1 1 1 1 1 1 1 1 1 1 1 1 1 1 1 1 1 1 1 1 1 1 1 1\n",
      " 1 1 1 1 1 1 1 1 1 1 1 1 1 1 1 1 1 1 1 1 1 1 1 1 1 1 2 2 2 2 2 2 2 2 2 2 2\n",
      " 2 2 2 2 2 2 2 2 2 2 2 2 2 2 2 2 2 2 2 2 2 2 2 2 2 2 2 2 2 2 2 2 2 2 2 2 2\n",
      " 2 2]\n"
     ]
    }
   ],
   "source": [
    "from sklearn.preprocessing import LabelEncoder\n",
    "\n",
    "iris_labels = np.array(iris_data['label'])\n",
    "\n",
    "label = LabelEncoder()\n",
    "label_integer = label.fit_transform(iris_labels)\n",
    "\n",
    "print('Labels in integer form are : \\n', label_integer)"
   ]
  },
  {
   "cell_type": "markdown",
   "metadata": {},
   "source": [
    "**4. MultiLabel Binarizer**\n",
    "\n",
    "* Encodes categorical features with value 0 to $ k-1$ where $k$ is number of classes. \n",
    "\n",
    "* As the name suggests for case where output are multilabels there we use each unique label as column and assign 0 or 1 depending upon in the dataset that value is present or not. \n",
    "\n",
    "Movie genres is best example to understand."
   ]
  },
  {
   "cell_type": "code",
   "execution_count": 14,
   "metadata": {},
   "outputs": [],
   "source": [
    "movie_genres = [\n",
    "    {'action', 'comedy'},\n",
    "    {'comedy'},\n",
    "    {'action', 'thriller'},\n",
    "    {'science-fiction', 'action', 'thriller'}\n",
    "]"
   ]
  },
  {
   "cell_type": "code",
   "execution_count": 15,
   "metadata": {},
   "outputs": [
    {
     "data": {
      "text/plain": [
       "array([[1, 1, 0, 0],\n",
       "       [0, 1, 0, 0],\n",
       "       [1, 0, 0, 1],\n",
       "       [1, 0, 1, 1]])"
      ]
     },
     "execution_count": 15,
     "metadata": {},
     "output_type": "execute_result"
    }
   ],
   "source": [
    "from sklearn.preprocessing import MultiLabelBinarizer\n",
    "\n",
    "mlb = MultiLabelBinarizer()\n",
    "mlb.fit_transform(movie_genres)"
   ]
  },
  {
   "cell_type": "markdown",
   "metadata": {},
   "source": [
    "**5. Using Dummy variables**\n",
    "\n",
    "Use `get_dummies` to create a one-hot encoding for each unique categorical value in the 'class' column"
   ]
  },
  {
   "cell_type": "code",
   "execution_count": 16,
   "metadata": {},
   "outputs": [
    {
     "data": {
      "text/html": [
       "<div>\n",
       "<style scoped>\n",
       "    .dataframe tbody tr th:only-of-type {\n",
       "        vertical-align: middle;\n",
       "    }\n",
       "\n",
       "    .dataframe tbody tr th {\n",
       "        vertical-align: top;\n",
       "    }\n",
       "\n",
       "    .dataframe thead th {\n",
       "        text-align: right;\n",
       "    }\n",
       "</style>\n",
       "<table border=\"1\" class=\"dataframe\">\n",
       "  <thead>\n",
       "    <tr style=\"text-align: right;\">\n",
       "      <th></th>\n",
       "      <th>sepal length</th>\n",
       "      <th>sepal width</th>\n",
       "      <th>petal width</th>\n",
       "      <th>one_hot_Iris-setosa</th>\n",
       "      <th>one_hot_Iris-versicolor</th>\n",
       "      <th>one_hot_Iris-virginica</th>\n",
       "    </tr>\n",
       "  </thead>\n",
       "  <tbody>\n",
       "    <tr>\n",
       "      <th>5.1</th>\n",
       "      <td>3.5</td>\n",
       "      <td>1.4</td>\n",
       "      <td>0.2</td>\n",
       "      <td>1</td>\n",
       "      <td>0</td>\n",
       "      <td>0</td>\n",
       "    </tr>\n",
       "    <tr>\n",
       "      <th>4.9</th>\n",
       "      <td>3.0</td>\n",
       "      <td>1.4</td>\n",
       "      <td>0.2</td>\n",
       "      <td>1</td>\n",
       "      <td>0</td>\n",
       "      <td>0</td>\n",
       "    </tr>\n",
       "    <tr>\n",
       "      <th>4.7</th>\n",
       "      <td>3.2</td>\n",
       "      <td>1.3</td>\n",
       "      <td>0.2</td>\n",
       "      <td>1</td>\n",
       "      <td>0</td>\n",
       "      <td>0</td>\n",
       "    </tr>\n",
       "    <tr>\n",
       "      <th>4.6</th>\n",
       "      <td>3.1</td>\n",
       "      <td>1.5</td>\n",
       "      <td>0.2</td>\n",
       "      <td>1</td>\n",
       "      <td>0</td>\n",
       "      <td>0</td>\n",
       "    </tr>\n",
       "    <tr>\n",
       "      <th>5.0</th>\n",
       "      <td>3.6</td>\n",
       "      <td>1.4</td>\n",
       "      <td>0.2</td>\n",
       "      <td>1</td>\n",
       "      <td>0</td>\n",
       "      <td>0</td>\n",
       "    </tr>\n",
       "  </tbody>\n",
       "</table>\n",
       "</div>"
      ],
      "text/plain": [
       "     sepal length  sepal width  petal width  one_hot_Iris-setosa  \\\n",
       "5.1           3.5          1.4          0.2                    1   \n",
       "4.9           3.0          1.4          0.2                    1   \n",
       "4.7           3.2          1.3          0.2                    1   \n",
       "4.6           3.1          1.5          0.2                    1   \n",
       "5.0           3.6          1.4          0.2                    1   \n",
       "\n",
       "     one_hot_Iris-versicolor  one_hot_Iris-virginica  \n",
       "5.1                        0                       0  \n",
       "4.9                        0                       0  \n",
       "4.7                        0                       0  \n",
       "4.6                        0                       0  \n",
       "5.0                        0                       0  "
      ]
     },
     "execution_count": 16,
     "metadata": {},
     "output_type": "execute_result"
    }
   ],
   "source": [
    "iris_data_onehot = pd.get_dummies(\n",
    "    iris_data, columns=['label'], prefix=['one_hot'])\n",
    "\n",
    "iris_data_onehot.head()"
   ]
  },
  {
   "cell_type": "markdown",
   "metadata": {},
   "source": [
    "### **4.Custom Transformers**\n",
    "\n",
    "Enables conversion of an existing Python function into a transformer to assist in data cleaning or processing.\n",
    "\n",
    "Useful when:\n",
    "1. The dataset consists of *hetereogeneous data types* (e.g. raster images and text captions)\n",
    "\n",
    "2. The dataset is stored in a `pandas.DataFrame` and different columns require *different processing pipelines.*\n",
    "\n",
    "3. We need stateless transformations such as taking the log of frequencies, custom scaling, etc.\n",
    "\n",
    "We can implement a transformer from an arbitary function with `Function Transformer`."
   ]
  },
  {
   "cell_type": "code",
   "execution_count": 17,
   "metadata": {},
   "outputs": [],
   "source": [
    "from sklearn.preprocessing import FunctionTransformer"
   ]
  },
  {
   "cell_type": "markdown",
   "metadata": {},
   "source": [
    "For example, let us build a tranformer that applies a log transformation to features.\n",
    "\n",
    "For this demonstration, we will be using a  [wine quality dataset](https://archive.ics.uci.edu/ml/machine-learning-databases/wine-quality/winequality-red.csv) from UCI machine learning repository.\n",
    "\n",
    "It has got the following attributes:\n",
    "\n",
    "\n",
    "1. fixed acidity\n",
    "\n",
    "2. volatile acidity\n",
    "\n",
    "3. citric acid\n",
    "\n",
    "4. residual sugar\n",
    "\n",
    "5. chlorides\n",
    "\n",
    "6. free sulfur dioxide \n",
    "\n",
    "7. total sulfur dioxide\n",
    "\n",
    "8. density\n",
    "\n",
    "9. pH\n",
    "\n",
    "10. sulphates\n",
    "\n",
    "11. alcohol\n",
    "\n",
    "12. quality (output: score between 0 and 10) "
   ]
  },
  {
   "cell_type": "code",
   "execution_count": 18,
   "metadata": {},
   "outputs": [
    {
     "data": {
      "text/html": [
       "<div>\n",
       "<style scoped>\n",
       "    .dataframe tbody tr th:only-of-type {\n",
       "        vertical-align: middle;\n",
       "    }\n",
       "\n",
       "    .dataframe tbody tr th {\n",
       "        vertical-align: top;\n",
       "    }\n",
       "\n",
       "    .dataframe thead th {\n",
       "        text-align: right;\n",
       "    }\n",
       "</style>\n",
       "<table border=\"1\" class=\"dataframe\">\n",
       "  <thead>\n",
       "    <tr style=\"text-align: right;\">\n",
       "      <th></th>\n",
       "      <th>count</th>\n",
       "      <th>mean</th>\n",
       "      <th>std</th>\n",
       "      <th>min</th>\n",
       "      <th>25%</th>\n",
       "      <th>50%</th>\n",
       "      <th>75%</th>\n",
       "      <th>max</th>\n",
       "    </tr>\n",
       "  </thead>\n",
       "  <tbody>\n",
       "    <tr>\n",
       "      <th>fixed acidity</th>\n",
       "      <td>1599.0</td>\n",
       "      <td>8.319637</td>\n",
       "      <td>1.741096</td>\n",
       "      <td>4.60000</td>\n",
       "      <td>7.1000</td>\n",
       "      <td>7.90000</td>\n",
       "      <td>9.200000</td>\n",
       "      <td>15.90000</td>\n",
       "    </tr>\n",
       "    <tr>\n",
       "      <th>volatile acidity</th>\n",
       "      <td>1599.0</td>\n",
       "      <td>0.527821</td>\n",
       "      <td>0.179060</td>\n",
       "      <td>0.12000</td>\n",
       "      <td>0.3900</td>\n",
       "      <td>0.52000</td>\n",
       "      <td>0.640000</td>\n",
       "      <td>1.58000</td>\n",
       "    </tr>\n",
       "    <tr>\n",
       "      <th>citric acid</th>\n",
       "      <td>1599.0</td>\n",
       "      <td>0.270976</td>\n",
       "      <td>0.194801</td>\n",
       "      <td>0.00000</td>\n",
       "      <td>0.0900</td>\n",
       "      <td>0.26000</td>\n",
       "      <td>0.420000</td>\n",
       "      <td>1.00000</td>\n",
       "    </tr>\n",
       "    <tr>\n",
       "      <th>residual sugar</th>\n",
       "      <td>1599.0</td>\n",
       "      <td>2.538806</td>\n",
       "      <td>1.409928</td>\n",
       "      <td>0.90000</td>\n",
       "      <td>1.9000</td>\n",
       "      <td>2.20000</td>\n",
       "      <td>2.600000</td>\n",
       "      <td>15.50000</td>\n",
       "    </tr>\n",
       "    <tr>\n",
       "      <th>chlorides</th>\n",
       "      <td>1599.0</td>\n",
       "      <td>0.087467</td>\n",
       "      <td>0.047065</td>\n",
       "      <td>0.01200</td>\n",
       "      <td>0.0700</td>\n",
       "      <td>0.07900</td>\n",
       "      <td>0.090000</td>\n",
       "      <td>0.61100</td>\n",
       "    </tr>\n",
       "    <tr>\n",
       "      <th>free sulfur dioxide</th>\n",
       "      <td>1599.0</td>\n",
       "      <td>15.874922</td>\n",
       "      <td>10.460157</td>\n",
       "      <td>1.00000</td>\n",
       "      <td>7.0000</td>\n",
       "      <td>14.00000</td>\n",
       "      <td>21.000000</td>\n",
       "      <td>72.00000</td>\n",
       "    </tr>\n",
       "    <tr>\n",
       "      <th>total sulfur dioxide</th>\n",
       "      <td>1599.0</td>\n",
       "      <td>46.467792</td>\n",
       "      <td>32.895324</td>\n",
       "      <td>6.00000</td>\n",
       "      <td>22.0000</td>\n",
       "      <td>38.00000</td>\n",
       "      <td>62.000000</td>\n",
       "      <td>289.00000</td>\n",
       "    </tr>\n",
       "    <tr>\n",
       "      <th>density</th>\n",
       "      <td>1599.0</td>\n",
       "      <td>0.996747</td>\n",
       "      <td>0.001887</td>\n",
       "      <td>0.99007</td>\n",
       "      <td>0.9956</td>\n",
       "      <td>0.99675</td>\n",
       "      <td>0.997835</td>\n",
       "      <td>1.00369</td>\n",
       "    </tr>\n",
       "    <tr>\n",
       "      <th>pH</th>\n",
       "      <td>1599.0</td>\n",
       "      <td>3.311113</td>\n",
       "      <td>0.154386</td>\n",
       "      <td>2.74000</td>\n",
       "      <td>3.2100</td>\n",
       "      <td>3.31000</td>\n",
       "      <td>3.400000</td>\n",
       "      <td>4.01000</td>\n",
       "    </tr>\n",
       "    <tr>\n",
       "      <th>sulphates</th>\n",
       "      <td>1599.0</td>\n",
       "      <td>0.658149</td>\n",
       "      <td>0.169507</td>\n",
       "      <td>0.33000</td>\n",
       "      <td>0.5500</td>\n",
       "      <td>0.62000</td>\n",
       "      <td>0.730000</td>\n",
       "      <td>2.00000</td>\n",
       "    </tr>\n",
       "    <tr>\n",
       "      <th>alcohol</th>\n",
       "      <td>1599.0</td>\n",
       "      <td>10.422983</td>\n",
       "      <td>1.065668</td>\n",
       "      <td>8.40000</td>\n",
       "      <td>9.5000</td>\n",
       "      <td>10.20000</td>\n",
       "      <td>11.100000</td>\n",
       "      <td>14.90000</td>\n",
       "    </tr>\n",
       "    <tr>\n",
       "      <th>quality</th>\n",
       "      <td>1599.0</td>\n",
       "      <td>5.636023</td>\n",
       "      <td>0.807569</td>\n",
       "      <td>3.00000</td>\n",
       "      <td>5.0000</td>\n",
       "      <td>6.00000</td>\n",
       "      <td>6.000000</td>\n",
       "      <td>8.00000</td>\n",
       "    </tr>\n",
       "  </tbody>\n",
       "</table>\n",
       "</div>"
      ],
      "text/plain": [
       "                       count       mean        std      min      25%  \\\n",
       "fixed acidity         1599.0   8.319637   1.741096  4.60000   7.1000   \n",
       "volatile acidity      1599.0   0.527821   0.179060  0.12000   0.3900   \n",
       "citric acid           1599.0   0.270976   0.194801  0.00000   0.0900   \n",
       "residual sugar        1599.0   2.538806   1.409928  0.90000   1.9000   \n",
       "chlorides             1599.0   0.087467   0.047065  0.01200   0.0700   \n",
       "free sulfur dioxide   1599.0  15.874922  10.460157  1.00000   7.0000   \n",
       "total sulfur dioxide  1599.0  46.467792  32.895324  6.00000  22.0000   \n",
       "density               1599.0   0.996747   0.001887  0.99007   0.9956   \n",
       "pH                    1599.0   3.311113   0.154386  2.74000   3.2100   \n",
       "sulphates             1599.0   0.658149   0.169507  0.33000   0.5500   \n",
       "alcohol               1599.0  10.422983   1.065668  8.40000   9.5000   \n",
       "quality               1599.0   5.636023   0.807569  3.00000   5.0000   \n",
       "\n",
       "                           50%        75%        max  \n",
       "fixed acidity          7.90000   9.200000   15.90000  \n",
       "volatile acidity       0.52000   0.640000    1.58000  \n",
       "citric acid            0.26000   0.420000    1.00000  \n",
       "residual sugar         2.20000   2.600000   15.50000  \n",
       "chlorides              0.07900   0.090000    0.61100  \n",
       "free sulfur dioxide   14.00000  21.000000   72.00000  \n",
       "total sulfur dioxide  38.00000  62.000000  289.00000  \n",
       "density                0.99675   0.997835    1.00369  \n",
       "pH                     3.31000   3.400000    4.01000  \n",
       "sulphates              0.62000   0.730000    2.00000  \n",
       "alcohol               10.20000  11.100000   14.90000  \n",
       "quality                6.00000   6.000000    8.00000  "
      ]
     },
     "execution_count": 18,
     "metadata": {},
     "output_type": "execute_result"
    }
   ],
   "source": [
    "wine_data = pd.read_csv(\n",
    "    \"https://archive.ics.uci.edu/ml/machine-learning-databases/wine-quality/winequality-red.csv\", sep=';')\n",
    "\n",
    "wine_data.describe().T"
   ]
  },
  {
   "cell_type": "markdown",
   "metadata": {},
   "source": [
    "Let's use `np.log1p` which returns natural logarithm of(1 + the feature value).\n"
   ]
  },
  {
   "cell_type": "code",
   "execution_count": 19,
   "metadata": {},
   "outputs": [
    {
     "data": {
      "text/html": [
       "<div>\n",
       "<style scoped>\n",
       "    .dataframe tbody tr th:only-of-type {\n",
       "        vertical-align: middle;\n",
       "    }\n",
       "\n",
       "    .dataframe tbody tr th {\n",
       "        vertical-align: top;\n",
       "    }\n",
       "\n",
       "    .dataframe thead th {\n",
       "        text-align: right;\n",
       "    }\n",
       "</style>\n",
       "<table border=\"1\" class=\"dataframe\">\n",
       "  <thead>\n",
       "    <tr style=\"text-align: right;\">\n",
       "      <th></th>\n",
       "      <th>count</th>\n",
       "      <th>mean</th>\n",
       "      <th>std</th>\n",
       "      <th>min</th>\n",
       "      <th>25%</th>\n",
       "      <th>50%</th>\n",
       "      <th>75%</th>\n",
       "      <th>max</th>\n",
       "    </tr>\n",
       "  </thead>\n",
       "  <tbody>\n",
       "    <tr>\n",
       "      <th>fixed acidity</th>\n",
       "      <td>1599.0</td>\n",
       "      <td>2.215842</td>\n",
       "      <td>0.178100</td>\n",
       "      <td>1.722767</td>\n",
       "      <td>2.091864</td>\n",
       "      <td>2.186051</td>\n",
       "      <td>2.322388</td>\n",
       "      <td>2.827314</td>\n",
       "    </tr>\n",
       "    <tr>\n",
       "      <th>volatile acidity</th>\n",
       "      <td>1599.0</td>\n",
       "      <td>0.417173</td>\n",
       "      <td>0.114926</td>\n",
       "      <td>0.113329</td>\n",
       "      <td>0.329304</td>\n",
       "      <td>0.418710</td>\n",
       "      <td>0.494696</td>\n",
       "      <td>0.947789</td>\n",
       "    </tr>\n",
       "    <tr>\n",
       "      <th>citric acid</th>\n",
       "      <td>1599.0</td>\n",
       "      <td>0.228147</td>\n",
       "      <td>0.152423</td>\n",
       "      <td>0.000000</td>\n",
       "      <td>0.086178</td>\n",
       "      <td>0.231112</td>\n",
       "      <td>0.350657</td>\n",
       "      <td>0.693147</td>\n",
       "    </tr>\n",
       "    <tr>\n",
       "      <th>residual sugar</th>\n",
       "      <td>1599.0</td>\n",
       "      <td>1.218131</td>\n",
       "      <td>0.269969</td>\n",
       "      <td>0.641854</td>\n",
       "      <td>1.064711</td>\n",
       "      <td>1.163151</td>\n",
       "      <td>1.280934</td>\n",
       "      <td>2.803360</td>\n",
       "    </tr>\n",
       "    <tr>\n",
       "      <th>chlorides</th>\n",
       "      <td>1599.0</td>\n",
       "      <td>0.083038</td>\n",
       "      <td>0.038991</td>\n",
       "      <td>0.011929</td>\n",
       "      <td>0.067659</td>\n",
       "      <td>0.076035</td>\n",
       "      <td>0.086178</td>\n",
       "      <td>0.476855</td>\n",
       "    </tr>\n",
       "    <tr>\n",
       "      <th>free sulfur dioxide</th>\n",
       "      <td>1599.0</td>\n",
       "      <td>2.639013</td>\n",
       "      <td>0.623790</td>\n",
       "      <td>0.693147</td>\n",
       "      <td>2.079442</td>\n",
       "      <td>2.708050</td>\n",
       "      <td>3.091042</td>\n",
       "      <td>4.290459</td>\n",
       "    </tr>\n",
       "    <tr>\n",
       "      <th>total sulfur dioxide</th>\n",
       "      <td>1599.0</td>\n",
       "      <td>3.634750</td>\n",
       "      <td>0.682575</td>\n",
       "      <td>1.945910</td>\n",
       "      <td>3.135494</td>\n",
       "      <td>3.663562</td>\n",
       "      <td>4.143135</td>\n",
       "      <td>5.669881</td>\n",
       "    </tr>\n",
       "    <tr>\n",
       "      <th>density</th>\n",
       "      <td>1599.0</td>\n",
       "      <td>0.691519</td>\n",
       "      <td>0.000945</td>\n",
       "      <td>0.688170</td>\n",
       "      <td>0.690945</td>\n",
       "      <td>0.691521</td>\n",
       "      <td>0.692064</td>\n",
       "      <td>0.694990</td>\n",
       "    </tr>\n",
       "    <tr>\n",
       "      <th>pH</th>\n",
       "      <td>1599.0</td>\n",
       "      <td>1.460557</td>\n",
       "      <td>0.035760</td>\n",
       "      <td>1.319086</td>\n",
       "      <td>1.437463</td>\n",
       "      <td>1.460938</td>\n",
       "      <td>1.481605</td>\n",
       "      <td>1.611436</td>\n",
       "    </tr>\n",
       "    <tr>\n",
       "      <th>sulphates</th>\n",
       "      <td>1599.0</td>\n",
       "      <td>0.501073</td>\n",
       "      <td>0.093731</td>\n",
       "      <td>0.285179</td>\n",
       "      <td>0.438255</td>\n",
       "      <td>0.482426</td>\n",
       "      <td>0.548121</td>\n",
       "      <td>1.098612</td>\n",
       "    </tr>\n",
       "    <tr>\n",
       "      <th>alcohol</th>\n",
       "      <td>1599.0</td>\n",
       "      <td>2.431458</td>\n",
       "      <td>0.090434</td>\n",
       "      <td>2.240710</td>\n",
       "      <td>2.351375</td>\n",
       "      <td>2.415914</td>\n",
       "      <td>2.493205</td>\n",
       "      <td>2.766319</td>\n",
       "    </tr>\n",
       "    <tr>\n",
       "      <th>quality</th>\n",
       "      <td>1599.0</td>\n",
       "      <td>1.885054</td>\n",
       "      <td>0.122749</td>\n",
       "      <td>1.386294</td>\n",
       "      <td>1.791759</td>\n",
       "      <td>1.945910</td>\n",
       "      <td>1.945910</td>\n",
       "      <td>2.197225</td>\n",
       "    </tr>\n",
       "  </tbody>\n",
       "</table>\n",
       "</div>"
      ],
      "text/plain": [
       "                       count      mean       std       min       25%  \\\n",
       "fixed acidity         1599.0  2.215842  0.178100  1.722767  2.091864   \n",
       "volatile acidity      1599.0  0.417173  0.114926  0.113329  0.329304   \n",
       "citric acid           1599.0  0.228147  0.152423  0.000000  0.086178   \n",
       "residual sugar        1599.0  1.218131  0.269969  0.641854  1.064711   \n",
       "chlorides             1599.0  0.083038  0.038991  0.011929  0.067659   \n",
       "free sulfur dioxide   1599.0  2.639013  0.623790  0.693147  2.079442   \n",
       "total sulfur dioxide  1599.0  3.634750  0.682575  1.945910  3.135494   \n",
       "density               1599.0  0.691519  0.000945  0.688170  0.690945   \n",
       "pH                    1599.0  1.460557  0.035760  1.319086  1.437463   \n",
       "sulphates             1599.0  0.501073  0.093731  0.285179  0.438255   \n",
       "alcohol               1599.0  2.431458  0.090434  2.240710  2.351375   \n",
       "quality               1599.0  1.885054  0.122749  1.386294  1.791759   \n",
       "\n",
       "                           50%       75%       max  \n",
       "fixed acidity         2.186051  2.322388  2.827314  \n",
       "volatile acidity      0.418710  0.494696  0.947789  \n",
       "citric acid           0.231112  0.350657  0.693147  \n",
       "residual sugar        1.163151  1.280934  2.803360  \n",
       "chlorides             0.076035  0.086178  0.476855  \n",
       "free sulfur dioxide   2.708050  3.091042  4.290459  \n",
       "total sulfur dioxide  3.663562  4.143135  5.669881  \n",
       "density               0.691521  0.692064  0.694990  \n",
       "pH                    1.460938  1.481605  1.611436  \n",
       "sulphates             0.482426  0.548121  1.098612  \n",
       "alcohol               2.415914  2.493205  2.766319  \n",
       "quality               1.945910  1.945910  2.197225  "
      ]
     },
     "execution_count": 19,
     "metadata": {},
     "output_type": "execute_result"
    }
   ],
   "source": [
    "transformer = FunctionTransformer(np.log1p, validate=True)\n",
    "\n",
    "wine_data_transformed = transformer.transform(np.array(wine_data))\n",
    "pd.DataFrame(wine_data_transformed, columns=wine_data.columns).describe().T"
   ]
  },
  {
   "cell_type": "markdown",
   "metadata": {},
   "source": [
    "Simple Examples : "
   ]
  },
  {
   "cell_type": "code",
   "execution_count": 20,
   "metadata": {},
   "outputs": [
    {
     "data": {
      "text/plain": [
       "array([[0.        , 2.30258509],\n",
       "       [2.07944154, 2.19722458]])"
      ]
     },
     "execution_count": 20,
     "metadata": {},
     "output_type": "execute_result"
    }
   ],
   "source": [
    "transformer = FunctionTransformer(np.log1p)\n",
    "\n",
    "X = np.array([[0, 9], [7, 8]])\n",
    "transformer.transform(X)"
   ]
  },
  {
   "cell_type": "code",
   "execution_count": 21,
   "metadata": {},
   "outputs": [
    {
     "data": {
      "text/plain": [
       "array([[ 2.,  8.],\n",
       "       [ 4., 16.]])"
      ]
     },
     "execution_count": 21,
     "metadata": {},
     "output_type": "execute_result"
    }
   ],
   "source": [
    "transformer = FunctionTransformer(np.exp2)\n",
    "\n",
    "X = np.array([[1,3], [2,4]])\n",
    "transformer.transform(X)\n"
   ]
  },
  {
   "cell_type": "markdown",
   "metadata": {},
   "source": [
    "### **5.Composite Transformers**\n",
    "\n",
    "* It applies a set of transformers to columns of an array or `pandas.DataFrame`, concatenates the transformed outputs from different transformers into a single matrix.\n"
   ]
  },
  {
   "cell_type": "markdown",
   "metadata": {},
   "source": [
    "**5.A. Apply Transformation to diverse features**\n",
    "\n",
    "* It is useful for transforming heterogeneous data by applying different transformers to separate subsets of features.\n",
    "\n",
    "* It combines different feature selection mechanism and transformation into a single transformer object.\n",
    "\n",
    "* It is a list of tuples.\n",
    "\n",
    "* In the tuple, first we mention the reference name, second the method and third the column on which we want to apply column transformer."
   ]
  },
  {
   "cell_type": "code",
   "execution_count": 22,
   "metadata": {},
   "outputs": [
    {
     "name": "stdout",
     "output_type": "stream",
     "text": [
      "[['20.0' 'male']\n",
      " ['11.2' 'female']\n",
      " ['15.6' 'female']\n",
      " ['13.0' 'male']\n",
      " ['18.6' 'male']\n",
      " ['16.4' 'female']]\n"
     ]
    }
   ],
   "source": [
    "X = [\n",
    "    [20.0,'male'],\n",
    "    [11.2,'female'],\n",
    "    [15.6,'female'],\n",
    "    [13.0,'male'],\n",
    "    [18.6, 'male'],\n",
    "    [16.4,'female']\n",
    "]\n",
    "\n",
    "X = np.array(X)\n",
    "print(X)"
   ]
  },
  {
   "cell_type": "code",
   "execution_count": 23,
   "metadata": {},
   "outputs": [
    {
     "data": {
      "text/plain": [
       "array([['1.0', '20.0', '0.0', '1.0'],\n",
       "       ['0.5599999999999999', '11.2', '1.0', '0.0'],\n",
       "       ['0.78', '15.6', '1.0', '0.0'],\n",
       "       ['0.65', '13.0', '0.0', '1.0'],\n",
       "       ['0.93', '18.6', '0.0', '1.0'],\n",
       "       ['0.82', '16.4', '1.0', '0.0']], dtype='<U32')"
      ]
     },
     "execution_count": 23,
     "metadata": {},
     "output_type": "execute_result"
    }
   ],
   "source": [
    "from sklearn.compose import ColumnTransformer \n",
    "from sklearn.preprocessing import MaxAbsScaler ,OneHotEncoder\n",
    "\n",
    "col_trans = ColumnTransformer([\n",
    "    ('scaler' ,MaxAbsScaler() ,[0]),\n",
    "    ('pass' ,'passthrough' ,[0]) ,\n",
    "    ('encoder' ,OneHotEncoder() ,[1])\n",
    "])\n",
    "\n",
    "col_trans.fit_transform(X)"
   ]
  },
  {
   "cell_type": "markdown",
   "metadata": {},
   "source": [
    "**5.B. TransformedTargetRegressor**\n",
    "\n",
    "Transforms the target variable `y` before fitting a regression model.\n",
    "\n",
    "* The predicted values are mapped back to the original space via an inverse transform.\n",
    "\n",
    "* It takes **regressor** and **transformer** as arguments to be applied to the target variable."
   ]
  },
  {
   "cell_type": "code",
   "execution_count": 24,
   "metadata": {},
   "outputs": [],
   "source": [
    "from sklearn.compose import TransformedTargetRegressor\n",
    "from sklearn.preprocessing import MinMaxScaler\n",
    "from sklearn.linear_model import LinearRegression\n",
    "from sklearn.model_selection import train_test_split\n",
    "from sklearn.datasets import fetch_california_housing\n",
    "\n",
    "X, y = fetch_california_housing(return_X_y=True)\n",
    "\n",
    "# select a subset of data\n",
    "X, y = X[:2000, :], y[:2000] \n",
    "X_train, X_test, y_train, y_test = train_test_split(X, y, random_state=0)"
   ]
  },
  {
   "cell_type": "code",
   "execution_count": 25,
   "metadata": {},
   "outputs": [
    {
     "name": "stdout",
     "output_type": "stream",
     "text": [
      "R2 score of raw_label regression: 0.5853\n",
      "R2 score of transformed label regression: 0.5853\n"
     ]
    }
   ],
   "source": [
    "# transformer to scale the data\n",
    "transformer = MinMaxScaler()\n",
    "\n",
    "# first regressor - based on the original labels.\n",
    "regressor = LinearRegression()\n",
    "\n",
    "# second regressor - based on transformed labels.\n",
    "ttr = TransformedTargetRegressor(regressor=regressor, transformer=transformer)\n",
    "\n",
    "regressor.fit(X_train, y_train)\n",
    "print('R2 score of raw_label regression: {0:.4f}'.format(\n",
    "    regressor.score(X_test, y_test)))\n",
    "\n",
    "\n",
    "ttr.fit(X_train, y_train)\n",
    "print('R2 score of transformed label regression: {0:.4f}'.format(\n",
    "    ttr.score(X_test, y_test)))"
   ]
  }
 ],
 "metadata": {
  "interpreter": {
   "hash": "32f02dc107888b055323539767db1f9cf579f03b0ed3a3ace7986ed2d38433ec"
  },
  "kernelspec": {
   "display_name": "Python 3.9.7 ('tensorflow')",
   "language": "python",
   "name": "python3"
  },
  "language_info": {
   "codemirror_mode": {
    "name": "ipython",
    "version": 3
   },
   "file_extension": ".py",
   "mimetype": "text/x-python",
   "name": "python",
   "nbconvert_exporter": "python",
   "pygments_lexer": "ipython3",
   "version": "3.9.7"
  },
  "orig_nbformat": 4
 },
 "nbformat": 4,
 "nbformat_minor": 2
}
