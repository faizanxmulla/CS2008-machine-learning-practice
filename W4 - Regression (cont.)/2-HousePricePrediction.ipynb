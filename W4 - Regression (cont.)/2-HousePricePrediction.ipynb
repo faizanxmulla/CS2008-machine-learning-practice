{
 "cells": [
  {
   "cell_type": "markdown",
   "metadata": {},
   "source": [
    "### **Linear Regression for house-price prediction**\n",
    "\n",
    "In this notebook, we will build different regression models for california house price prediction: \n",
    "\n",
    "1. Linear Regression (with normal equation)\n",
    "\n",
    "2. SGD Regression (linear regression with iterative optimization)\n",
    "\n",
    "2. Polynomial Regression \n",
    "\n",
    "3. Regularized Regression models : RIDGE & LASSO\n",
    "\n",
    "We will set regularization rate and polynomial degree with hyper-parameter tuning and cross validation. \n",
    "\n",
    "We will compare different models in terms of their parameter vectors and mean absolute error on train, eval and test sets.\n"
   ]
  },
  {
   "cell_type": "markdown",
   "metadata": {},
   "source": [
    "#### *Imports* \n",
    "\n",
    "* For regression problems, we need to import classes and utilities from `sklearn.linear_model`.\n",
    "\n",
    "* This module has implementation for different regression models like, LinearRegression, SGDRegressor, Ridge, Lasso, RidgeCV and LassoCV.\n",
    "\n",
    "* We also need to import a bunch of model selection utilities from `sklearn.model_selection` module and metrics from `sklearn.metrics` module.\n",
    "\n",
    "* The data preprocessing utilities are imported from `sklearn.preprocessing` modules."
   ]
  },
  {
   "cell_type": "code",
   "execution_count": 1,
   "metadata": {},
   "outputs": [],
   "source": [
    "import numpy as np\n",
    "import pandas as pd\n",
    "import matplotlib.pyplot as plt\n",
    "import seaborn as sns\n",
    "\n",
    "from scipy.stats import loguniform\n",
    "from scipy.stats import uniform\n",
    "\n",
    "from sklearn.datasets import fetch_california_housing\n",
    "from sklearn.dummy import DummyRegressor\n",
    "from sklearn.linear_model import LinearRegression\n",
    "from sklearn.linear_model import Lasso\n",
    "from sklearn.linear_model import LassoCV\n",
    "from sklearn.linear_model import Ridge\n",
    "from sklearn.linear_model import RidgeCV\n",
    "from sklearn.linear_model import SGDRegressor\n",
    "\n",
    "from sklearn.metrics import mean_absolute_error\n",
    "from sklearn.metrics import mean_squared_error\n",
    "from sklearn.metrics import mean_absolute_percentage_error\n",
    "\n",
    "from sklearn.model_selection import cross_validate\n",
    "from sklearn.model_selection import cross_val_score\n",
    "from sklearn.model_selection import train_test_split\n",
    "from sklearn.model_selection import ShuffleSplit\n",
    "from sklearn.model_selection import validation_curve\n",
    "from sklearn.model_selection import GridSearchCV\n",
    "from sklearn.model_selection import RandomizedSearchCV\n",
    "\n",
    "from sklearn.preprocessing import PolynomialFeatures\n",
    "from sklearn.preprocessing import StandardScaler\n",
    "\n",
    "from sklearn.pipeline import Pipeline\n",
    "\n",
    "import warnings \n",
    "warnings.filterwarnings('ignore')"
   ]
  },
  {
   "cell_type": "markdown",
   "metadata": {},
   "source": [
    "#### **Common set up**\n",
    "\n",
    "Set up random seed to a number of your choice."
   ]
  },
  {
   "cell_type": "code",
   "execution_count": 2,
   "metadata": {},
   "outputs": [],
   "source": [
    "np.random.seed(306)"
   ]
  },
  {
   "cell_type": "markdown",
   "metadata": {},
   "source": [
    "Let's use `ShuffleSplit` as cv with 10 splits and 20% examples set aside as test examples. "
   ]
  },
  {
   "cell_type": "code",
   "execution_count": 3,
   "metadata": {},
   "outputs": [],
   "source": [
    "cv = ShuffleSplit(n_splits=10, test_size=0.2, random_state=42)"
   ]
  },
  {
   "cell_type": "markdown",
   "metadata": {},
   "source": [
    "#### **Data Loading and Splitting**\n",
    "\n",
    "We use california housing dataset for this demo. \n",
    "\n",
    "* We will load this dataset with `fetch_california_housing` API as a dataframe.\n",
    "\n",
    "* We will load the data and split it inot three parts- train, dev  and test. Train+Dev will be used for cross validation and test will be used for evaluating the trained models."
   ]
  },
  {
   "cell_type": "code",
   "execution_count": 4,
   "metadata": {},
   "outputs": [],
   "source": [
    "# Fetching dataset\n",
    "features, labels = fetch_california_housing(as_frame=True, return_X_y=True)\n",
    "\n",
    "# train-test-split\n",
    "com_train_features, test_features, com_train_labels, test_labels = train_test_split(features, labels, random_state=42)\n",
    "\n",
    "# train --> train + dev split\n",
    "train_features, dev_features, train_labels, dev_labels = train_test_split(\n",
    "    com_train_features, com_train_labels, random_state=42)\n"
   ]
  },
  {
   "cell_type": "markdown",
   "metadata": {},
   "source": [
    "Throughout this notebook, we will have the following pattern for each estimator:\n",
    "\n",
    "* We will be using `pipeline` for combining data preprocessing and modelling steps. `cross_validate` for training the model with `ShuffleSplit` cross validation and `neg_mean_absolute_error` as a scoring metric.\n",
    "\n",
    "* Convert the scores to error and report mean absolute errors on the dev set."
   ]
  },
  {
   "cell_type": "markdown",
   "metadata": {},
   "source": [
    "### 1. **Linear Regression (with normal equation)**\n",
    "\n",
    "Let's use normal equation method to train linear regression model.\n",
    "\n",
    "We set up pipeline with two stages: \n",
    "\n",
    "* Feature scaling to scale the features and \n",
    "\n",
    "* Linear regression on the transformed feature matrix.\n",
    "\n",
    "Throughout this notebook, we will have the following pattern for each estimator:\n",
    "\n",
    "* We will be using `pipeline` for combining data preprocessing and modelling steps. `cross_validate` for training the model with `ShuffleSplit` cross validation and `neg_mean_absolute_error` as a scoring metric.\n",
    "\n",
    "* Convert the scores to error and report mean absolute errors on the dev set."
   ]
  },
  {
   "cell_type": "code",
   "execution_count": 5,
   "metadata": {},
   "outputs": [
    {
     "name": "stdout",
     "output_type": "stream",
     "text": [
      "Mean absolute error of linear regression model on the train set:\n",
      "0.530 +/- 0.002\n",
      "\n",
      "Mean absolute error of linear regression model on the test set:\n",
      "0.527 +/- 0.008\n"
     ]
    }
   ],
   "source": [
    "lin_reg_pipeline = Pipeline([\n",
    "    (\"feature_scaling\", StandardScaler()),\n",
    "    (\"lin_reg\", LinearRegression())\n",
    "])\n",
    "\n",
    "\n",
    "lin_reg_cv_results = cross_validate(lin_reg_pipeline,\n",
    "                                    com_train_features,\n",
    "                                    com_train_labels,\n",
    "                                    cv=cv,\n",
    "                                    scoring=\"neg_mean_absolute_error\",\n",
    "                                    return_train_score=True,\n",
    "                                    return_estimator=True)\n",
    "\n",
    "lin_reg_train_error = -1 * lin_reg_cv_results['train_score']\n",
    "lin_reg_test_error = -1 * lin_reg_cv_results['test_score']\n",
    "\n",
    "\n",
    "print(f\"Mean absolute error of linear regression model on the train set:\\n\" f\"{lin_reg_train_error.mean():.3f} +/- {lin_reg_train_error.std():.3f}\")\n",
    "\n",
    "print()\n",
    "print(f\"Mean absolute error of linear regression model on the test set:\\n\" f\"{lin_reg_test_error.mean():.3f} +/- {lin_reg_test_error.std():.3f}\")\n"
   ]
  },
  {
   "cell_type": "markdown",
   "metadata": {},
   "source": [
    "Both the errors are close, but are not low. This points to underfitting. We can address it by adding more feature through polynomial regression."
   ]
  },
  {
   "cell_type": "markdown",
   "metadata": {},
   "source": [
    "### 2. **SGD Regression (iterative optimization)**\n",
    "\n",
    "Let's use iterative optimization method to train linear regression model.\n",
    "\n",
    "We set up pipeline with two stages:\n",
    "\n",
    "* Feature scaling to scale features and \n",
    "\n",
    "* SGD regression on the transformed feature matrix \n"
   ]
  },
  {
   "cell_type": "code",
   "execution_count": 6,
   "metadata": {},
   "outputs": [
    {
     "name": "stdout",
     "output_type": "stream",
     "text": [
      "Mean absolute error of SGD regression model on the train set:\n",
      "0.534 +/- 0.013\n",
      "Mean absolute error of SGD regression model on the test set:\n",
      "0.530 +/- 0.010\n"
     ]
    }
   ],
   "source": [
    "sgd_reg_pipeline = Pipeline([\n",
    "    ('feature_scaling', StandardScaler()),\n",
    "    ('sgd_reg', SGDRegressor(max_iter=np.ceil(1e6/com_train_features.shape[0]),\n",
    "                            early_stopping=True,\n",
    "                            eta0=1e-4,\n",
    "                            learning_rate='constant',\n",
    "                            tol=1e-5,\n",
    "                            validation_fraction=0.1,\n",
    "                            n_iter_no_change=5,\n",
    "                            average=10,\n",
    "                            random_state=42))\n",
    "])\n",
    "\n",
    "sgd_reg_cv_results = cross_validate(sgd_reg_pipeline,\n",
    "                                    com_train_features,\n",
    "                                    com_train_labels,\n",
    "                                    cv=cv,  # shufflesplit declared above\n",
    "                                    scoring='neg_mean_absolute_error',\n",
    "                                    return_train_score=True,\n",
    "                                    return_estimator=True)\n",
    "\n",
    "sgd_train_error = -1 * sgd_reg_cv_results['train_score']\n",
    "sgd_test_error = -1 * sgd_reg_cv_results['test_score']\n",
    "\n",
    "print(f\"Mean absolute error of SGD regression model on the train set:\\n\" f\"{sgd_train_error.mean():.3f} +/- {sgd_train_error.std():.3f}\")\n",
    "\n",
    "print(f\"Mean absolute error of SGD regression model on the test set:\\n\" f\"{sgd_test_error.mean():.3f} +/- {sgd_test_error.std():.3f}\")"
   ]
  },
  {
   "cell_type": "markdown",
   "metadata": {},
   "source": [
    "#### SGD Regression : Regularization & Hyper-parameter tuning\n",
    "\n",
    "We can also perform regularization with SGD. `SGDRegressor` has many hyperparameters that require careful tuning to achieve the same performance as wtih `LinearRegression`."
   ]
  },
  {
   "cell_type": "code",
   "execution_count": 7,
   "metadata": {},
   "outputs": [
    {
     "name": "stdout",
     "output_type": "stream",
     "text": [
      "Mean absolute error of SGD regression model on the train set. \n",
      " 10824283052.546 +/- 4423288211.832\n",
      "Mean absolute error of SGD regression model on the test set. \n",
      " 10946788540.250 +/- 5396536227.703\n"
     ]
    }
   ],
   "source": [
    "poly_sgd_pipeline = Pipeline([\n",
    "    ('poly', PolynomialFeatures()),\n",
    "    ('feature_scaling', StandardScaler()),\n",
    "    ('sgd_reg', SGDRegressor(\n",
    "        penalty='elasticnet',\n",
    "        random_state=42\n",
    "    ))])\n",
    "\n",
    "poly_sgd_cv_results = cross_validate(poly_sgd_pipeline,\n",
    "                                     com_train_features,\n",
    "                                     com_train_labels,\n",
    "                                     cv=cv,\n",
    "                                     scoring='neg_mean_absolute_error',\n",
    "                                     return_train_score=True,\n",
    "                                     return_estimator=True)\n",
    "\n",
    "poly_sgd_train_error = -1 * poly_sgd_cv_results['train_score']\n",
    "poly_sgd_test_error = -1 * poly_sgd_cv_results['test_score']\n",
    "\n",
    "\n",
    "print(f\"Mean absolute error of SGD regression model on the train set. \\n {poly_sgd_train_error.mean():.3f} +/- {poly_sgd_train_error.std():.3f}\")\n",
    "\n",
    "print(f\"Mean absolute error of SGD regression model on the test set. \\n {poly_sgd_test_error.mean():.3f} +/- {poly_sgd_test_error.std():.3f}\")\n"
   ]
  },
  {
   "cell_type": "markdown",
   "metadata": {},
   "source": [
    "The error is too high.\n",
    "\n",
    "* So now, lets search for the best set of parameters for polynomial + SGD pipeline with `RandomizedSearchCV`.\n",
    "\n",
    "* In `RandomizedSearchCV`, we need to specify distributions for hyperparameters."
   ]
  },
  {
   "cell_type": "code",
   "execution_count": 8,
   "metadata": {},
   "outputs": [],
   "source": [
    "class uniform_int:\n",
    "    \"\"\" \n",
    "    Integer valued version of the uniform distributions\n",
    "    \"\"\"\n",
    "\n",
    "    def __init__(self, a, b):\n",
    "        self._distribution = uniform(a, b)\n",
    "\n",
    "    def rvs(self, *args, **kwargs):\n",
    "        \"\"\" Random variable sample\"\"\"\n",
    "        return self._distribution.rvs(*args, **kwargs).astype(int)\n"
   ]
  },
  {
   "cell_type": "markdown",
   "metadata": {},
   "source": [
    "Let's specify `RandomizedSearchCV` set up."
   ]
  },
  {
   "cell_type": "code",
   "execution_count": 9,
   "metadata": {},
   "outputs": [
    {
     "name": "stdout",
     "output_type": "stream",
     "text": [
      "Fitting 10 folds for each of 10 candidates, totalling 100 fits\n"
     ]
    },
    {
     "data": {
      "text/html": [
       "<style>#sk-container-id-1 {color: black;background-color: white;}#sk-container-id-1 pre{padding: 0;}#sk-container-id-1 div.sk-toggleable {background-color: white;}#sk-container-id-1 label.sk-toggleable__label {cursor: pointer;display: block;width: 100%;margin-bottom: 0;padding: 0.3em;box-sizing: border-box;text-align: center;}#sk-container-id-1 label.sk-toggleable__label-arrow:before {content: \"▸\";float: left;margin-right: 0.25em;color: #696969;}#sk-container-id-1 label.sk-toggleable__label-arrow:hover:before {color: black;}#sk-container-id-1 div.sk-estimator:hover label.sk-toggleable__label-arrow:before {color: black;}#sk-container-id-1 div.sk-toggleable__content {max-height: 0;max-width: 0;overflow: hidden;text-align: left;background-color: #f0f8ff;}#sk-container-id-1 div.sk-toggleable__content pre {margin: 0.2em;color: black;border-radius: 0.25em;background-color: #f0f8ff;}#sk-container-id-1 input.sk-toggleable__control:checked~div.sk-toggleable__content {max-height: 200px;max-width: 100%;overflow: auto;}#sk-container-id-1 input.sk-toggleable__control:checked~label.sk-toggleable__label-arrow:before {content: \"▾\";}#sk-container-id-1 div.sk-estimator input.sk-toggleable__control:checked~label.sk-toggleable__label {background-color: #d4ebff;}#sk-container-id-1 div.sk-label input.sk-toggleable__control:checked~label.sk-toggleable__label {background-color: #d4ebff;}#sk-container-id-1 input.sk-hidden--visually {border: 0;clip: rect(1px 1px 1px 1px);clip: rect(1px, 1px, 1px, 1px);height: 1px;margin: -1px;overflow: hidden;padding: 0;position: absolute;width: 1px;}#sk-container-id-1 div.sk-estimator {font-family: monospace;background-color: #f0f8ff;border: 1px dotted black;border-radius: 0.25em;box-sizing: border-box;margin-bottom: 0.5em;}#sk-container-id-1 div.sk-estimator:hover {background-color: #d4ebff;}#sk-container-id-1 div.sk-parallel-item::after {content: \"\";width: 100%;border-bottom: 1px solid gray;flex-grow: 1;}#sk-container-id-1 div.sk-label:hover label.sk-toggleable__label {background-color: #d4ebff;}#sk-container-id-1 div.sk-serial::before {content: \"\";position: absolute;border-left: 1px solid gray;box-sizing: border-box;top: 0;bottom: 0;left: 50%;z-index: 0;}#sk-container-id-1 div.sk-serial {display: flex;flex-direction: column;align-items: center;background-color: white;padding-right: 0.2em;padding-left: 0.2em;position: relative;}#sk-container-id-1 div.sk-item {position: relative;z-index: 1;}#sk-container-id-1 div.sk-parallel {display: flex;align-items: stretch;justify-content: center;background-color: white;position: relative;}#sk-container-id-1 div.sk-item::before, #sk-container-id-1 div.sk-parallel-item::before {content: \"\";position: absolute;border-left: 1px solid gray;box-sizing: border-box;top: 0;bottom: 0;left: 50%;z-index: -1;}#sk-container-id-1 div.sk-parallel-item {display: flex;flex-direction: column;z-index: 1;position: relative;background-color: white;}#sk-container-id-1 div.sk-parallel-item:first-child::after {align-self: flex-end;width: 50%;}#sk-container-id-1 div.sk-parallel-item:last-child::after {align-self: flex-start;width: 50%;}#sk-container-id-1 div.sk-parallel-item:only-child::after {width: 0;}#sk-container-id-1 div.sk-dashed-wrapped {border: 1px dashed gray;margin: 0 0.4em 0.5em 0.4em;box-sizing: border-box;padding-bottom: 0.4em;background-color: white;}#sk-container-id-1 div.sk-label label {font-family: monospace;font-weight: bold;display: inline-block;line-height: 1.2em;}#sk-container-id-1 div.sk-label-container {text-align: center;}#sk-container-id-1 div.sk-container {/* jupyter's `normalize.less` sets `[hidden] { display: none; }` but bootstrap.min.css set `[hidden] { display: none !important; }` so we also need the `!important` here to be able to override the default hidden behavior on the sphinx rendered scikit-learn.org. See: https://github.com/scikit-learn/scikit-learn/issues/21755 */display: inline-block !important;position: relative;}#sk-container-id-1 div.sk-text-repr-fallback {display: none;}</style><div id=\"sk-container-id-1\" class=\"sk-top-container\"><div class=\"sk-text-repr-fallback\"><pre>RandomizedSearchCV(cv=ShuffleSplit(n_splits=10, random_state=42, test_size=0.2, train_size=None),\n",
       "                   estimator=Pipeline(steps=[(&#x27;poly&#x27;, PolynomialFeatures()),\n",
       "                                             (&#x27;feature_scaling&#x27;,\n",
       "                                              StandardScaler()),\n",
       "                                             (&#x27;sgd_reg&#x27;,\n",
       "                                              SGDRegressor(penalty=&#x27;elasticnet&#x27;,\n",
       "                                                           random_state=42))]),\n",
       "                   param_distributions={&#x27;poly__degree&#x27;: [1, 2, 3],\n",
       "                                        &#x27;sgd_reg__eta0&#x27;: &lt;scipy.stats._distn_infrastructure.rv_frozen object at 0x00000236BA2BA580&gt;,\n",
       "                                        &#x27;sgd_reg__l1_ratio&#x27;: &lt;scipy.stats._distn_infrastructure.rv_frozen object at 0x00000236B8ADA220&gt;,\n",
       "                                        &#x27;sgd_reg__learning_rate&#x27;: [&#x27;constant&#x27;,\n",
       "                                                                   &#x27;adaptive&#x27;,\n",
       "                                                                   &#x27;invscaling&#x27;],\n",
       "                                        &#x27;sgd_reg__power_t&#x27;: &lt;scipy.stats._distn_infrastructure.rv_frozen object at 0x00000236B8ADA550&gt;},\n",
       "                   scoring=&#x27;neg_mean_absolute_error&#x27;, verbose=1)</pre><b>In a Jupyter environment, please rerun this cell to show the HTML representation or trust the notebook. <br />On GitHub, the HTML representation is unable to render, please try loading this page with nbviewer.org.</b></div><div class=\"sk-container\" hidden><div class=\"sk-item sk-dashed-wrapped\"><div class=\"sk-label-container\"><div class=\"sk-label sk-toggleable\"><input class=\"sk-toggleable__control sk-hidden--visually\" id=\"sk-estimator-id-1\" type=\"checkbox\" ><label for=\"sk-estimator-id-1\" class=\"sk-toggleable__label sk-toggleable__label-arrow\">RandomizedSearchCV</label><div class=\"sk-toggleable__content\"><pre>RandomizedSearchCV(cv=ShuffleSplit(n_splits=10, random_state=42, test_size=0.2, train_size=None),\n",
       "                   estimator=Pipeline(steps=[(&#x27;poly&#x27;, PolynomialFeatures()),\n",
       "                                             (&#x27;feature_scaling&#x27;,\n",
       "                                              StandardScaler()),\n",
       "                                             (&#x27;sgd_reg&#x27;,\n",
       "                                              SGDRegressor(penalty=&#x27;elasticnet&#x27;,\n",
       "                                                           random_state=42))]),\n",
       "                   param_distributions={&#x27;poly__degree&#x27;: [1, 2, 3],\n",
       "                                        &#x27;sgd_reg__eta0&#x27;: &lt;scipy.stats._distn_infrastructure.rv_frozen object at 0x00000236BA2BA580&gt;,\n",
       "                                        &#x27;sgd_reg__l1_ratio&#x27;: &lt;scipy.stats._distn_infrastructure.rv_frozen object at 0x00000236B8ADA220&gt;,\n",
       "                                        &#x27;sgd_reg__learning_rate&#x27;: [&#x27;constant&#x27;,\n",
       "                                                                   &#x27;adaptive&#x27;,\n",
       "                                                                   &#x27;invscaling&#x27;],\n",
       "                                        &#x27;sgd_reg__power_t&#x27;: &lt;scipy.stats._distn_infrastructure.rv_frozen object at 0x00000236B8ADA550&gt;},\n",
       "                   scoring=&#x27;neg_mean_absolute_error&#x27;, verbose=1)</pre></div></div></div><div class=\"sk-parallel\"><div class=\"sk-parallel-item\"><div class=\"sk-item\"><div class=\"sk-label-container\"><div class=\"sk-label sk-toggleable\"><input class=\"sk-toggleable__control sk-hidden--visually\" id=\"sk-estimator-id-2\" type=\"checkbox\" ><label for=\"sk-estimator-id-2\" class=\"sk-toggleable__label sk-toggleable__label-arrow\">estimator: Pipeline</label><div class=\"sk-toggleable__content\"><pre>Pipeline(steps=[(&#x27;poly&#x27;, PolynomialFeatures()),\n",
       "                (&#x27;feature_scaling&#x27;, StandardScaler()),\n",
       "                (&#x27;sgd_reg&#x27;,\n",
       "                 SGDRegressor(penalty=&#x27;elasticnet&#x27;, random_state=42))])</pre></div></div></div><div class=\"sk-serial\"><div class=\"sk-item\"><div class=\"sk-serial\"><div class=\"sk-item\"><div class=\"sk-estimator sk-toggleable\"><input class=\"sk-toggleable__control sk-hidden--visually\" id=\"sk-estimator-id-3\" type=\"checkbox\" ><label for=\"sk-estimator-id-3\" class=\"sk-toggleable__label sk-toggleable__label-arrow\">PolynomialFeatures</label><div class=\"sk-toggleable__content\"><pre>PolynomialFeatures()</pre></div></div></div><div class=\"sk-item\"><div class=\"sk-estimator sk-toggleable\"><input class=\"sk-toggleable__control sk-hidden--visually\" id=\"sk-estimator-id-4\" type=\"checkbox\" ><label for=\"sk-estimator-id-4\" class=\"sk-toggleable__label sk-toggleable__label-arrow\">StandardScaler</label><div class=\"sk-toggleable__content\"><pre>StandardScaler()</pre></div></div></div><div class=\"sk-item\"><div class=\"sk-estimator sk-toggleable\"><input class=\"sk-toggleable__control sk-hidden--visually\" id=\"sk-estimator-id-5\" type=\"checkbox\" ><label for=\"sk-estimator-id-5\" class=\"sk-toggleable__label sk-toggleable__label-arrow\">SGDRegressor</label><div class=\"sk-toggleable__content\"><pre>SGDRegressor(penalty=&#x27;elasticnet&#x27;, random_state=42)</pre></div></div></div></div></div></div></div></div></div></div></div></div>"
      ],
      "text/plain": [
       "RandomizedSearchCV(cv=ShuffleSplit(n_splits=10, random_state=42, test_size=0.2, train_size=None),\n",
       "                   estimator=Pipeline(steps=[('poly', PolynomialFeatures()),\n",
       "                                             ('feature_scaling',\n",
       "                                              StandardScaler()),\n",
       "                                             ('sgd_reg',\n",
       "                                              SGDRegressor(penalty='elasticnet',\n",
       "                                                           random_state=42))]),\n",
       "                   param_distributions={'poly__degree': [1, 2, 3],\n",
       "                                        'sgd_reg__eta0': <scipy.stats._distn_infrastructure.rv_frozen object at 0x00000236BA2BA580>,\n",
       "                                        'sgd_reg__l1_ratio': <scipy.stats._distn_infrastructure.rv_frozen object at 0x00000236B8ADA220>,\n",
       "                                        'sgd_reg__learning_rate': ['constant',\n",
       "                                                                   'adaptive',\n",
       "                                                                   'invscaling'],\n",
       "                                        'sgd_reg__power_t': <scipy.stats._distn_infrastructure.rv_frozen object at 0x00000236B8ADA550>},\n",
       "                   scoring='neg_mean_absolute_error', verbose=1)"
      ]
     },
     "execution_count": 9,
     "metadata": {},
     "output_type": "execute_result"
    }
   ],
   "source": [
    "param_distributions = {\n",
    "    'poly__degree':[1,2,3],\n",
    "    'sgd_reg__learning_rate': ['constant', 'adaptive', 'invscaling'],\n",
    "    'sgd_reg__l1_ratio': uniform(0,1),\n",
    "    'sgd_reg__eta0': loguniform(1e-5,1),\n",
    "    'sgd_reg__power_t': uniform(0,1)\n",
    "} \n",
    "\n",
    "poly_sgd_random_search_cv = RandomizedSearchCV(\n",
    "    poly_sgd_pipeline, param_distributions=param_distributions, n_iter =10, cv=cv, verbose=1, scoring='neg_mean_absolute_error'\n",
    ")\n",
    "\n",
    "poly_sgd_random_search_cv.fit(com_train_features,com_train_labels)"
   ]
  },
  {
   "cell_type": "markdown",
   "metadata": {},
   "source": [
    "The best score can be obtained as follows :"
   ]
  },
  {
   "cell_type": "code",
   "execution_count": 10,
   "metadata": {},
   "outputs": [
    {
     "data": {
      "text/plain": [
       "-0.5271573234998475"
      ]
     },
     "execution_count": 10,
     "metadata": {},
     "output_type": "execute_result"
    }
   ],
   "source": [
    "poly_sgd_random_search_cv.best_score_"
   ]
  },
  {
   "cell_type": "markdown",
   "metadata": {},
   "source": [
    "The best set of parameters are obtained as follows:"
   ]
  },
  {
   "cell_type": "code",
   "execution_count": 11,
   "metadata": {},
   "outputs": [
    {
     "data": {
      "text/plain": [
       "{'poly__degree': 2,\n",
       " 'sgd_reg__eta0': 2.3063822138075523e-05,\n",
       " 'sgd_reg__l1_ratio': 0.4590765695698895,\n",
       " 'sgd_reg__learning_rate': 'adaptive',\n",
       " 'sgd_reg__power_t': 0.17208702250773023}"
      ]
     },
     "execution_count": 11,
     "metadata": {},
     "output_type": "execute_result"
    }
   ],
   "source": [
    "poly_sgd_random_search_cv.best_params_"
   ]
  },
  {
   "cell_type": "markdown",
   "metadata": {},
   "source": [
    "And the best estimator can be accessed as follows : "
   ]
  },
  {
   "cell_type": "code",
   "execution_count": 12,
   "metadata": {},
   "outputs": [
    {
     "data": {
      "text/html": [
       "<style>#sk-container-id-2 {color: black;background-color: white;}#sk-container-id-2 pre{padding: 0;}#sk-container-id-2 div.sk-toggleable {background-color: white;}#sk-container-id-2 label.sk-toggleable__label {cursor: pointer;display: block;width: 100%;margin-bottom: 0;padding: 0.3em;box-sizing: border-box;text-align: center;}#sk-container-id-2 label.sk-toggleable__label-arrow:before {content: \"▸\";float: left;margin-right: 0.25em;color: #696969;}#sk-container-id-2 label.sk-toggleable__label-arrow:hover:before {color: black;}#sk-container-id-2 div.sk-estimator:hover label.sk-toggleable__label-arrow:before {color: black;}#sk-container-id-2 div.sk-toggleable__content {max-height: 0;max-width: 0;overflow: hidden;text-align: left;background-color: #f0f8ff;}#sk-container-id-2 div.sk-toggleable__content pre {margin: 0.2em;color: black;border-radius: 0.25em;background-color: #f0f8ff;}#sk-container-id-2 input.sk-toggleable__control:checked~div.sk-toggleable__content {max-height: 200px;max-width: 100%;overflow: auto;}#sk-container-id-2 input.sk-toggleable__control:checked~label.sk-toggleable__label-arrow:before {content: \"▾\";}#sk-container-id-2 div.sk-estimator input.sk-toggleable__control:checked~label.sk-toggleable__label {background-color: #d4ebff;}#sk-container-id-2 div.sk-label input.sk-toggleable__control:checked~label.sk-toggleable__label {background-color: #d4ebff;}#sk-container-id-2 input.sk-hidden--visually {border: 0;clip: rect(1px 1px 1px 1px);clip: rect(1px, 1px, 1px, 1px);height: 1px;margin: -1px;overflow: hidden;padding: 0;position: absolute;width: 1px;}#sk-container-id-2 div.sk-estimator {font-family: monospace;background-color: #f0f8ff;border: 1px dotted black;border-radius: 0.25em;box-sizing: border-box;margin-bottom: 0.5em;}#sk-container-id-2 div.sk-estimator:hover {background-color: #d4ebff;}#sk-container-id-2 div.sk-parallel-item::after {content: \"\";width: 100%;border-bottom: 1px solid gray;flex-grow: 1;}#sk-container-id-2 div.sk-label:hover label.sk-toggleable__label {background-color: #d4ebff;}#sk-container-id-2 div.sk-serial::before {content: \"\";position: absolute;border-left: 1px solid gray;box-sizing: border-box;top: 0;bottom: 0;left: 50%;z-index: 0;}#sk-container-id-2 div.sk-serial {display: flex;flex-direction: column;align-items: center;background-color: white;padding-right: 0.2em;padding-left: 0.2em;position: relative;}#sk-container-id-2 div.sk-item {position: relative;z-index: 1;}#sk-container-id-2 div.sk-parallel {display: flex;align-items: stretch;justify-content: center;background-color: white;position: relative;}#sk-container-id-2 div.sk-item::before, #sk-container-id-2 div.sk-parallel-item::before {content: \"\";position: absolute;border-left: 1px solid gray;box-sizing: border-box;top: 0;bottom: 0;left: 50%;z-index: -1;}#sk-container-id-2 div.sk-parallel-item {display: flex;flex-direction: column;z-index: 1;position: relative;background-color: white;}#sk-container-id-2 div.sk-parallel-item:first-child::after {align-self: flex-end;width: 50%;}#sk-container-id-2 div.sk-parallel-item:last-child::after {align-self: flex-start;width: 50%;}#sk-container-id-2 div.sk-parallel-item:only-child::after {width: 0;}#sk-container-id-2 div.sk-dashed-wrapped {border: 1px dashed gray;margin: 0 0.4em 0.5em 0.4em;box-sizing: border-box;padding-bottom: 0.4em;background-color: white;}#sk-container-id-2 div.sk-label label {font-family: monospace;font-weight: bold;display: inline-block;line-height: 1.2em;}#sk-container-id-2 div.sk-label-container {text-align: center;}#sk-container-id-2 div.sk-container {/* jupyter's `normalize.less` sets `[hidden] { display: none; }` but bootstrap.min.css set `[hidden] { display: none !important; }` so we also need the `!important` here to be able to override the default hidden behavior on the sphinx rendered scikit-learn.org. See: https://github.com/scikit-learn/scikit-learn/issues/21755 */display: inline-block !important;position: relative;}#sk-container-id-2 div.sk-text-repr-fallback {display: none;}</style><div id=\"sk-container-id-2\" class=\"sk-top-container\"><div class=\"sk-text-repr-fallback\"><pre>Pipeline(steps=[(&#x27;poly&#x27;, PolynomialFeatures()),\n",
       "                (&#x27;feature_scaling&#x27;, StandardScaler()),\n",
       "                (&#x27;sgd_reg&#x27;,\n",
       "                 SGDRegressor(eta0=2.3063822138075523e-05,\n",
       "                              l1_ratio=0.4590765695698895,\n",
       "                              learning_rate=&#x27;adaptive&#x27;, penalty=&#x27;elasticnet&#x27;,\n",
       "                              power_t=0.17208702250773023, random_state=42))])</pre><b>In a Jupyter environment, please rerun this cell to show the HTML representation or trust the notebook. <br />On GitHub, the HTML representation is unable to render, please try loading this page with nbviewer.org.</b></div><div class=\"sk-container\" hidden><div class=\"sk-item sk-dashed-wrapped\"><div class=\"sk-label-container\"><div class=\"sk-label sk-toggleable\"><input class=\"sk-toggleable__control sk-hidden--visually\" id=\"sk-estimator-id-6\" type=\"checkbox\" ><label for=\"sk-estimator-id-6\" class=\"sk-toggleable__label sk-toggleable__label-arrow\">Pipeline</label><div class=\"sk-toggleable__content\"><pre>Pipeline(steps=[(&#x27;poly&#x27;, PolynomialFeatures()),\n",
       "                (&#x27;feature_scaling&#x27;, StandardScaler()),\n",
       "                (&#x27;sgd_reg&#x27;,\n",
       "                 SGDRegressor(eta0=2.3063822138075523e-05,\n",
       "                              l1_ratio=0.4590765695698895,\n",
       "                              learning_rate=&#x27;adaptive&#x27;, penalty=&#x27;elasticnet&#x27;,\n",
       "                              power_t=0.17208702250773023, random_state=42))])</pre></div></div></div><div class=\"sk-serial\"><div class=\"sk-item\"><div class=\"sk-estimator sk-toggleable\"><input class=\"sk-toggleable__control sk-hidden--visually\" id=\"sk-estimator-id-7\" type=\"checkbox\" ><label for=\"sk-estimator-id-7\" class=\"sk-toggleable__label sk-toggleable__label-arrow\">PolynomialFeatures</label><div class=\"sk-toggleable__content\"><pre>PolynomialFeatures()</pre></div></div></div><div class=\"sk-item\"><div class=\"sk-estimator sk-toggleable\"><input class=\"sk-toggleable__control sk-hidden--visually\" id=\"sk-estimator-id-8\" type=\"checkbox\" ><label for=\"sk-estimator-id-8\" class=\"sk-toggleable__label sk-toggleable__label-arrow\">StandardScaler</label><div class=\"sk-toggleable__content\"><pre>StandardScaler()</pre></div></div></div><div class=\"sk-item\"><div class=\"sk-estimator sk-toggleable\"><input class=\"sk-toggleable__control sk-hidden--visually\" id=\"sk-estimator-id-9\" type=\"checkbox\" ><label for=\"sk-estimator-id-9\" class=\"sk-toggleable__label sk-toggleable__label-arrow\">SGDRegressor</label><div class=\"sk-toggleable__content\"><pre>SGDRegressor(eta0=2.3063822138075523e-05, l1_ratio=0.4590765695698895,\n",
       "             learning_rate=&#x27;adaptive&#x27;, penalty=&#x27;elasticnet&#x27;,\n",
       "             power_t=0.17208702250773023, random_state=42)</pre></div></div></div></div></div></div></div>"
      ],
      "text/plain": [
       "Pipeline(steps=[('poly', PolynomialFeatures()),\n",
       "                ('feature_scaling', StandardScaler()),\n",
       "                ('sgd_reg',\n",
       "                 SGDRegressor(eta0=2.3063822138075523e-05,\n",
       "                              l1_ratio=0.4590765695698895,\n",
       "                              learning_rate='adaptive', penalty='elasticnet',\n",
       "                              power_t=0.17208702250773023, random_state=42))])"
      ]
     },
     "execution_count": 12,
     "metadata": {},
     "output_type": "execute_result"
    }
   ],
   "source": [
    "poly_sgd_random_search_cv.best_estimator_"
   ]
  },
  {
   "cell_type": "markdown",
   "metadata": {},
   "source": [
    "### 3. **Polynomial Regression**\n",
    "\n",
    "* We will train a polynomial model with degree 2 and later we will use `validation_curve` to find out right degree to use for polynomial models.\n",
    "\n",
    "* `PolynomialFeatures` transforms the features to the user specified degrees (here it is 2). \n",
    "\n",
    "* We perform feature scaling on the transformed features before using them for training the regression model.\n"
   ]
  },
  {
   "cell_type": "code",
   "execution_count": 13,
   "metadata": {},
   "outputs": [
    {
     "name": "stdout",
     "output_type": "stream",
     "text": [
      "Mean absolute error of polynomial regression model of degree 2 on the train set: \n",
      "0.461 +/- 0.003\n",
      "Mean absolute error of polynomial regression model of degree 2 on the test set: \n",
      "0.485 +/- 0.030\n"
     ]
    }
   ],
   "source": [
    "poly_reg_pipeline = Pipeline([\n",
    "                             ('poly', PolynomialFeatures(degree=2)),\n",
    "                             ('feature_scaling', StandardScaler()),\n",
    "                             ('lin_reg', LinearRegression())])\n",
    "\n",
    "poly_reg_cv_results = cross_validate(poly_reg_pipeline,\n",
    "                                     com_train_features,\n",
    "                                     com_train_labels,\n",
    "                                     cv=cv,\n",
    "                                     scoring='neg_mean_absolute_error',\n",
    "                                     return_train_score=True,\n",
    "                                     return_estimator=True)\n",
    "\n",
    "poly_reg_train_error = -1 * poly_reg_cv_results['train_score']\n",
    "poly_reg_test_error = -1 * poly_reg_cv_results['test_score']\n",
    "\n",
    "print(f\"Mean absolute error of polynomial regression model of degree 2 on the train set: \\n\" f\"{poly_reg_train_error.mean():.3f} +/- {poly_reg_train_error.std():.3f}\")\n",
    "\n",
    "print(f\"Mean absolute error of polynomial regression model of degree 2 on the test set: \\n\" f\"{poly_reg_test_error.mean():.3f} +/- {poly_reg_test_error.std():.3f}\")\n"
   ]
  },
  {
   "cell_type": "markdown",
   "metadata": {},
   "source": [
    "Notice that the training and validation errors have reduced after using the second order polynomial features to represent the model.\n",
    "\n",
    "Instead of using all polynomial feature, we use only interaction feature terms (i.e `interaction_only = True` ) in polynomial model and train the linear regression model."
   ]
  },
  {
   "cell_type": "code",
   "execution_count": 14,
   "metadata": {},
   "outputs": [
    {
     "name": "stdout",
     "output_type": "stream",
     "text": [
      "Mean absolute error of polynomial regression model of degree 2 on the train set: \n",
      "0.478 +/- 0.003\n",
      "Mean absolute error of polynomial regression model of degree 2 on the test set: \n",
      "0.497 +/- 0.024\n"
     ]
    }
   ],
   "source": [
    "poly_reg_pipeline = Pipeline([\n",
    "                             ('poly', PolynomialFeatures(\n",
    "                                 degree=2, interaction_only=True)),\n",
    "                             ('feature_scaling', StandardScaler()),\n",
    "                             ('lin_reg', LinearRegression())])\n",
    "\n",
    "poly_reg_cv_results = cross_validate(poly_reg_pipeline,\n",
    "                                     com_train_features,\n",
    "                                     com_train_labels,\n",
    "                                     cv=cv,\n",
    "                                     scoring='neg_mean_absolute_error',\n",
    "                                     return_train_score=True,\n",
    "                                     return_estimator=True)\n",
    "\n",
    "poly_reg_train_error = -1 * poly_reg_cv_results['train_score']\n",
    "poly_reg_test_error = -1*poly_reg_cv_results['test_score']\n",
    "\n",
    "print(f\"Mean absolute error of polynomial regression model of degree 2 on the train set: \\n\" f\"{poly_reg_train_error.mean():.3f} +/- {poly_reg_train_error.std():.3f}\")\n",
    "\n",
    "print(f\"Mean absolute error of polynomial regression model of degree 2 on the test set: \\n\" f\"{poly_reg_test_error.mean():.3f} +/- {poly_reg_test_error.std():.3f}\")\n"
   ]
  },
  {
   "cell_type": "markdown",
   "metadata": {},
   "source": [
    "Notice that the training and validation errors have increased after using `interaction_only = True` to represent the model."
   ]
  },
  {
   "cell_type": "markdown",
   "metadata": {},
   "source": [
    "Let's figure out which degree polynomial is better suited for the regression problem at our hand. For that we will use `validation_curve`, which can be considered as a manual huperparameter tuning.\n",
    "\n",
    "Here we specify a list of values that we want to try for polynomial degree and specify it as a parameter in `validation_curve`. "
   ]
  },
  {
   "cell_type": "code",
   "execution_count": 15,
   "metadata": {},
   "outputs": [
    {
     "data": {
      "image/png": "[encoded data removed]",
      "text/plain": [
       "<Figure size 432x288 with 1 Axes>"
      ]
     },
     "metadata": {
      "needs_background": "light"
     },
     "output_type": "display_data"
    }
   ],
   "source": [
    "degree = [1, 2, 3, 4, 5]\n",
    "\n",
    "train_scores, test_scores = validation_curve(\n",
    "    poly_reg_pipeline, com_train_features, com_train_labels, param_name='poly__degree',\n",
    "    param_range=degree, cv=cv, scoring='neg_mean_absolute_error', n_jobs=2\n",
    ")\n",
    "\n",
    "train_errors, test_errors = -train_scores, -test_scores\n",
    "plt.plot(degree, train_errors.mean(axis=1), 'b-x', label=\"Training error\")\n",
    "plt.plot(degree, test_errors.mean(axis=1), 'r-x', label=\"Test error\")\n",
    "plt.legend()\n",
    "\n",
    "plt.xlabel(\"degree\")\n",
    "plt.ylabel(\"Mean absolute error (k$)\")\n",
    "plt.title(\"Validation curve for polynomial regression\")\n",
    "plt.show()"
   ]
  },
  {
   "cell_type": "markdown",
   "metadata": {},
   "source": [
    "We would select a degree for which the mean absolute error is the least. \n",
    "\n",
    "In this case, it is degree = 2 that yields the least mean absolute error and that would be selected as an optimal degree for polynomial regression. "
   ]
  },
  {
   "cell_type": "markdown",
   "metadata": {},
   "source": [
    "### 4. **Ridge Regression**\n",
    "\n",
    "* The polynomial models have a tendency to overfit - if we use higher order polynomial features. \n",
    "\n",
    "* We will use `Ridge` regression - which penalizes for excessive model complexity in the polynomial regression by adding a regularization term. \n",
    "\n",
    "* Here we specify the regularization rate `alpha` as 0.5 and train the regression model. \n",
    "\n",
    "* Later we will launch hyperparameter search for the right value of `alpha` such that it leads to the least cross validation errors."
   ]
  },
  {
   "cell_type": "code",
   "execution_count": 16,
   "metadata": {},
   "outputs": [
    {
     "name": "stdout",
     "output_type": "stream",
     "text": [
      "Mean absolute error of ridge regression model (alpha=0.5) the train set: \n",
      "0.481 +/- 0.003\n",
      "Mean absolute error of ridge regression model (alpha=0.5) the test set: \n",
      "0.487 +/- 0.006\n"
     ]
    }
   ],
   "source": [
    "ridge_reg_pipeline = Pipeline([\n",
    "                             ('poly', PolynomialFeatures(degree=2)),\n",
    "                             ('feature_scaling', StandardScaler()),\n",
    "                             ('ridge', Ridge(alpha=0.5))])\n",
    "\n",
    "ridge_reg_cv_results = cross_validate(ridge_reg_pipeline,\n",
    "                                      com_train_features,\n",
    "                                      com_train_labels,\n",
    "                                      cv=cv,\n",
    "                                      scoring='neg_mean_absolute_error',\n",
    "                                      return_train_score=True,\n",
    "                                      return_estimator=True)\n",
    "\n",
    "ridge_reg_train_error = -1 * ridge_reg_cv_results['train_score']\n",
    "ridge_reg_test_error = -1 * ridge_reg_cv_results['test_score']\n",
    "\n",
    "print(f'Mean absolute error of ridge regression model (alpha=0.5) the train set: \\n' f'{ridge_reg_train_error.mean():.3f} +/- {ridge_reg_train_error.std():.3f}')\n",
    "\n",
    "print(f'Mean absolute error of ridge regression model (alpha=0.5) the test set: \\n' f'{ridge_reg_test_error.mean():.3f} +/- {ridge_reg_test_error.std():.3f}')\n"
   ]
  },
  {
   "cell_type": "markdown",
   "metadata": {},
   "source": [
    "#### Hyperparameter tuning for ridge regularization rate"
   ]
  },
  {
   "cell_type": "code",
   "execution_count": 17,
   "metadata": {},
   "outputs": [],
   "source": [
    "alpha_list = np.logspace(-4, 0, num=20)\n",
    "\n",
    "ridge_reg_pipeline = Pipeline([\n",
    "    ('poly', PolynomialFeatures(degree=2)),\n",
    "    ('feature_scaling', StandardScaler()),\n",
    "    ('ridge_cv', RidgeCV(alphas=alpha_list, cv=cv, scoring='neg_mean_absolute_error'))\n",
    "])\n",
    "\n",
    "ridge_reg_cv_results = ridge_reg_pipeline.fit(com_train_features, com_train_labels)"
   ]
  },
  {
   "cell_type": "code",
   "execution_count": 18,
   "metadata": {},
   "outputs": [
    {
     "name": "stdout",
     "output_type": "stream",
     "text": [
      "The score with the best alpha is : -0.473\n",
      "The error with the best alpha is : 0.473\n",
      "The best value for alpha : 0.007847599703514606\n"
     ]
    }
   ],
   "source": [
    "print('The score with the best alpha is :',\n",
    "      f'{ridge_reg_cv_results[-1].best_score_:.3f}')\n",
    "\n",
    "print('The error with the best alpha is :',\n",
    "      f'{-ridge_reg_cv_results[-1].best_score_:.3f}')\n",
    "\n",
    "print('The best value for alpha :', ridge_reg_cv_results[-1].alpha_)\n"
   ]
  },
  {
   "cell_type": "markdown",
   "metadata": {},
   "source": [
    "#### Ridge HPT through **GridSearchCV**"
   ]
  },
  {
   "cell_type": "code",
   "execution_count": 19,
   "metadata": {},
   "outputs": [],
   "source": [
    "ridge_grid_pipeline = Pipeline([\n",
    "    ('poly', PolynomialFeatures(degree=2)),\n",
    "    ('feature_scaling', StandardScaler()),\n",
    "    ('ridge', Ridge())])\n",
    "\n",
    "param_grid = {'poly__degree': (1, 2, 3),\n",
    "              'ridge__alpha': np.logspace(-4, 0, num=20)}"
   ]
  },
  {
   "cell_type": "code",
   "execution_count": 20,
   "metadata": {},
   "outputs": [
    {
     "data": {
      "text/html": [
       "<style>#sk-container-id-3 {color: black;background-color: white;}#sk-container-id-3 pre{padding: 0;}#sk-container-id-3 div.sk-toggleable {background-color: white;}#sk-container-id-3 label.sk-toggleable__label {cursor: pointer;display: block;width: 100%;margin-bottom: 0;padding: 0.3em;box-sizing: border-box;text-align: center;}#sk-container-id-3 label.sk-toggleable__label-arrow:before {content: \"▸\";float: left;margin-right: 0.25em;color: #696969;}#sk-container-id-3 label.sk-toggleable__label-arrow:hover:before {color: black;}#sk-container-id-3 div.sk-estimator:hover label.sk-toggleable__label-arrow:before {color: black;}#sk-container-id-3 div.sk-toggleable__content {max-height: 0;max-width: 0;overflow: hidden;text-align: left;background-color: #f0f8ff;}#sk-container-id-3 div.sk-toggleable__content pre {margin: 0.2em;color: black;border-radius: 0.25em;background-color: #f0f8ff;}#sk-container-id-3 input.sk-toggleable__control:checked~div.sk-toggleable__content {max-height: 200px;max-width: 100%;overflow: auto;}#sk-container-id-3 input.sk-toggleable__control:checked~label.sk-toggleable__label-arrow:before {content: \"▾\";}#sk-container-id-3 div.sk-estimator input.sk-toggleable__control:checked~label.sk-toggleable__label {background-color: #d4ebff;}#sk-container-id-3 div.sk-label input.sk-toggleable__control:checked~label.sk-toggleable__label {background-color: #d4ebff;}#sk-container-id-3 input.sk-hidden--visually {border: 0;clip: rect(1px 1px 1px 1px);clip: rect(1px, 1px, 1px, 1px);height: 1px;margin: -1px;overflow: hidden;padding: 0;position: absolute;width: 1px;}#sk-container-id-3 div.sk-estimator {font-family: monospace;background-color: #f0f8ff;border: 1px dotted black;border-radius: 0.25em;box-sizing: border-box;margin-bottom: 0.5em;}#sk-container-id-3 div.sk-estimator:hover {background-color: #d4ebff;}#sk-container-id-3 div.sk-parallel-item::after {content: \"\";width: 100%;border-bottom: 1px solid gray;flex-grow: 1;}#sk-container-id-3 div.sk-label:hover label.sk-toggleable__label {background-color: #d4ebff;}#sk-container-id-3 div.sk-serial::before {content: \"\";position: absolute;border-left: 1px solid gray;box-sizing: border-box;top: 0;bottom: 0;left: 50%;z-index: 0;}#sk-container-id-3 div.sk-serial {display: flex;flex-direction: column;align-items: center;background-color: white;padding-right: 0.2em;padding-left: 0.2em;position: relative;}#sk-container-id-3 div.sk-item {position: relative;z-index: 1;}#sk-container-id-3 div.sk-parallel {display: flex;align-items: stretch;justify-content: center;background-color: white;position: relative;}#sk-container-id-3 div.sk-item::before, #sk-container-id-3 div.sk-parallel-item::before {content: \"\";position: absolute;border-left: 1px solid gray;box-sizing: border-box;top: 0;bottom: 0;left: 50%;z-index: -1;}#sk-container-id-3 div.sk-parallel-item {display: flex;flex-direction: column;z-index: 1;position: relative;background-color: white;}#sk-container-id-3 div.sk-parallel-item:first-child::after {align-self: flex-end;width: 50%;}#sk-container-id-3 div.sk-parallel-item:last-child::after {align-self: flex-start;width: 50%;}#sk-container-id-3 div.sk-parallel-item:only-child::after {width: 0;}#sk-container-id-3 div.sk-dashed-wrapped {border: 1px dashed gray;margin: 0 0.4em 0.5em 0.4em;box-sizing: border-box;padding-bottom: 0.4em;background-color: white;}#sk-container-id-3 div.sk-label label {font-family: monospace;font-weight: bold;display: inline-block;line-height: 1.2em;}#sk-container-id-3 div.sk-label-container {text-align: center;}#sk-container-id-3 div.sk-container {/* jupyter's `normalize.less` sets `[hidden] { display: none; }` but bootstrap.min.css set `[hidden] { display: none !important; }` so we also need the `!important` here to be able to override the default hidden behavior on the sphinx rendered scikit-learn.org. See: https://github.com/scikit-learn/scikit-learn/issues/21755 */display: inline-block !important;position: relative;}#sk-container-id-3 div.sk-text-repr-fallback {display: none;}</style><div id=\"sk-container-id-3\" class=\"sk-top-container\"><div class=\"sk-text-repr-fallback\"><pre>GridSearchCV(cv=ShuffleSplit(n_splits=10, random_state=42, test_size=0.2, train_size=None),\n",
       "             estimator=Pipeline(steps=[(&#x27;poly&#x27;, PolynomialFeatures()),\n",
       "                                       (&#x27;feature_scaling&#x27;, StandardScaler()),\n",
       "                                       (&#x27;ridge&#x27;, Ridge())]),\n",
       "             n_jobs=-1,\n",
       "             param_grid={&#x27;poly__degree&#x27;: (1, 2, 3),\n",
       "                         &#x27;ridge__alpha&#x27;: array([1.00000000e-04, 1.62377674e-04, 2.63665090e-04, 4.28133240e-04,\n",
       "       6.95192796e-04, 1.12883789e-03, 1.83298071e-03, 2.97635144e-03,\n",
       "       4.83293024e-03, 7.84759970e-03, 1.27427499e-02, 2.06913808e-02,\n",
       "       3.35981829e-02, 5.45559478e-02, 8.85866790e-02, 1.43844989e-01,\n",
       "       2.33572147e-01, 3.79269019e-01, 6.15848211e-01, 1.00000000e+00])},\n",
       "             return_train_score=True, scoring=&#x27;neg_mean_absolute_error&#x27;)</pre><b>In a Jupyter environment, please rerun this cell to show the HTML representation or trust the notebook. <br />On GitHub, the HTML representation is unable to render, please try loading this page with nbviewer.org.</b></div><div class=\"sk-container\" hidden><div class=\"sk-item sk-dashed-wrapped\"><div class=\"sk-label-container\"><div class=\"sk-label sk-toggleable\"><input class=\"sk-toggleable__control sk-hidden--visually\" id=\"sk-estimator-id-10\" type=\"checkbox\" ><label for=\"sk-estimator-id-10\" class=\"sk-toggleable__label sk-toggleable__label-arrow\">GridSearchCV</label><div class=\"sk-toggleable__content\"><pre>GridSearchCV(cv=ShuffleSplit(n_splits=10, random_state=42, test_size=0.2, train_size=None),\n",
       "             estimator=Pipeline(steps=[(&#x27;poly&#x27;, PolynomialFeatures()),\n",
       "                                       (&#x27;feature_scaling&#x27;, StandardScaler()),\n",
       "                                       (&#x27;ridge&#x27;, Ridge())]),\n",
       "             n_jobs=-1,\n",
       "             param_grid={&#x27;poly__degree&#x27;: (1, 2, 3),\n",
       "                         &#x27;ridge__alpha&#x27;: array([1.00000000e-04, 1.62377674e-04, 2.63665090e-04, 4.28133240e-04,\n",
       "       6.95192796e-04, 1.12883789e-03, 1.83298071e-03, 2.97635144e-03,\n",
       "       4.83293024e-03, 7.84759970e-03, 1.27427499e-02, 2.06913808e-02,\n",
       "       3.35981829e-02, 5.45559478e-02, 8.85866790e-02, 1.43844989e-01,\n",
       "       2.33572147e-01, 3.79269019e-01, 6.15848211e-01, 1.00000000e+00])},\n",
       "             return_train_score=True, scoring=&#x27;neg_mean_absolute_error&#x27;)</pre></div></div></div><div class=\"sk-parallel\"><div class=\"sk-parallel-item\"><div class=\"sk-item\"><div class=\"sk-label-container\"><div class=\"sk-label sk-toggleable\"><input class=\"sk-toggleable__control sk-hidden--visually\" id=\"sk-estimator-id-11\" type=\"checkbox\" ><label for=\"sk-estimator-id-11\" class=\"sk-toggleable__label sk-toggleable__label-arrow\">estimator: Pipeline</label><div class=\"sk-toggleable__content\"><pre>Pipeline(steps=[(&#x27;poly&#x27;, PolynomialFeatures()),\n",
       "                (&#x27;feature_scaling&#x27;, StandardScaler()), (&#x27;ridge&#x27;, Ridge())])</pre></div></div></div><div class=\"sk-serial\"><div class=\"sk-item\"><div class=\"sk-serial\"><div class=\"sk-item\"><div class=\"sk-estimator sk-toggleable\"><input class=\"sk-toggleable__control sk-hidden--visually\" id=\"sk-estimator-id-12\" type=\"checkbox\" ><label for=\"sk-estimator-id-12\" class=\"sk-toggleable__label sk-toggleable__label-arrow\">PolynomialFeatures</label><div class=\"sk-toggleable__content\"><pre>PolynomialFeatures()</pre></div></div></div><div class=\"sk-item\"><div class=\"sk-estimator sk-toggleable\"><input class=\"sk-toggleable__control sk-hidden--visually\" id=\"sk-estimator-id-13\" type=\"checkbox\" ><label for=\"sk-estimator-id-13\" class=\"sk-toggleable__label sk-toggleable__label-arrow\">StandardScaler</label><div class=\"sk-toggleable__content\"><pre>StandardScaler()</pre></div></div></div><div class=\"sk-item\"><div class=\"sk-estimator sk-toggleable\"><input class=\"sk-toggleable__control sk-hidden--visually\" id=\"sk-estimator-id-14\" type=\"checkbox\" ><label for=\"sk-estimator-id-14\" class=\"sk-toggleable__label sk-toggleable__label-arrow\">Ridge</label><div class=\"sk-toggleable__content\"><pre>Ridge()</pre></div></div></div></div></div></div></div></div></div></div></div></div>"
      ],
      "text/plain": [
       "GridSearchCV(cv=ShuffleSplit(n_splits=10, random_state=42, test_size=0.2, train_size=None),\n",
       "             estimator=Pipeline(steps=[('poly', PolynomialFeatures()),\n",
       "                                       ('feature_scaling', StandardScaler()),\n",
       "                                       ('ridge', Ridge())]),\n",
       "             n_jobs=-1,\n",
       "             param_grid={'poly__degree': (1, 2, 3),\n",
       "                         'ridge__alpha': array([1.00000000e-04, 1.62377674e-04, 2.63665090e-04, 4.28133240e-04,\n",
       "       6.95192796e-04, 1.12883789e-03, 1.83298071e-03, 2.97635144e-03,\n",
       "       4.83293024e-03, 7.84759970e-03, 1.27427499e-02, 2.06913808e-02,\n",
       "       3.35981829e-02, 5.45559478e-02, 8.85866790e-02, 1.43844989e-01,\n",
       "       2.33572147e-01, 3.79269019e-01, 6.15848211e-01, 1.00000000e+00])},\n",
       "             return_train_score=True, scoring='neg_mean_absolute_error')"
      ]
     },
     "execution_count": 20,
     "metadata": {},
     "output_type": "execute_result"
    }
   ],
   "source": [
    "ridge_grid_search = GridSearchCV(ridge_grid_pipeline,\n",
    "                                 param_grid=param_grid,\n",
    "                                 n_jobs=-1,\n",
    "                                 cv=cv,\n",
    "                                 scoring='neg_mean_absolute_error',\n",
    "                                 return_train_score=True)\n",
    "\n",
    "ridge_grid_search.fit(com_train_features, com_train_labels)"
   ]
  },
  {
   "cell_type": "markdown",
   "metadata": {},
   "source": [
    "`ridge_grid_search.best_index_` gives the index of the best parameter in the list.\n"
   ]
  },
  {
   "cell_type": "code",
   "execution_count": 21,
   "metadata": {},
   "outputs": [
    {
     "data": {
      "text/plain": [
       "{'poly__degree': 2, 'ridge__alpha': 0.007847599703514606}"
      ]
     },
     "execution_count": 21,
     "metadata": {},
     "output_type": "execute_result"
    }
   ],
   "source": [
    "# best parameter\n",
    "ridge_grid_search.cv_results_['params'][ridge_grid_search.best_index_]"
   ]
  },
  {
   "cell_type": "code",
   "execution_count": 22,
   "metadata": {},
   "outputs": [
    {
     "name": "stdout",
     "output_type": "stream",
     "text": [
      "Best Mean absolute error of polynomial ridge regression model on the train set:\n",
      "0.463 +/- -0.004\n",
      "\n",
      "Best Mean absolute error of polynomial ridge regression model on the test set:\n",
      "0.474 +/- -0.015\n"
     ]
    }
   ],
   "source": [
    "mean_train_error = -1 * ridge_grid_search.cv_results_[\n",
    "        'mean_train_score'][ridge_grid_search.best_index_]\n",
    "\n",
    "mean_test_error = -1 * ridge_grid_search.cv_results_[\n",
    "        'mean_test_score'][ridge_grid_search.best_index_]\n",
    "\n",
    "std_train_error = -1 * ridge_grid_search.cv_results_[\n",
    "        'std_train_score'][ridge_grid_search.best_index_]\n",
    "\n",
    "std_test_error = -1 * ridge_grid_search.cv_results_[\n",
    "        'std_test_score'][ridge_grid_search.best_index_]\n",
    "\n",
    "\n",
    "print(f'Best Mean absolute error of polynomial ridge regression model on the train set:\\n' f\"{mean_train_error:.3f} +/- {std_train_error:.3f}\")\n",
    "\n",
    "print()\n",
    "print(f'Best Mean absolute error of polynomial ridge regression model on the test set:\\n' f\"{mean_test_error:.3f} +/- {std_test_error:.3f}\")\n"
   ]
  },
  {
   "cell_type": "code",
   "execution_count": 23,
   "metadata": {},
   "outputs": [
    {
     "name": "stdout",
     "output_type": "stream",
     "text": [
      "Mean cross validated score of the best estimator is :  -0.4738651177003218\n",
      "Mean cross validated error of the best estimator is :  0.4738651177003218\n"
     ]
    }
   ],
   "source": [
    "print('Mean cross validated score of the best estimator is : ',\n",
    "      ridge_grid_search.best_score_)\n",
    "    \n",
    "print('Mean cross validated error of the best estimator is : ', -\n",
    "      ridge_grid_search.best_score_)\n"
   ]
  },
  {
   "cell_type": "code",
   "execution_count": 24,
   "metadata": {},
   "outputs": [
    {
     "data": {
      "text/html": [
       "<style>#sk-container-id-4 {color: black;background-color: white;}#sk-container-id-4 pre{padding: 0;}#sk-container-id-4 div.sk-toggleable {background-color: white;}#sk-container-id-4 label.sk-toggleable__label {cursor: pointer;display: block;width: 100%;margin-bottom: 0;padding: 0.3em;box-sizing: border-box;text-align: center;}#sk-container-id-4 label.sk-toggleable__label-arrow:before {content: \"▸\";float: left;margin-right: 0.25em;color: #696969;}#sk-container-id-4 label.sk-toggleable__label-arrow:hover:before {color: black;}#sk-container-id-4 div.sk-estimator:hover label.sk-toggleable__label-arrow:before {color: black;}#sk-container-id-4 div.sk-toggleable__content {max-height: 0;max-width: 0;overflow: hidden;text-align: left;background-color: #f0f8ff;}#sk-container-id-4 div.sk-toggleable__content pre {margin: 0.2em;color: black;border-radius: 0.25em;background-color: #f0f8ff;}#sk-container-id-4 input.sk-toggleable__control:checked~div.sk-toggleable__content {max-height: 200px;max-width: 100%;overflow: auto;}#sk-container-id-4 input.sk-toggleable__control:checked~label.sk-toggleable__label-arrow:before {content: \"▾\";}#sk-container-id-4 div.sk-estimator input.sk-toggleable__control:checked~label.sk-toggleable__label {background-color: #d4ebff;}#sk-container-id-4 div.sk-label input.sk-toggleable__control:checked~label.sk-toggleable__label {background-color: #d4ebff;}#sk-container-id-4 input.sk-hidden--visually {border: 0;clip: rect(1px 1px 1px 1px);clip: rect(1px, 1px, 1px, 1px);height: 1px;margin: -1px;overflow: hidden;padding: 0;position: absolute;width: 1px;}#sk-container-id-4 div.sk-estimator {font-family: monospace;background-color: #f0f8ff;border: 1px dotted black;border-radius: 0.25em;box-sizing: border-box;margin-bottom: 0.5em;}#sk-container-id-4 div.sk-estimator:hover {background-color: #d4ebff;}#sk-container-id-4 div.sk-parallel-item::after {content: \"\";width: 100%;border-bottom: 1px solid gray;flex-grow: 1;}#sk-container-id-4 div.sk-label:hover label.sk-toggleable__label {background-color: #d4ebff;}#sk-container-id-4 div.sk-serial::before {content: \"\";position: absolute;border-left: 1px solid gray;box-sizing: border-box;top: 0;bottom: 0;left: 50%;z-index: 0;}#sk-container-id-4 div.sk-serial {display: flex;flex-direction: column;align-items: center;background-color: white;padding-right: 0.2em;padding-left: 0.2em;position: relative;}#sk-container-id-4 div.sk-item {position: relative;z-index: 1;}#sk-container-id-4 div.sk-parallel {display: flex;align-items: stretch;justify-content: center;background-color: white;position: relative;}#sk-container-id-4 div.sk-item::before, #sk-container-id-4 div.sk-parallel-item::before {content: \"\";position: absolute;border-left: 1px solid gray;box-sizing: border-box;top: 0;bottom: 0;left: 50%;z-index: -1;}#sk-container-id-4 div.sk-parallel-item {display: flex;flex-direction: column;z-index: 1;position: relative;background-color: white;}#sk-container-id-4 div.sk-parallel-item:first-child::after {align-self: flex-end;width: 50%;}#sk-container-id-4 div.sk-parallel-item:last-child::after {align-self: flex-start;width: 50%;}#sk-container-id-4 div.sk-parallel-item:only-child::after {width: 0;}#sk-container-id-4 div.sk-dashed-wrapped {border: 1px dashed gray;margin: 0 0.4em 0.5em 0.4em;box-sizing: border-box;padding-bottom: 0.4em;background-color: white;}#sk-container-id-4 div.sk-label label {font-family: monospace;font-weight: bold;display: inline-block;line-height: 1.2em;}#sk-container-id-4 div.sk-label-container {text-align: center;}#sk-container-id-4 div.sk-container {/* jupyter's `normalize.less` sets `[hidden] { display: none; }` but bootstrap.min.css set `[hidden] { display: none !important; }` so we also need the `!important` here to be able to override the default hidden behavior on the sphinx rendered scikit-learn.org. See: https://github.com/scikit-learn/scikit-learn/issues/21755 */display: inline-block !important;position: relative;}#sk-container-id-4 div.sk-text-repr-fallback {display: none;}</style><div id=\"sk-container-id-4\" class=\"sk-top-container\"><div class=\"sk-text-repr-fallback\"><pre>Pipeline(steps=[(&#x27;poly&#x27;, PolynomialFeatures()),\n",
       "                (&#x27;feature_scaling&#x27;, StandardScaler()),\n",
       "                (&#x27;ridge&#x27;, Ridge(alpha=0.007847599703514606))])</pre><b>In a Jupyter environment, please rerun this cell to show the HTML representation or trust the notebook. <br />On GitHub, the HTML representation is unable to render, please try loading this page with nbviewer.org.</b></div><div class=\"sk-container\" hidden><div class=\"sk-item sk-dashed-wrapped\"><div class=\"sk-label-container\"><div class=\"sk-label sk-toggleable\"><input class=\"sk-toggleable__control sk-hidden--visually\" id=\"sk-estimator-id-15\" type=\"checkbox\" ><label for=\"sk-estimator-id-15\" class=\"sk-toggleable__label sk-toggleable__label-arrow\">Pipeline</label><div class=\"sk-toggleable__content\"><pre>Pipeline(steps=[(&#x27;poly&#x27;, PolynomialFeatures()),\n",
       "                (&#x27;feature_scaling&#x27;, StandardScaler()),\n",
       "                (&#x27;ridge&#x27;, Ridge(alpha=0.007847599703514606))])</pre></div></div></div><div class=\"sk-serial\"><div class=\"sk-item\"><div class=\"sk-estimator sk-toggleable\"><input class=\"sk-toggleable__control sk-hidden--visually\" id=\"sk-estimator-id-16\" type=\"checkbox\" ><label for=\"sk-estimator-id-16\" class=\"sk-toggleable__label sk-toggleable__label-arrow\">PolynomialFeatures</label><div class=\"sk-toggleable__content\"><pre>PolynomialFeatures()</pre></div></div></div><div class=\"sk-item\"><div class=\"sk-estimator sk-toggleable\"><input class=\"sk-toggleable__control sk-hidden--visually\" id=\"sk-estimator-id-17\" type=\"checkbox\" ><label for=\"sk-estimator-id-17\" class=\"sk-toggleable__label sk-toggleable__label-arrow\">StandardScaler</label><div class=\"sk-toggleable__content\"><pre>StandardScaler()</pre></div></div></div><div class=\"sk-item\"><div class=\"sk-estimator sk-toggleable\"><input class=\"sk-toggleable__control sk-hidden--visually\" id=\"sk-estimator-id-18\" type=\"checkbox\" ><label for=\"sk-estimator-id-18\" class=\"sk-toggleable__label sk-toggleable__label-arrow\">Ridge</label><div class=\"sk-toggleable__content\"><pre>Ridge(alpha=0.007847599703514606)</pre></div></div></div></div></div></div></div>"
      ],
      "text/plain": [
       "Pipeline(steps=[('poly', PolynomialFeatures()),\n",
       "                ('feature_scaling', StandardScaler()),\n",
       "                ('ridge', Ridge(alpha=0.007847599703514606))])"
      ]
     },
     "execution_count": 24,
     "metadata": {},
     "output_type": "execute_result"
    }
   ],
   "source": [
    "ridge_grid_search.best_estimator_"
   ]
  },
  {
   "cell_type": "markdown",
   "metadata": {},
   "source": [
    "### 5. **Lasso Regression**"
   ]
  },
  {
   "cell_type": "code",
   "execution_count": 25,
   "metadata": {},
   "outputs": [
    {
     "name": "stdout",
     "output_type": "stream",
     "text": [
      "Mean absolute error of linear regression model on the train set : \n",
      "0.503 +/- 0.008\n",
      "Mean absolute error of linear regression model on the test set : \n",
      "0.512 +/- 0.015\n"
     ]
    }
   ],
   "source": [
    "lasso_reg_pipeline = Pipeline([\n",
    "                                ('poly',PolynomialFeatures(degree=2)),\n",
    "                                ('feature_scaling',StandardScaler()),\n",
    "                                ('lasso',Lasso(alpha=0.001))\n",
    "])\n",
    "\n",
    "lasso_reg_cv_results = cross_validate(lasso_reg_pipeline,\n",
    "                                       com_train_features,\n",
    "                                       com_train_labels,\n",
    "                                       scoring='neg_mean_absolute_error',\n",
    "                                       return_train_score=True,\n",
    "                                       return_estimator=True )\n",
    "\n",
    "lasso_reg_train_error = -1 * lasso_reg_cv_results['train_score']\n",
    "lasso_reg_test_error =-1 * lasso_reg_cv_results['test_score']\n",
    "\n",
    "print(f'Mean absolute error of linear regression model on the train set : \\n' f'{lasso_reg_train_error.mean():.3f} +/- {lasso_reg_train_error.std():.3f}') \n",
    "\n",
    "print(f'Mean absolute error of linear regression model on the test set : \\n' f'{lasso_reg_test_error.mean():.3f} +/- {lasso_reg_test_error.std():.3f}') "
   ]
  },
  {
   "cell_type": "markdown",
   "metadata": {},
   "source": [
    "#### Lasso Regression with **GridSearchCV**"
   ]
  },
  {
   "cell_type": "code",
   "execution_count": 26,
   "metadata": {},
   "outputs": [
    {
     "data": {
      "text/html": [
       "<style>#sk-container-id-5 {color: black;background-color: white;}#sk-container-id-5 pre{padding: 0;}#sk-container-id-5 div.sk-toggleable {background-color: white;}#sk-container-id-5 label.sk-toggleable__label {cursor: pointer;display: block;width: 100%;margin-bottom: 0;padding: 0.3em;box-sizing: border-box;text-align: center;}#sk-container-id-5 label.sk-toggleable__label-arrow:before {content: \"▸\";float: left;margin-right: 0.25em;color: #696969;}#sk-container-id-5 label.sk-toggleable__label-arrow:hover:before {color: black;}#sk-container-id-5 div.sk-estimator:hover label.sk-toggleable__label-arrow:before {color: black;}#sk-container-id-5 div.sk-toggleable__content {max-height: 0;max-width: 0;overflow: hidden;text-align: left;background-color: #f0f8ff;}#sk-container-id-5 div.sk-toggleable__content pre {margin: 0.2em;color: black;border-radius: 0.25em;background-color: #f0f8ff;}#sk-container-id-5 input.sk-toggleable__control:checked~div.sk-toggleable__content {max-height: 200px;max-width: 100%;overflow: auto;}#sk-container-id-5 input.sk-toggleable__control:checked~label.sk-toggleable__label-arrow:before {content: \"▾\";}#sk-container-id-5 div.sk-estimator input.sk-toggleable__control:checked~label.sk-toggleable__label {background-color: #d4ebff;}#sk-container-id-5 div.sk-label input.sk-toggleable__control:checked~label.sk-toggleable__label {background-color: #d4ebff;}#sk-container-id-5 input.sk-hidden--visually {border: 0;clip: rect(1px 1px 1px 1px);clip: rect(1px, 1px, 1px, 1px);height: 1px;margin: -1px;overflow: hidden;padding: 0;position: absolute;width: 1px;}#sk-container-id-5 div.sk-estimator {font-family: monospace;background-color: #f0f8ff;border: 1px dotted black;border-radius: 0.25em;box-sizing: border-box;margin-bottom: 0.5em;}#sk-container-id-5 div.sk-estimator:hover {background-color: #d4ebff;}#sk-container-id-5 div.sk-parallel-item::after {content: \"\";width: 100%;border-bottom: 1px solid gray;flex-grow: 1;}#sk-container-id-5 div.sk-label:hover label.sk-toggleable__label {background-color: #d4ebff;}#sk-container-id-5 div.sk-serial::before {content: \"\";position: absolute;border-left: 1px solid gray;box-sizing: border-box;top: 0;bottom: 0;left: 50%;z-index: 0;}#sk-container-id-5 div.sk-serial {display: flex;flex-direction: column;align-items: center;background-color: white;padding-right: 0.2em;padding-left: 0.2em;position: relative;}#sk-container-id-5 div.sk-item {position: relative;z-index: 1;}#sk-container-id-5 div.sk-parallel {display: flex;align-items: stretch;justify-content: center;background-color: white;position: relative;}#sk-container-id-5 div.sk-item::before, #sk-container-id-5 div.sk-parallel-item::before {content: \"\";position: absolute;border-left: 1px solid gray;box-sizing: border-box;top: 0;bottom: 0;left: 50%;z-index: -1;}#sk-container-id-5 div.sk-parallel-item {display: flex;flex-direction: column;z-index: 1;position: relative;background-color: white;}#sk-container-id-5 div.sk-parallel-item:first-child::after {align-self: flex-end;width: 50%;}#sk-container-id-5 div.sk-parallel-item:last-child::after {align-self: flex-start;width: 50%;}#sk-container-id-5 div.sk-parallel-item:only-child::after {width: 0;}#sk-container-id-5 div.sk-dashed-wrapped {border: 1px dashed gray;margin: 0 0.4em 0.5em 0.4em;box-sizing: border-box;padding-bottom: 0.4em;background-color: white;}#sk-container-id-5 div.sk-label label {font-family: monospace;font-weight: bold;display: inline-block;line-height: 1.2em;}#sk-container-id-5 div.sk-label-container {text-align: center;}#sk-container-id-5 div.sk-container {/* jupyter's `normalize.less` sets `[hidden] { display: none; }` but bootstrap.min.css set `[hidden] { display: none !important; }` so we also need the `!important` here to be able to override the default hidden behavior on the sphinx rendered scikit-learn.org. See: https://github.com/scikit-learn/scikit-learn/issues/21755 */display: inline-block !important;position: relative;}#sk-container-id-5 div.sk-text-repr-fallback {display: none;}</style><div id=\"sk-container-id-5\" class=\"sk-top-container\"><div class=\"sk-text-repr-fallback\"><pre>GridSearchCV(cv=ShuffleSplit(n_splits=10, random_state=42, test_size=0.2, train_size=None),\n",
       "             estimator=Pipeline(steps=[(&#x27;poly&#x27;, PolynomialFeatures()),\n",
       "                                       (&#x27;feature_scaling&#x27;, StandardScaler()),\n",
       "                                       (&#x27;lasso&#x27;, Lasso())]),\n",
       "             n_jobs=2,\n",
       "             param_grid={&#x27;lasso__alpha&#x27;: array([1.00000000e-04, 1.62377674e-04, 2.63665090e-04, 4.28133240e-04,\n",
       "       6.95192796e-04, 1.12883789e-03, 1.83298071e-03, 2.97635144e-03,\n",
       "       4.83293024e-03, 7.84759970e-03, 1.27427499e-02, 2.06913808e-02,\n",
       "       3.35981829e-02, 5.45559478e-02, 8.85866790e-02, 1.43844989e-01,\n",
       "       2.33572147e-01, 3.79269019e-01, 6.15848211e-01, 1.00000000e+00]),\n",
       "                         &#x27;poly__degree&#x27;: (1, 2, 3)},\n",
       "             return_train_score=True, scoring=&#x27;neg_mean_absolute_error&#x27;)</pre><b>In a Jupyter environment, please rerun this cell to show the HTML representation or trust the notebook. <br />On GitHub, the HTML representation is unable to render, please try loading this page with nbviewer.org.</b></div><div class=\"sk-container\" hidden><div class=\"sk-item sk-dashed-wrapped\"><div class=\"sk-label-container\"><div class=\"sk-label sk-toggleable\"><input class=\"sk-toggleable__control sk-hidden--visually\" id=\"sk-estimator-id-19\" type=\"checkbox\" ><label for=\"sk-estimator-id-19\" class=\"sk-toggleable__label sk-toggleable__label-arrow\">GridSearchCV</label><div class=\"sk-toggleable__content\"><pre>GridSearchCV(cv=ShuffleSplit(n_splits=10, random_state=42, test_size=0.2, train_size=None),\n",
       "             estimator=Pipeline(steps=[(&#x27;poly&#x27;, PolynomialFeatures()),\n",
       "                                       (&#x27;feature_scaling&#x27;, StandardScaler()),\n",
       "                                       (&#x27;lasso&#x27;, Lasso())]),\n",
       "             n_jobs=2,\n",
       "             param_grid={&#x27;lasso__alpha&#x27;: array([1.00000000e-04, 1.62377674e-04, 2.63665090e-04, 4.28133240e-04,\n",
       "       6.95192796e-04, 1.12883789e-03, 1.83298071e-03, 2.97635144e-03,\n",
       "       4.83293024e-03, 7.84759970e-03, 1.27427499e-02, 2.06913808e-02,\n",
       "       3.35981829e-02, 5.45559478e-02, 8.85866790e-02, 1.43844989e-01,\n",
       "       2.33572147e-01, 3.79269019e-01, 6.15848211e-01, 1.00000000e+00]),\n",
       "                         &#x27;poly__degree&#x27;: (1, 2, 3)},\n",
       "             return_train_score=True, scoring=&#x27;neg_mean_absolute_error&#x27;)</pre></div></div></div><div class=\"sk-parallel\"><div class=\"sk-parallel-item\"><div class=\"sk-item\"><div class=\"sk-label-container\"><div class=\"sk-label sk-toggleable\"><input class=\"sk-toggleable__control sk-hidden--visually\" id=\"sk-estimator-id-20\" type=\"checkbox\" ><label for=\"sk-estimator-id-20\" class=\"sk-toggleable__label sk-toggleable__label-arrow\">estimator: Pipeline</label><div class=\"sk-toggleable__content\"><pre>Pipeline(steps=[(&#x27;poly&#x27;, PolynomialFeatures()),\n",
       "                (&#x27;feature_scaling&#x27;, StandardScaler()), (&#x27;lasso&#x27;, Lasso())])</pre></div></div></div><div class=\"sk-serial\"><div class=\"sk-item\"><div class=\"sk-serial\"><div class=\"sk-item\"><div class=\"sk-estimator sk-toggleable\"><input class=\"sk-toggleable__control sk-hidden--visually\" id=\"sk-estimator-id-21\" type=\"checkbox\" ><label for=\"sk-estimator-id-21\" class=\"sk-toggleable__label sk-toggleable__label-arrow\">PolynomialFeatures</label><div class=\"sk-toggleable__content\"><pre>PolynomialFeatures()</pre></div></div></div><div class=\"sk-item\"><div class=\"sk-estimator sk-toggleable\"><input class=\"sk-toggleable__control sk-hidden--visually\" id=\"sk-estimator-id-22\" type=\"checkbox\" ><label for=\"sk-estimator-id-22\" class=\"sk-toggleable__label sk-toggleable__label-arrow\">StandardScaler</label><div class=\"sk-toggleable__content\"><pre>StandardScaler()</pre></div></div></div><div class=\"sk-item\"><div class=\"sk-estimator sk-toggleable\"><input class=\"sk-toggleable__control sk-hidden--visually\" id=\"sk-estimator-id-23\" type=\"checkbox\" ><label for=\"sk-estimator-id-23\" class=\"sk-toggleable__label sk-toggleable__label-arrow\">Lasso</label><div class=\"sk-toggleable__content\"><pre>Lasso()</pre></div></div></div></div></div></div></div></div></div></div></div></div>"
      ],
      "text/plain": [
       "GridSearchCV(cv=ShuffleSplit(n_splits=10, random_state=42, test_size=0.2, train_size=None),\n",
       "             estimator=Pipeline(steps=[('poly', PolynomialFeatures()),\n",
       "                                       ('feature_scaling', StandardScaler()),\n",
       "                                       ('lasso', Lasso())]),\n",
       "             n_jobs=2,\n",
       "             param_grid={'lasso__alpha': array([1.00000000e-04, 1.62377674e-04, 2.63665090e-04, 4.28133240e-04,\n",
       "       6.95192796e-04, 1.12883789e-03, 1.83298071e-03, 2.97635144e-03,\n",
       "       4.83293024e-03, 7.84759970e-03, 1.27427499e-02, 2.06913808e-02,\n",
       "       3.35981829e-02, 5.45559478e-02, 8.85866790e-02, 1.43844989e-01,\n",
       "       2.33572147e-01, 3.79269019e-01, 6.15848211e-01, 1.00000000e+00]),\n",
       "                         'poly__degree': (1, 2, 3)},\n",
       "             return_train_score=True, scoring='neg_mean_absolute_error')"
      ]
     },
     "execution_count": 26,
     "metadata": {},
     "output_type": "execute_result"
    }
   ],
   "source": [
    "lasso_grid_pipeline =Pipeline([ \n",
    "                             ('poly',PolynomialFeatures()),\n",
    "                             ('feature_scaling',StandardScaler()),\n",
    "                             ('lasso',Lasso())])\n",
    "\n",
    "param_grid ={\"poly__degree\": (1,2,3),\n",
    "             \"lasso__alpha\": np.logspace(-4,0, num=20)}\n",
    "\n",
    "lasso_grid_search = GridSearchCV(lasso_grid_pipeline,\n",
    "                                param_grid=param_grid,                         n_jobs=2,\n",
    "                                cv =cv,\n",
    "                                scoring='neg_mean_absolute_error',\n",
    "                                return_train_score = True) \n",
    "\n",
    "lasso_grid_search.fit(com_train_features, com_train_labels)"
   ]
  },
  {
   "cell_type": "code",
   "execution_count": 27,
   "metadata": {},
   "outputs": [
    {
     "name": "stdout",
     "output_type": "stream",
     "text": [
      "Best Mean absolute error of polynomial lasso regression model on the train set : \n",
      "0.462 +/- -0.003\n",
      "Best Mean absolute error of polynomial lasso regression model on the test set : \n",
      "0.488 +/- -0.046\n"
     ]
    }
   ],
   "source": [
    "mean_train_error = -1 * lasso_grid_search.cv_results_['mean_train_score'][lasso_grid_search.best_index_]\n",
    "\n",
    "mean_test_error = -1 * lasso_grid_search.cv_results_['mean_test_score'][lasso_grid_search.best_index_]\n",
    "\n",
    "std_train_error = -1 * lasso_grid_search.cv_results_['std_train_score'][lasso_grid_search.best_index_]\n",
    "\n",
    "std_test_error = -1 * lasso_grid_search.cv_results_['std_test_score'][lasso_grid_search.best_index_]\n",
    "\n",
    "\n",
    "print(f'Best Mean absolute error of polynomial lasso regression model on the train set : \\n' f\"{mean_train_error:.3f} +/- {std_train_error:.3f}\")\n",
    "\n",
    "print(f'Best Mean absolute error of polynomial lasso regression model on the test set : \\n' f\"{mean_test_error:.3f} +/- {std_test_error:.3f}\")"
   ]
  },
  {
   "cell_type": "markdown",
   "metadata": {},
   "source": [
    "### **Comparision of weight vectors**\n",
    "\n",
    "Let's look at the weight vectors produced by different models."
   ]
  },
  {
   "cell_type": "markdown",
   "metadata": {},
   "source": [
    "#### 1. Polynomial Regression with CV"
   ]
  },
  {
   "cell_type": "code",
   "execution_count": 28,
   "metadata": {},
   "outputs": [
    {
     "name": "stdout",
     "output_type": "stream",
     "text": [
      "['1' 'MedInc' 'HouseAge' 'AveRooms' 'AveBedrms' 'Population' 'AveOccup'\n",
      " 'Latitude' 'Longitude' 'MedInc HouseAge' 'MedInc AveRooms'\n",
      " 'MedInc AveBedrms' 'MedInc Population' 'MedInc AveOccup'\n",
      " 'MedInc Latitude' 'MedInc Longitude' 'HouseAge AveRooms'\n",
      " 'HouseAge AveBedrms' 'HouseAge Population' 'HouseAge AveOccup'\n",
      " 'HouseAge Latitude' 'HouseAge Longitude' 'AveRooms AveBedrms'\n",
      " 'AveRooms Population' 'AveRooms AveOccup' 'AveRooms Latitude'\n",
      " 'AveRooms Longitude' 'AveBedrms Population' 'AveBedrms AveOccup'\n",
      " 'AveBedrms Latitude' 'AveBedrms Longitude' 'Population AveOccup'\n",
      " 'Population Latitude' 'Population Longitude' 'AveOccup Latitude'\n",
      " 'AveOccup Longitude' 'Latitude Longitude']\n"
     ]
    }
   ],
   "source": [
    "feature_names = poly_reg_cv_results[\"estimator\"][0][0].get_feature_names_out(\n",
    "    input_features=train_features.columns)\n",
    "\n",
    "print(feature_names)"
   ]
  },
  {
   "cell_type": "code",
   "execution_count": 29,
   "metadata": {},
   "outputs": [
    {
     "name": "stdout",
     "output_type": "stream",
     "text": [
      "LinearRegression()\n"
     ]
    }
   ],
   "source": [
    "print(poly_reg_cv_results['estimator'][0][-1])"
   ]
  },
  {
   "cell_type": "code",
   "execution_count": 30,
   "metadata": {},
   "outputs": [
    {
     "name": "stdout",
     "output_type": "stream",
     "text": [
      "[array([-1.20413427e-12, -1.61569371e+01, -1.21092383e+01,  1.11235836e+01,\n",
      "       -9.44654938e+00, -2.34941156e+00,  7.36635757e+01,  1.63563849e+00,\n",
      "       -4.68455430e-01,  1.12528038e-01, -1.63804130e-01,  2.05049845e-01,\n",
      "        2.99114714e-01,  1.98368002e+00, -8.06864364e+00, -2.47640735e+01,\n",
      "       -2.20667537e-01,  3.51848996e-01,  5.66131647e-02, -1.71127167e+00,\n",
      "       -5.42873233e+00, -1.75752779e+01, -4.24679503e-02, -3.52790487e-01,\n",
      "       -1.84145609e-01,  6.71628693e+00,  1.72961794e+01,  5.20628084e-01,\n",
      "        5.12438573e-01, -5.63236511e+00, -1.44389342e+01,  1.30559891e+00,\n",
      "       -5.26771610e-01, -2.35921682e+00,  3.51078155e+01,  1.10727914e+02,\n",
      "        2.02753888e+00]), array([-8.21282625e-14, -1.70030899e+01, -1.17430112e+01,  1.22404452e+01,\n",
      "       -9.31590879e+00, -1.09418936e+00,  2.49354245e+00,  1.03838098e+00,\n",
      "        4.18560276e-02,  9.80811903e-02, -1.17108267e-01,  1.96625060e-01,\n",
      "        3.77107433e-01, -9.87223928e-01, -8.00160924e+00, -2.57487308e+01,\n",
      "       -1.59828460e-01,  3.13816437e-01,  6.37042527e-02, -1.50455340e+00,\n",
      "       -5.34177051e+00, -1.71678652e+01, -4.12497156e-02, -4.62865867e-01,\n",
      "        1.24184548e+00,  6.32264153e+00,  1.82827959e+01,  7.44399297e-01,\n",
      "       -8.48692820e-01, -4.62758747e+00, -1.35225103e+01,  1.77804564e+00,\n",
      "        4.51793935e-01,  1.82027262e-01,  8.97461836e+00,  1.10844152e+01,\n",
      "        1.07964837e+00])]\n"
     ]
    }
   ],
   "source": [
    "coefs = [i[-1].coef_ for i in poly_reg_cv_results[\"estimator\"]]\n",
    "print(coefs[:2])"
   ]
  },
  {
   "cell_type": "code",
   "execution_count": 31,
   "metadata": {},
   "outputs": [
    {
     "data": {
      "image/png": "[encoded data removed]",
      "text/plain": [
       "<Figure size 864x864 with 1 Axes>"
      ]
     },
     "metadata": {
      "needs_background": "light"
     },
     "output_type": "display_data"
    }
   ],
   "source": [
    "weights_poly_df = pd.DataFrame(coefs, columns=feature_names)\n",
    "\n",
    "color = {'whiskers': 'black', 'medians': 'green', 'caps': 'blue'}\n",
    "weights_poly_df.plot.box(color=color, vert=False, figsize=(12, 12))\n",
    "\n",
    "plt.title('Polynomial regression coefficients')\n",
    "plt.grid()\n",
    "plt.show()"
   ]
  },
  {
   "cell_type": "markdown",
   "metadata": {},
   "source": [
    "#### 2. Ridge Regression with CV"
   ]
  },
  {
   "cell_type": "code",
   "execution_count": 32,
   "metadata": {},
   "outputs": [],
   "source": [
    "ridge_reg_pipeline = Pipeline([\n",
    "                             ('poly', PolynomialFeatures(degree=2)),\n",
    "                             ('feature_scaling', StandardScaler()),\n",
    "                             ('ridge', Ridge(alpha=0.5))])\n",
    "\n",
    "ridge_reg_cv_results = cross_validate(ridge_reg_pipeline,\n",
    "                                      com_train_features,\n",
    "                                      com_train_labels,\n",
    "                                      cv=cv,\n",
    "                                      scoring='neg_mean_absolute_error',\n",
    "                                      return_train_score=True,\n",
    "                                      return_estimator=True)\n"
   ]
  },
  {
   "cell_type": "code",
   "execution_count": 33,
   "metadata": {},
   "outputs": [
    {
     "data": {
      "text/plain": [
       "array(['1', 'MedInc', 'HouseAge', 'AveRooms', 'AveBedrms', 'Population',\n",
       "       'AveOccup', 'Latitude', 'Longitude', 'MedInc^2', 'MedInc HouseAge',\n",
       "       'MedInc AveRooms', 'MedInc AveBedrms', 'MedInc Population',\n",
       "       'MedInc AveOccup', 'MedInc Latitude', 'MedInc Longitude',\n",
       "       'HouseAge^2', 'HouseAge AveRooms', 'HouseAge AveBedrms',\n",
       "       'HouseAge Population', 'HouseAge AveOccup', 'HouseAge Latitude',\n",
       "       'HouseAge Longitude', 'AveRooms^2', 'AveRooms AveBedrms',\n",
       "       'AveRooms Population', 'AveRooms AveOccup', 'AveRooms Latitude',\n",
       "       'AveRooms Longitude', 'AveBedrms^2', 'AveBedrms Population',\n",
       "       'AveBedrms AveOccup', 'AveBedrms Latitude', 'AveBedrms Longitude',\n",
       "       'Population^2', 'Population AveOccup', 'Population Latitude',\n",
       "       'Population Longitude', 'AveOccup^2', 'AveOccup Latitude',\n",
       "       'AveOccup Longitude', 'Latitude^2', 'Latitude Longitude',\n",
       "       'Longitude^2'], dtype=object)"
      ]
     },
     "execution_count": 33,
     "metadata": {},
     "output_type": "execute_result"
    }
   ],
   "source": [
    "feature_names = ridge_reg_cv_results['estimator'][0][0].get_feature_names_out(\n",
    "    input_features=train_features.columns)\n",
    "\n",
    "feature_names"
   ]
  },
  {
   "cell_type": "code",
   "execution_count": 34,
   "metadata": {},
   "outputs": [
    {
     "name": "stdout",
     "output_type": "stream",
     "text": [
      "[array([ 0.        , -2.28217749, -2.67967218, -0.58591007,  1.39039817,\n",
      "       -0.25786929, -2.50666484,  0.34514535, -1.90285395, -0.55366407,\n",
      "        0.30043979,  0.53858318, -0.34636673,  0.367585  ,  0.92303558,\n",
      "       -2.5725778 , -5.77825751,  0.19560824, -0.30716804,  0.36148585,\n",
      "        0.08411846, -1.15535184, -1.40903272, -3.8157232 ,  1.35141026,\n",
      "       -1.92965604, -0.4543164 ,  0.31277516,  1.59976011,  1.28631915,\n",
      "        0.58874961,  0.71988977,  0.18769236, -0.93240286,  0.26887513,\n",
      "        0.02677913,  2.24863483,  0.62536881,  1.13525363, -0.0989156 ,\n",
      "        1.9383021 ,  1.89213638,  2.09354319,  3.82488629, -0.407648  ])]\n"
     ]
    }
   ],
   "source": [
    "coefs = [i[-1].coef_ for i in ridge_reg_cv_results[\"estimator\"]]\n",
    "print(coefs[:1])"
   ]
  },
  {
   "cell_type": "code",
   "execution_count": 35,
   "metadata": {},
   "outputs": [
    {
     "data": {
      "image/png": "[encoded data removed]",
      "text/plain": [
       "<Figure size 864x864 with 1 Axes>"
      ]
     },
     "metadata": {
      "needs_background": "light"
     },
     "output_type": "display_data"
    }
   ],
   "source": [
    "weights_ridge_df = pd.DataFrame(coefs, columns=feature_names)\n",
    "\n",
    "color = {'whiskers': 'black', 'medians': 'green', 'caps': 'blue'}\n",
    "weights_ridge_df.plot.box(color=color, vert=False, figsize=(12, 12))\n",
    "\n",
    "plt.title('Ridge regression coefficients')\n",
    "plt.grid()\n",
    "plt.show()"
   ]
  },
  {
   "cell_type": "markdown",
   "metadata": {},
   "source": [
    "### **Comparing Performance on test set**"
   ]
  },
  {
   "cell_type": "markdown",
   "metadata": {},
   "source": [
    "#### 1. Baseline Model"
   ]
  },
  {
   "cell_type": "code",
   "execution_count": 36,
   "metadata": {},
   "outputs": [
    {
     "data": {
      "text/plain": [
       "0.5348927548151625"
      ]
     },
     "execution_count": 36,
     "metadata": {},
     "output_type": "execute_result"
    }
   ],
   "source": [
    "baseline_model_median = DummyRegressor(strategy='median')\n",
    "baseline_model_median.fit(train_features, train_labels)\n",
    "\n",
    "mean_absolute_percentage_error(test_labels, baseline_model_median.predict(test_features))"
   ]
  },
  {
   "cell_type": "markdown",
   "metadata": {},
   "source": [
    "#### 2. Linear Regression with normal equation"
   ]
  },
  {
   "cell_type": "code",
   "execution_count": 37,
   "metadata": {},
   "outputs": [
    {
     "data": {
      "text/plain": [
       "0.32120472175482895"
      ]
     },
     "execution_count": 37,
     "metadata": {},
     "output_type": "execute_result"
    }
   ],
   "source": [
    "mean_absolute_percentage_error(test_labels ,lin_reg_cv_results['estimator'][0].predict(test_features))"
   ]
  },
  {
   "cell_type": "markdown",
   "metadata": {},
   "source": [
    "#### 3. SGD regression with randomsearchCV"
   ]
  },
  {
   "cell_type": "code",
   "execution_count": 38,
   "metadata": {},
   "outputs": [
    {
     "data": {
      "text/plain": [
       "0.31523619087395877"
      ]
     },
     "execution_count": 38,
     "metadata": {},
     "output_type": "execute_result"
    }
   ],
   "source": [
    "mean_absolute_percentage_error(test_labels ,poly_sgd_random_search_cv.best_estimator_.predict(test_features))"
   ]
  },
  {
   "cell_type": "markdown",
   "metadata": {},
   "source": [
    "#### 4. Polynomial Regression"
   ]
  },
  {
   "cell_type": "code",
   "execution_count": 39,
   "metadata": {},
   "outputs": [
    {
     "data": {
      "text/plain": [
       "0.28199759082657094"
      ]
     },
     "execution_count": 39,
     "metadata": {},
     "output_type": "execute_result"
    }
   ],
   "source": [
    "poly_reg_pipeline.fit(com_train_features ,com_train_labels)\n",
    "\n",
    "mean_absolute_percentage_error(test_labels ,poly_reg_pipeline.predict(test_features))"
   ]
  },
  {
   "cell_type": "markdown",
   "metadata": {},
   "source": [
    "#### 5. Lasso Regression"
   ]
  },
  {
   "cell_type": "code",
   "execution_count": 40,
   "metadata": {},
   "outputs": [
    {
     "data": {
      "text/plain": [
       "0.280749692638101"
      ]
     },
     "execution_count": 40,
     "metadata": {},
     "output_type": "execute_result"
    }
   ],
   "source": [
    "mean_absolute_percentage_error(test_labels ,lasso_grid_search.best_estimator_.predict(test_features))"
   ]
  },
  {
   "cell_type": "markdown",
   "metadata": {},
   "source": [
    "#### 6. Ridge Regression"
   ]
  },
  {
   "cell_type": "code",
   "execution_count": 41,
   "metadata": {},
   "outputs": [
    {
     "data": {
      "text/plain": [
       "0.2711033645132435"
      ]
     },
     "execution_count": 41,
     "metadata": {},
     "output_type": "execute_result"
    }
   ],
   "source": [
    "mean_absolute_percentage_error(test_labels ,ridge_grid_search.best_estimator_.predict(test_features))"
   ]
  }
 ],
 "metadata": {
  "kernelspec": {
   "display_name": "Python 3.9.7 ('tensorflow')",
   "language": "python",
   "name": "python3"
  },
  "language_info": {
   "codemirror_mode": {
    "name": "ipython",
    "version": 3
   },
   "file_extension": ".py",
   "mimetype": "text/x-python",
   "name": "python",
   "nbconvert_exporter": "python",
   "pygments_lexer": "ipython3",
   "version": "3.9.7"
  },
  "orig_nbformat": 4,
  "vscode": {
   "interpreter": {
    "hash": "32f02dc107888b055323539767db1f9cf579f03b0ed3a3ace7986ed2d38433ec"
   }
  }
 },
 "nbformat": 4,
 "nbformat_minor": 2
}
