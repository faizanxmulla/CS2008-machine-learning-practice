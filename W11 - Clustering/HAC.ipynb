{
 "cells": [
  {
   "cell_type": "markdown",
   "metadata": {},
   "source": [
    "### **Clustering**\n",
    "Clustering is concerned about grouping objects with  *similar attributes* or *characteristics*\n",
    "\n",
    "The objects in the same cluster are closer to one another than the objects from the other clusters.\n",
    "\n",
    "![cluster_week11.png](data:image/png;base64,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)"
   ]
  },
  {
   "cell_type": "markdown",
   "metadata": {},
   "source": [
    "In the image above, the clusters with same color share similar properties(feature values represented on axis). \n",
    "\n",
    "For instance, if the x-axis represents weight and y-axis represents height, the yellow color cluster represents people with low BMI. \n",
    "\n",
    "Similar interpretations can be drawn for the remaining clusters."
   ]
  },
  {
   "cell_type": "markdown",
   "metadata": {},
   "source": [
    "### **Hierarchical Agglomerative Clustering (HAC)**\n",
    "\n",
    "Earlier in this week, we studied k-means clustering algorithm. \n",
    "\n",
    "In this notebook, we will discuss another clustering algorithm which is **Hierarchical agglomerative clustering (HAC)** algorithm.\n"
   ]
  },
  {
   "cell_type": "markdown",
   "metadata": {},
   "source": [
    "\n",
    "* Hierarchical clustering start by considering each datapoint as a cluster and then combines closest clusters to form larger clusters i.e it follows a **bottoms-up approach**.\n",
    "\n",
    "* There is an alternate approach, which is **top-down approach**, where the entire data is considered as a one single cluster, which is divided to form smaller clusters in each step.\n",
    "\n",
    "* This is another type of hierarchical clustering also known as **Divisive Hierarchical Clustering (DHC)**.\n",
    "\n",
    "\n",
    "The merging and splitting decisions are influenced by certain conditions that will be discussed shortly.\n"
   ]
  },
  {
   "cell_type": "markdown",
   "metadata": {},
   "source": [
    "### **Metrics**\n",
    "\n",
    "Certain metrics are used for calculating similarity between clusters. \n",
    "\n",
    "**Note:**  Metric is a generalization of concept of distance. \n",
    "\n",
    "The metrics follow certain properties like : \n",
    "\n",
    "1. non-negative \n",
    "\n",
    "2. sysmetric\n",
    "\n",
    "3. follows triangle inequality \n"
   ]
  },
  {
   "cell_type": "markdown",
   "metadata": {},
   "source": [
    "\n",
    "Some of the popular metric functions are :\n",
    "\n",
    "1. **Euclidean distance -**\n",
    "\n",
    "\\begin{align}\n",
    "d(x^{(i)} , x^{(j)}) = \\sqrt{\\sum{^m _{l=1}} {(x_l^{(i)} - x_l^{(j)})^2}}\n",
    "\\end{align}\n",
    "\n",
    "2. **Manhattan distance -**\n",
    "\n",
    "\\begin{align}\n",
    "d(x^{(i)} , x^{(j)}) = \\sum{^m _{l=1}} {\\left\\lvert(x_l^{(i)} - x_l^{(j)})\\right\\rvert}\n",
    "\\end{align}\n",
    "\n",
    "3. **Cosine distance -**\n",
    "\n",
    "\\begin{align}\n",
    "d(x^{(i)} , x^{(j)}) = 1 - \\frac{x^{(i)}. x^{(j)}}{\\left\\lvert \\left\\lvert x^{(i)} \\right\\rvert \\right\\rvert \\left\\lvert \\left\\lvert x^{(j)} \\right\\rvert \\right\\rvert} \n",
    "\n",
    "= 1 - \\cos{\\theta}\n",
    "\\end{align}"
   ]
  },
  {
   "cell_type": "markdown",
   "metadata": {},
   "source": [
    "### **Linkage**\n",
    "\n",
    "Linkage is a strategy for aggregating clusters.\n",
    "\n",
    "There are four linkages that we will study : \n",
    "* Single linkage\n",
    "\n",
    "* Average linkage\n",
    "\n",
    "* Complete linkage\n",
    "\n",
    "* Ward's linkage\n"
   ]
  },
  {
   "cell_type": "markdown",
   "metadata": {},
   "source": [
    "The **Single linkage** criterion merges clusters based on the shortest distance over all possible pairs i.e. \n",
    "\n",
    "$ \\left ({ \\mathbf \\{ x_{r_1}^{(i)}\\}_{i=1}^{|r_1|} },{\\mathbf \\{ x_{r_2}^{(j)}\\}_{j=1}^{|r_2|} } \\right) = \\text {min}_{i,j} d\\left(\\mathbf x_{r_1}^{(i)}, \\mathbf x_{r_2}^{(j)}\\right) $\n",
    "\n",
    "![](Images/single_linkage.png)\n"
   ]
  },
  {
   "cell_type": "markdown",
   "metadata": {},
   "source": [
    "The **Complete linkage** merges clusters to minimize the maximum distance between the clusters (in other words, the distance of the furthest elements)\n",
    "\n",
    "$ \\left ({ \\mathbf \\{ x_{r_1}^{(i)}\\}_{i=1}^{|r_1|} },{\\mathbf \\{ x_{r_2}^{(j)}\\}_{j=1}^{|r_2|} } \\right) = \\text {max}_{i,j} d\\left(\\mathbf x_{r_1}^{(i)}, \\mathbf x_{r_2}^{(j)}\\right) $\n",
    "\n",
    "![](Images/complete_linkage.png)"
   ]
  },
  {
   "cell_type": "markdown",
   "metadata": {},
   "source": [
    "The **average linkage** criterion uses average distance over all possible pairs between the groups for merging clusters. \n",
    "\n",
    "$ \\left ({ \\mathbf \\{ x_{r_1}^{(i)}\\}_{i=1}^{|r_1|} },{\\mathbf \\{ x_{r_2}^{(j)}\\}_{j=1}^{|r_2|} } \\right) = \\frac {1}{|r_1r_2|} \\sum_{i=1}^{|r_1|} \\sum_{j=1}^{|r_2|} d\\left(\\mathbf x_{r_1}^{(i)}, \\mathbf x_{r_2}^{(j)}\\right) $\n",
    "\n",
    "![](Images/average_linkage.png)"
   ]
  },
  {
   "cell_type": "markdown",
   "metadata": {},
   "source": [
    "**Ward's linkage**\n",
    "\n",
    "It computes the sum of squared distances withing the clusters.\n",
    "\n",
    "\n",
    "$ \\left ({ \\mathbf \\{ x_{r_1}^{(i)}\\}_{i=1}^{|r_1|} } , {\\mathbf \\{ x_{r_2}^{(j)}\\}_{j=1}^{|r_2|} } \\right) = \\sum_{i=1}^{|r_1|} \\sum_{j=1}^{|r_2|} ||(\\mathbf x_{r_1}^{(i)} - \\mathbf x_{r_2}^{(j)} ||^2 $\n"
   ]
  },
  {
   "cell_type": "markdown",
   "metadata": {},
   "source": [
    "### **Algorithm :**\n",
    "\n",
    "1. Calculate the distance matrix between pairs of clusters.\n",
    "\n",
    "2. While all the objects are clustered into one.\n",
    "    * Detect the two closest groups (clusters) and merge them.\n"
   ]
  },
  {
   "cell_type": "markdown",
   "metadata": {},
   "source": [
    "### **Dendrogram**\n",
    "\n",
    "Dendrograms are a graphical representation of the agglomerative process which shows a how aggregation happens at each level."
   ]
  },
  {
   "cell_type": "markdown",
   "metadata": {},
   "source": [
    "### **Importing Libraries**"
   ]
  },
  {
   "cell_type": "code",
   "execution_count": 1,
   "metadata": {},
   "outputs": [],
   "source": [
    "import numpy as np\n",
    "import matplotlib.pyplot as plt\n",
    "import seaborn as sns ;sns.set()\n",
    "\n",
    "from sklearn.preprocessing import normalize"
   ]
  },
  {
   "cell_type": "markdown",
   "metadata": {},
   "source": [
    "Lets take example of a toy dataset to understand this : "
   ]
  },
  {
   "cell_type": "code",
   "execution_count": 2,
   "metadata": {},
   "outputs": [],
   "source": [
    "X = np.array([(8, 3), (5, 3), (6, 4), (1, 6), (2, 8)])\n",
    "X_scaled = normalize(X)"
   ]
  },
  {
   "cell_type": "code",
   "execution_count": 3,
   "metadata": {},
   "outputs": [
    {
     "data": {
      "image/png": "[encoded data removed]",
      "text/plain": [
       "<Figure size 432x288 with 1 Axes>"
      ]
     },
     "metadata": {},
     "output_type": "display_data"
    }
   ],
   "source": [
    "plt.scatter(X[:, 0], X[:, 1])\n",
    "plt.show()"
   ]
  },
  {
   "cell_type": "markdown",
   "metadata": {},
   "source": [
    "Let's plot the dendrogram with `scipy.cluster.hierarchy` library\n"
   ]
  },
  {
   "cell_type": "code",
   "execution_count": 4,
   "metadata": {},
   "outputs": [
    {
     "data": {
      "image/png": "[encoded data removed]",
      "text/plain": [
       "<Figure size 576x576 with 1 Axes>"
      ]
     },
     "metadata": {},
     "output_type": "display_data"
    }
   ],
   "source": [
    "import scipy.cluster.hierarchy as sch\n",
    "\n",
    "plt.figure(figsize=(8, 8))\n",
    "plt.title('Dendrogram')\n",
    "dend = sch.dendrogram(sch.linkage(X_scaled, method='ward'))"
   ]
  },
  {
   "cell_type": "markdown",
   "metadata": {},
   "source": [
    "HAC is implemented in `sklearn.cluster` module as `AgglomerativeClustering` class."
   ]
  }
 ],
 "metadata": {
  "kernelspec": {
   "display_name": "Python 3.9.7 ('tensorflow')",
   "language": "python",
   "name": "python3"
  },
  "language_info": {
   "codemirror_mode": {
    "name": "ipython",
    "version": 3
   },
   "file_extension": ".py",
   "mimetype": "text/x-python",
   "name": "python",
   "nbconvert_exporter": "python",
   "pygments_lexer": "ipython3",
   "version": "3.9.7"
  },
  "orig_nbformat": 4,
  "vscode": {
   "interpreter": {
    "hash": "32f02dc107888b055323539767db1f9cf579f03b0ed3a3ace7986ed2d38433ec"
   }
  }
 },
 "nbformat": 4,
 "nbformat_minor": 2
}
