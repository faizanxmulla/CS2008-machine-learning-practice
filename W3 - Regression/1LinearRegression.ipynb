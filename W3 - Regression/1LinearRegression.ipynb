{
 "cells": [
  {
   "cell_type": "markdown",
   "metadata": {},
   "source": [
    "### **Linear regression with sklearn API**\n",
    "\n",
    "The objective of this notebook is to demonstrate how to build a linear regression model with `sklearn`. \n",
    "\n",
    "We will be using the following set up:\n",
    "\n",
    "1. Dataset : California Housing\n",
    "\n",
    "2. Regression API : `LinearRegression`\n",
    "\n",
    "3. Training : `fit` (normal equation) and `cross_validate` (normal equation with cross  validation).\n",
    "\n",
    "4. Evaluation : `score` (r2 Score) and `cross_val_score` with different scoring parameters.\n",
    "\n",
    "We will study the model diagnosis with `LearningCurve` and learn how to examine the learned model or weight vector.\n",
    "\n"
   ]
  },
  {
   "cell_type": "markdown",
   "metadata": {},
   "source": [
    "### Importing the libraries"
   ]
  },
  {
   "cell_type": "code",
   "execution_count": 1,
   "metadata": {},
   "outputs": [],
   "source": [
    "import numpy as np\n",
    "import pandas as pd\n",
    "import matplotlib.pyplot as plt\n",
    "import seaborn as sns\n",
    "\n",
    "from sklearn.datasets import fetch_california_housing\n",
    "from sklearn.linear_model import LinearRegression\n",
    "from sklearn.model_selection import cross_validate\n",
    "from sklearn.model_selection import cross_val_score\n",
    "from sklearn.model_selection import learning_curve\n",
    "from sklearn.model_selection import ShuffleSplit\n",
    "from sklearn.model_selection import permutation_test_score\n",
    "\n",
    "from sklearn.metrics import mean_squared_error\n",
    "from sklearn.metrics import mean_absolute_error\n",
    "from sklearn.metrics import mean_squared_error\n",
    "from sklearn.metrics import mean_absolute_percentage_error\n",
    "from sklearn.metrics import explained_variance_score\n",
    "from sklearn.metrics import max_error\n",
    "\n",
    "from sklearn.pipeline import Pipeline\n",
    "from sklearn.preprocessing import StandardScaler\n",
    "\n",
    "from sklearn.dummy import DummyRegressor"
   ]
  },
  {
   "cell_type": "code",
   "execution_count": 2,
   "metadata": {},
   "outputs": [],
   "source": [
    "np.random.seed(42)\n",
    "plt.style.use('seaborn')"
   ]
  },
  {
   "cell_type": "markdown",
   "metadata": {},
   "source": [
    "We will use `ShuffleSplit` cross validation with:\n",
    "\n",
    "* 10 folds (n_splits) and \n",
    "\n",
    "* set aside 20% examples as test examples (`test_size`) \n"
   ]
  },
  {
   "cell_type": "code",
   "execution_count": 3,
   "metadata": {},
   "outputs": [],
   "source": [
    "shuffle_split_cv = ShuffleSplit(n_splits=10, test_size=0.2, random_state=0)"
   ]
  },
  {
   "cell_type": "markdown",
   "metadata": {},
   "source": [
    "### STEP 1:  **Load the dataset**\n",
    "\n",
    "The first step is to load the dataset. We have already discussed how to load California Housing dataset in the last demonstration."
   ]
  },
  {
   "cell_type": "code",
   "execution_count": 4,
   "metadata": {},
   "outputs": [],
   "source": [
    "features, labels = fetch_california_housing(as_frame=True, return_X_y=True)"
   ]
  },
  {
   "cell_type": "markdown",
   "metadata": {},
   "source": [
    "The feature matrix is loaded in `features` dataframes and the labels in `labels` dataframe. \n",
    "\n",
    "Let's examine the shapes of these two dataframes."
   ]
  },
  {
   "cell_type": "code",
   "execution_count": 5,
   "metadata": {},
   "outputs": [
    {
     "name": "stdout",
     "output_type": "stream",
     "text": [
      "Shape of feature matrix :  (20640, 8)\n",
      "Shape of labels matrix :  (20640,)\n"
     ]
    }
   ],
   "source": [
    "print('Shape of feature matrix : ', features.shape)\n",
    "print('Shape of labels matrix : ', labels.shape)"
   ]
  },
  {
   "cell_type": "markdown",
   "metadata": {},
   "source": [
    "As a sanity check, make sure that the number of rows in feature matrix and labels match."
   ]
  },
  {
   "cell_type": "code",
   "execution_count": 6,
   "metadata": {},
   "outputs": [],
   "source": [
    "assert (features.shape[0]==labels.shape[0])"
   ]
  },
  {
   "cell_type": "markdown",
   "metadata": {},
   "source": [
    "### STEP 2: **Data Exploration**\n",
    "\n",
    "Data exploration has beein covered in week 4 notebook."
   ]
  },
  {
   "cell_type": "markdown",
   "metadata": {},
   "source": [
    "### STEP 3: **Preprocessing and model building** \n"
   ]
  },
  {
   "cell_type": "markdown",
   "metadata": {},
   "source": [
    "#### 3A. Train-test split\n",
    "\n",
    "The first step is to split the training data into test set. We do not access the test data till the end. \n",
    "\n",
    "All data exploration and tuning is performed on the training set and by setting aside a small portion of training as a dev or validation set.\n",
    "\n",
    "The following code snippet divides the data into training and test sets : "
   ]
  },
  {
   "cell_type": "code",
   "execution_count": 7,
   "metadata": {},
   "outputs": [
    {
     "name": "stdout",
     "output_type": "stream",
     "text": [
      "<class 'pandas.core.frame.DataFrame'>\n",
      "Int64Index: 15480 entries, 8158 to 15795\n",
      "Data columns (total 8 columns):\n",
      " #   Column      Non-Null Count  Dtype  \n",
      "---  ------      --------------  -----  \n",
      " 0   MedInc      15480 non-null  float64\n",
      " 1   HouseAge    15480 non-null  float64\n",
      " 2   AveRooms    15480 non-null  float64\n",
      " 3   AveBedrms   15480 non-null  float64\n",
      " 4   Population  15480 non-null  float64\n",
      " 5   AveOccup    15480 non-null  float64\n",
      " 6   Latitude    15480 non-null  float64\n",
      " 7   Longitude   15480 non-null  float64\n",
      "dtypes: float64(8)\n",
      "memory usage: 1.1 MB\n"
     ]
    }
   ],
   "source": [
    "from sklearn.model_selection import train_test_split\n",
    "\n",
    "train_features, test_features, train_labels, test_labels = train_test_split(\n",
    "    features, labels, random_state=42)\n",
    "\n",
    "train_features.info()"
   ]
  },
  {
   "cell_type": "markdown",
   "metadata": {},
   "source": [
    "Let's examine the shapes of training and tet sets : "
   ]
  },
  {
   "cell_type": "code",
   "execution_count": 8,
   "metadata": {},
   "outputs": [
    {
     "name": "stdout",
     "output_type": "stream",
     "text": [
      "Number of training samples :  15480\n",
      "Number of test samples :  5160\n"
     ]
    }
   ],
   "source": [
    "print('Number of training samples : ', train_features.shape[0])\n",
    "print('Number of test samples : ', test_features.shape[0])"
   ]
  },
  {
   "cell_type": "markdown",
   "metadata": {},
   "source": [
    "It's time to perform another sanity check-here we check if the training feature matrix has the same umber of rows as the training label vector.\n",
    "\n",
    "We perform the same check on the test set too."
   ]
  },
  {
   "cell_type": "code",
   "execution_count": 9,
   "metadata": {},
   "outputs": [],
   "source": [
    "assert (train_features.shape[0] == train_labels.shape[0])\n",
    "assert (test_features.shape[0] == test_labels.shape[0])"
   ]
  },
  {
   "cell_type": "markdown",
   "metadata": {},
   "source": [
    "#### 3B. Pipeline : Preprocessing + Model Building\n",
    "\n",
    "* As a first step, build linear regression models with default parameter setting of `LinearRegression` APIs.\n",
    "\n",
    "* We will make use of `Pipeline` API for combining data preprocessing and model building.\n",
    "\n",
    "* We will use `StandardScaler` feature scaling to bring all features on the same scale followed by a `LinearRegression` model.\n",
    "\n",
    "The `Pipeline` object has two components:\n",
    "1. `StandardScaler` as step1 \n",
    "2. `LinearRegression` as step2 \n",
    "\n",
    "After constructing the pipeline object, let's train it with set : "
   ]
  },
  {
   "cell_type": "code",
   "execution_count": 10,
   "metadata": {},
   "outputs": [
    {
     "data": {
      "text/html": [
       "<style>#sk-container-id-1 {color: black;background-color: white;}#sk-container-id-1 pre{padding: 0;}#sk-container-id-1 div.sk-toggleable {background-color: white;}#sk-container-id-1 label.sk-toggleable__label {cursor: pointer;display: block;width: 100%;margin-bottom: 0;padding: 0.3em;box-sizing: border-box;text-align: center;}#sk-container-id-1 label.sk-toggleable__label-arrow:before {content: \"▸\";float: left;margin-right: 0.25em;color: #696969;}#sk-container-id-1 label.sk-toggleable__label-arrow:hover:before {color: black;}#sk-container-id-1 div.sk-estimator:hover label.sk-toggleable__label-arrow:before {color: black;}#sk-container-id-1 div.sk-toggleable__content {max-height: 0;max-width: 0;overflow: hidden;text-align: left;background-color: #f0f8ff;}#sk-container-id-1 div.sk-toggleable__content pre {margin: 0.2em;color: black;border-radius: 0.25em;background-color: #f0f8ff;}#sk-container-id-1 input.sk-toggleable__control:checked~div.sk-toggleable__content {max-height: 200px;max-width: 100%;overflow: auto;}#sk-container-id-1 input.sk-toggleable__control:checked~label.sk-toggleable__label-arrow:before {content: \"▾\";}#sk-container-id-1 div.sk-estimator input.sk-toggleable__control:checked~label.sk-toggleable__label {background-color: #d4ebff;}#sk-container-id-1 div.sk-label input.sk-toggleable__control:checked~label.sk-toggleable__label {background-color: #d4ebff;}#sk-container-id-1 input.sk-hidden--visually {border: 0;clip: rect(1px 1px 1px 1px);clip: rect(1px, 1px, 1px, 1px);height: 1px;margin: -1px;overflow: hidden;padding: 0;position: absolute;width: 1px;}#sk-container-id-1 div.sk-estimator {font-family: monospace;background-color: #f0f8ff;border: 1px dotted black;border-radius: 0.25em;box-sizing: border-box;margin-bottom: 0.5em;}#sk-container-id-1 div.sk-estimator:hover {background-color: #d4ebff;}#sk-container-id-1 div.sk-parallel-item::after {content: \"\";width: 100%;border-bottom: 1px solid gray;flex-grow: 1;}#sk-container-id-1 div.sk-label:hover label.sk-toggleable__label {background-color: #d4ebff;}#sk-container-id-1 div.sk-serial::before {content: \"\";position: absolute;border-left: 1px solid gray;box-sizing: border-box;top: 0;bottom: 0;left: 50%;z-index: 0;}#sk-container-id-1 div.sk-serial {display: flex;flex-direction: column;align-items: center;background-color: white;padding-right: 0.2em;padding-left: 0.2em;position: relative;}#sk-container-id-1 div.sk-item {position: relative;z-index: 1;}#sk-container-id-1 div.sk-parallel {display: flex;align-items: stretch;justify-content: center;background-color: white;position: relative;}#sk-container-id-1 div.sk-item::before, #sk-container-id-1 div.sk-parallel-item::before {content: \"\";position: absolute;border-left: 1px solid gray;box-sizing: border-box;top: 0;bottom: 0;left: 50%;z-index: -1;}#sk-container-id-1 div.sk-parallel-item {display: flex;flex-direction: column;z-index: 1;position: relative;background-color: white;}#sk-container-id-1 div.sk-parallel-item:first-child::after {align-self: flex-end;width: 50%;}#sk-container-id-1 div.sk-parallel-item:last-child::after {align-self: flex-start;width: 50%;}#sk-container-id-1 div.sk-parallel-item:only-child::after {width: 0;}#sk-container-id-1 div.sk-dashed-wrapped {border: 1px dashed gray;margin: 0 0.4em 0.5em 0.4em;box-sizing: border-box;padding-bottom: 0.4em;background-color: white;}#sk-container-id-1 div.sk-label label {font-family: monospace;font-weight: bold;display: inline-block;line-height: 1.2em;}#sk-container-id-1 div.sk-label-container {text-align: center;}#sk-container-id-1 div.sk-container {/* jupyter's `normalize.less` sets `[hidden] { display: none; }` but bootstrap.min.css set `[hidden] { display: none !important; }` so we also need the `!important` here to be able to override the default hidden behavior on the sphinx rendered scikit-learn.org. See: https://github.com/scikit-learn/scikit-learn/issues/21755 */display: inline-block !important;position: relative;}#sk-container-id-1 div.sk-text-repr-fallback {display: none;}</style><div id=\"sk-container-id-1\" class=\"sk-top-container\"><div class=\"sk-text-repr-fallback\"><pre>Pipeline(steps=[(&#x27;feature_scaling&#x27;, StandardScaler()),\n",
       "                (&#x27;lin_reg&#x27;, LinearRegression())])</pre><b>In a Jupyter environment, please rerun this cell to show the HTML representation or trust the notebook. <br />On GitHub, the HTML representation is unable to render, please try loading this page with nbviewer.org.</b></div><div class=\"sk-container\" hidden><div class=\"sk-item sk-dashed-wrapped\"><div class=\"sk-label-container\"><div class=\"sk-label sk-toggleable\"><input class=\"sk-toggleable__control sk-hidden--visually\" id=\"sk-estimator-id-1\" type=\"checkbox\" ><label for=\"sk-estimator-id-1\" class=\"sk-toggleable__label sk-toggleable__label-arrow\">Pipeline</label><div class=\"sk-toggleable__content\"><pre>Pipeline(steps=[(&#x27;feature_scaling&#x27;, StandardScaler()),\n",
       "                (&#x27;lin_reg&#x27;, LinearRegression())])</pre></div></div></div><div class=\"sk-serial\"><div class=\"sk-item\"><div class=\"sk-estimator sk-toggleable\"><input class=\"sk-toggleable__control sk-hidden--visually\" id=\"sk-estimator-id-2\" type=\"checkbox\" ><label for=\"sk-estimator-id-2\" class=\"sk-toggleable__label sk-toggleable__label-arrow\">StandardScaler</label><div class=\"sk-toggleable__content\"><pre>StandardScaler()</pre></div></div></div><div class=\"sk-item\"><div class=\"sk-estimator sk-toggleable\"><input class=\"sk-toggleable__control sk-hidden--visually\" id=\"sk-estimator-id-3\" type=\"checkbox\" ><label for=\"sk-estimator-id-3\" class=\"sk-toggleable__label sk-toggleable__label-arrow\">LinearRegression</label><div class=\"sk-toggleable__content\"><pre>LinearRegression()</pre></div></div></div></div></div></div></div>"
      ],
      "text/plain": [
       "Pipeline(steps=[('feature_scaling', StandardScaler()),\n",
       "                ('lin_reg', LinearRegression())])"
      ]
     },
     "execution_count": 10,
     "metadata": {},
     "output_type": "execute_result"
    }
   ],
   "source": [
    "lin_reg_pipeline = Pipeline([\n",
    "    ('feature_scaling', StandardScaler()),\n",
    "    ('lin_reg', LinearRegression())\n",
    "])\n",
    "\n",
    "lin_reg_pipeline.fit(train_features, train_labels)"
   ]
  },
  {
   "cell_type": "markdown",
   "metadata": {},
   "source": [
    "Now that we have trained the model, let's check the learnt / estimated weight vectors (intercept_, coef_) : "
   ]
  },
  {
   "cell_type": "code",
   "execution_count": 11,
   "metadata": {},
   "outputs": [
    {
     "name": "stdout",
     "output_type": "stream",
     "text": [
      "Intercept (w_0) :  2.0703489205426377\n",
      "\n",
      "Weight vector (w_1,w_2....,w_m) : \n",
      " [ 0.85210815  0.12065533 -0.30210555  0.34860575 -0.00164465 -0.04116356\n",
      " -0.89314697 -0.86784046]\n"
     ]
    }
   ],
   "source": [
    "print('Intercept (w_0) : ',lin_reg_pipeline[-1].intercept_)\n",
    "print()\n",
    "print('Weight vector (w_1,w_2....,w_m) : \\n' ,lin_reg_pipeline[-1].coef_)"
   ]
  },
  {
   "cell_type": "markdown",
   "metadata": {},
   "source": [
    "A few things to notice:\n",
    "\n",
    "* We accessed the `LinearRegression` object as `lin_reg_pipeline[-1]` which is the last step in pipeline. \n",
    "\n",
    "* The intercept can be obtained via `intercept_` memeber variable and \n",
    "\n",
    "* The weight vector correspoinding to features via `coef_`. \n"
   ]
  },
  {
   "cell_type": "markdown",
   "metadata": {},
   "source": [
    "### STEP 4: **Model Evaluation**\n",
    "\n",
    "Let's use `score` method to obtain train and test errors with twin objectives.\n",
    "\n",
    "* Estimation of model performance as provided by test error.\n",
    "\n",
    "* Comparision of errors for model diagnostic purpose (underfit /overfit /just the right fit)\n"
   ]
  },
  {
   "cell_type": "code",
   "execution_count": 12,
   "metadata": {},
   "outputs": [
    {
     "name": "stdout",
     "output_type": "stream",
     "text": [
      "Model performance on train set : 0.609873031052925\n",
      "Model performance on test set : 0.5910509795491352\n"
     ]
    }
   ],
   "source": [
    "#evaluate model performance on both train and test set.\n",
    "\n",
    "train_score = lin_reg_pipeline.score(train_features, train_labels)\n",
    "print('Model performance on train set :', train_score)\n",
    "\n",
    "test_score = lin_reg_pipeline.score(test_features, test_labels)\n",
    "print('Model performance on test set :', test_score)"
   ]
  },
  {
   "cell_type": "markdown",
   "metadata": {},
   "source": [
    "* The `score` method returns `r2` score whose best value is 1. \n",
    "\n",
    "* The `r2` scores on training and test are comparable but they are not that high. \n",
    "\n",
    "* It points to underfitting issue in model training.\n"
   ]
  },
  {
   "cell_type": "markdown",
   "metadata": {},
   "source": [
    "#### 4A. Cross validation sccore (`cross_val_score`) \n",
    "\n",
    "* Since the `score` was computed on one fold that was selected as a test set, it may not be all that robust. \n",
    "\n",
    "* In order to obtain robust estimate of the performance, we use `cross_val_score` that calculates `score` on different test folds through cross validation.\n"
   ]
  },
  {
   "cell_type": "code",
   "execution_count": 13,
   "metadata": {},
   "outputs": [
    {
     "name": "stdout",
     "output_type": "stream",
     "text": [
      "Model performance on cross validation set : \n",
      " [-0.50009976 -0.52183352 -0.55931218 -0.52110499 -0.56059203 -0.50510767\n",
      " -0.52386194 -0.54775518 -0.5007161  -0.54713448]\n"
     ]
    }
   ],
   "source": [
    "lin_reg_score = cross_val_score(lin_reg_pipeline, train_features, train_labels,scoring='neg_mean_squared_error' , cv=shuffle_split_cv)\n",
    "\n",
    "print('Model performance on cross validation set : \\n', lin_reg_score)"
   ]
  },
  {
   "cell_type": "code",
   "execution_count": 14,
   "metadata": {},
   "outputs": [
    {
     "name": "stdout",
     "output_type": "stream",
     "text": [
      "Score of linear regression model on the test set : \n",
      "-0.529 +/- 0.022\n"
     ]
    }
   ],
   "source": [
    "print(\n",
    "    f'Score of linear regression model on the test set : \\n'f\"{lin_reg_score.mean():.3f} +/- {lin_reg_score.std():.3f}\")"
   ]
  },
  {
   "cell_type": "markdown",
   "metadata": {},
   "source": [
    "Here we got the negative mean squred error as a score. We can convert that to error as follows:"
   ]
  },
  {
   "cell_type": "code",
   "execution_count": 15,
   "metadata": {},
   "outputs": [
    {
     "name": "stdout",
     "output_type": "stream",
     "text": [
      "MSE of linear regression model on the test set :\n",
      "0.529 +/- 0.022\n"
     ]
    }
   ],
   "source": [
    "lin_reg_mse = - lin_reg_score\n",
    "\n",
    "print(\n",
    "    f'MSE of linear regression model on the test set :\\n' f'{lin_reg_mse.mean():.3f} +/- {lin_reg_mse.std():.3f}')"
   ]
  },
  {
   "cell_type": "markdown",
   "metadata": {},
   "source": [
    "We can use other `scoring` parameters and obtain cross validated scores based on that parameter. \n",
    "\n",
    "The following choices are available for `scoring`: \n",
    "\n",
    "* expalined_variance\n",
    "\n",
    "* max_error\n",
    "\n",
    "* neg_mean_absolute_error\n",
    "\n",
    "* neg_root_mean_squared_log_error\n",
    "\n",
    "* neg_median_absolute_error\n",
    "\n",
    "* neg_mean_absolute_percentage_error \n",
    "\n",
    "* r2 score\n"
   ]
  },
  {
   "cell_type": "markdown",
   "metadata": {},
   "source": [
    "#### 4B. Cross validation \n",
    "\n",
    "We just calculated `cross_val_score` based on the cross validation. \n",
    "\n",
    "* It however return only scores of each fold. What if we also need to access the models trained in each fold along with some other statistics like `train error` for that fold.\n",
    "\n",
    "* `cross_validate` API enables us to obtain them."
   ]
  },
  {
   "cell_type": "code",
   "execution_count": 16,
   "metadata": {},
   "outputs": [],
   "source": [
    "lin_reg_cv_results = cross_validate(lin_reg_pipeline ,train_features ,train_labels ,scoring='neg_mean_squared_error' ,return_train_score=True ,return_estimator=True ,cv=shuffle_split_cv)"
   ]
  },
  {
   "cell_type": "markdown",
   "metadata": {},
   "source": [
    "The `lin_reg_cv_results` is a dictionary with the following contents : \n",
    "\n",
    "* trained `estimators`\n",
    "\n",
    "* time taken for fitting (`fit_time`) and scoring(`score_time`) the models in cross validation,\n",
    "\n",
    "* training score (`train_score`) and \n",
    "\n",
    "* test scores (`test_score`) \n"
   ]
  },
  {
   "cell_type": "markdown",
   "metadata": {},
   "source": [
    "##### **Returns of cross_validate score**\n",
    "\n",
    "* scoresdict of float arrays of shape (n_splits,)\n",
    "\n",
    "* Array of scores of the estimator for each run of the cross validation.\n",
    "\n",
    "* A dict of arrays containing the score/time arrays for each scorer is returned. \n",
    "\n",
    "* The possible keys for this dict are:\n",
    "\n",
    "1. **test_score**\n",
    "\n",
    "    * The score array for test scores on each cv split. \n",
    "    \n",
    "    * `Suffix_score` in `test_score` changes to a specific metric like `test_r2` or `test_auc` if there are multiple scoring metrics in the scoring parameter.\n",
    "\n",
    "2. **train_score**\n",
    "\n",
    "    * The score array for train scores on each cv split. \n",
    "    \n",
    "    * `Suffix_score` in `train_score` changes to a specific metric like `train_r2` or `train_auc` if there are multiple scoring metrics in the scoring parameter. \n",
    "    \n",
    "    * This is available only if `return_train_score` parameter is `True`.\n",
    "\n",
    "3. **fit_time**\n",
    "    \n",
    "    * The time for fitting the estimator on each cv split. \n",
    "    \n",
    "    * This is available only if `return_fit_time` parameter is `True`.\n",
    "\n",
    "    * The time for fitting the estimator on the train set for each cv split.\n",
    "\n",
    "\n",
    "4. **score_time**\n",
    "\n",
    "    The time for scoring the estimator on the test set for each cv split. (Note time for scoring on the train set is not included even if return_train_score is set to True)\n",
    "\n",
    "5. **estimator**\n",
    "\n",
    "    * The estimator objects for each cv split. \n",
    "    \n",
    "    * This is available only if `return_estimator` parameter is set to `True`."
   ]
  },
  {
   "cell_type": "markdown",
   "metadata": {},
   "source": [
    "\n",
    "Let's print the contents of the dictionary for us to examine : "
   ]
  },
  {
   "cell_type": "code",
   "execution_count": 17,
   "metadata": {},
   "outputs": [
    {
     "data": {
      "text/plain": [
       "{'fit_time': array([0.00901079, 0.00700426, 0.0069983 , 0.00900698, 0.00699949,\n",
       "        0.0059979 , 0.00700974, 0.00700021, 0.00800037, 0.00799966]),\n",
       " 'score_time': array([0.00099754, 0.00100017, 0.00099826, 0.0009954 , 0.00100088,\n",
       "        0.00099993, 0.00101876, 0.00199103, 0.00099969, 0.0009973 ]),\n",
       " 'estimator': [Pipeline(steps=[('feature_scaling', StandardScaler()),\n",
       "                  ('lin_reg', LinearRegression())]),\n",
       "  Pipeline(steps=[('feature_scaling', StandardScaler()),\n",
       "                  ('lin_reg', LinearRegression())]),\n",
       "  Pipeline(steps=[('feature_scaling', StandardScaler()),\n",
       "                  ('lin_reg', LinearRegression())]),\n",
       "  Pipeline(steps=[('feature_scaling', StandardScaler()),\n",
       "                  ('lin_reg', LinearRegression())]),\n",
       "  Pipeline(steps=[('feature_scaling', StandardScaler()),\n",
       "                  ('lin_reg', LinearRegression())]),\n",
       "  Pipeline(steps=[('feature_scaling', StandardScaler()),\n",
       "                  ('lin_reg', LinearRegression())]),\n",
       "  Pipeline(steps=[('feature_scaling', StandardScaler()),\n",
       "                  ('lin_reg', LinearRegression())]),\n",
       "  Pipeline(steps=[('feature_scaling', StandardScaler()),\n",
       "                  ('lin_reg', LinearRegression())]),\n",
       "  Pipeline(steps=[('feature_scaling', StandardScaler()),\n",
       "                  ('lin_reg', LinearRegression())]),\n",
       "  Pipeline(steps=[('feature_scaling', StandardScaler()),\n",
       "                  ('lin_reg', LinearRegression())])],\n",
       " 'test_score': array([-0.50009976, -0.52183352, -0.55931218, -0.52110499, -0.56059203,\n",
       "        -0.50510767, -0.52386194, -0.54775518, -0.5007161 , -0.54713448]),\n",
       " 'train_score': array([-0.52578695, -0.52035137, -0.51095597, -0.52049611, -0.51060835,\n",
       "        -0.52453922, -0.51994311, -0.5144039 , -0.52578473, -0.51397105])}"
      ]
     },
     "execution_count": 17,
     "metadata": {},
     "output_type": "execute_result"
    }
   ],
   "source": [
    "lin_reg_cv_results"
   ]
  },
  {
   "cell_type": "markdown",
   "metadata": {},
   "source": [
    "* There are 10 values in each dictionary key. That is because of `cv`=10 or 10-fold cross validation that we used.\n",
    "\n",
    "* We compare training and test errors to access generalization performance of our model. However we have training and test scores in the `cv_results` dictionary.\n",
    "\n",
    "* Multiply these scores by -1 and convert them to errors."
   ]
  },
  {
   "cell_type": "code",
   "execution_count": 18,
   "metadata": {},
   "outputs": [
    {
     "name": "stdout",
     "output_type": "stream",
     "text": [
      "Mean squared error of linear regression model on the train set:\n",
      " 0.519 +\\- 0.006\n",
      "\n",
      "Mean squared error of linear regression model on the test set:\n",
      " 0.529 +\\- 0.022\n"
     ]
    }
   ],
   "source": [
    "train_error = -1 * lin_reg_cv_results['train_score']\n",
    "test_error = -1 * lin_reg_cv_results['test_score']\n",
    "\n",
    "print(f'Mean squared error of linear regression model on the train set:\\n',\n",
    "      f'{train_error.mean():.3f} +\\- {train_error.std():.3f}')\n",
    "\n",
    "print()\n",
    "print(f'Mean squared error of linear regression model on the test set:\\n',\n",
    "      f'{test_error.mean():.3f} +\\- {test_error.std():.3f}')"
   ]
  },
  {
   "cell_type": "markdown",
   "metadata": {},
   "source": [
    "#### 4C. **Learning Curve** / Effect of training set size on ERROR\n",
    "\n",
    "Let's understand how the training set size or #samples affect the error. \n",
    "\n",
    "We can use `Learning_curve` API that calculates cross validation scores for different #samples as specified in argument `train_sizes`. "
   ]
  },
  {
   "cell_type": "code",
   "execution_count": 19,
   "metadata": {},
   "outputs": [],
   "source": [
    "#@ title [Plot learning curves]\n",
    "def plot_learning_curve(train_sizes, train_scores, test_scores):\n",
    "    train_score_mean = np.mean(-train_scores, axis=1)\n",
    "    train_score_std = np.std(-train_scores, axis=1)\n",
    "\n",
    "    test_score_mean = np.mean(-test_scores, axis=1)\n",
    "    test_score_std = np.std(-test_scores, axis=1)\n",
    "    \n",
    "    fit_times_mean = np.mean(fit_times, axis=1)\n",
    "    fit_times_std = np.std(fit_times, axis=1)\n",
    "\n",
    "    plt.fill_between(train_sizes,\n",
    "                    train_score_mean - train_score_std,\n",
    "                    train_score_mean + train_score_std,\n",
    "                    alpha=0.1,\n",
    "                    color='r',)\n",
    "\n",
    "    plt.fill_between(train_sizes,\n",
    "                    test_score_mean + test_score_std,\n",
    "                    test_score_mean - test_score_std,\n",
    "                    alpha=0.1,\n",
    "                    color='g')\n",
    "\n",
    "    plt.plot(train_sizes, train_score_mean, \"o-\", color='r', lw=2)\n",
    "    plt.plot(train_sizes, test_score_mean, \"o-\", color='g', lw=2)\n",
    "\n",
    "    plt.xlabel(\"Training examples \")\n",
    "    plt.ylabel(\"MSE\")\n",
    "    # plt.legend(loc=\"best\")\n",
    "\n",
    "    return plt.show()"
   ]
  },
  {
   "cell_type": "code",
   "execution_count": 20,
   "metadata": {},
   "outputs": [],
   "source": [
    "(train_sizes, train_scores, test_scores, fit_times, score_times) = learning_curve(lin_reg_pipeline, train_features, train_labels, cv=shuffle_split_cv,scoring='neg_mean_squared_error', n_jobs=-1,\n",
    "return_times=True, train_sizes=np.linspace(0.2, 1, 10))"
   ]
  },
  {
   "cell_type": "code",
   "execution_count": 21,
   "metadata": {},
   "outputs": [
    {
     "data": {
      "image/png": "[encoded data removed]",
      "text/plain": [
       "<Figure size 576x396 with 1 Axes>"
      ]
     },
     "metadata": {},
     "output_type": "display_data"
    }
   ],
   "source": [
    "plot_learning_curve(train_sizes, train_scores, test_scores)"
   ]
  },
  {
   "cell_type": "markdown",
   "metadata": {},
   "source": [
    "Observing that : \n",
    "\n",
    "* Both curves have reached a plateau; they are close and fairly high.\n",
    "\n",
    "* Few instances in the training set means the model can fit them perfectly. But as more instances are added to the training set, it becomes impossible for the model to fit the training data perfectly.\n",
    "\n",
    "* When the model is trained on very few training instances, it is not able of generalizing properly, which is why the validation error is initially quite high. \n",
    "\n",
    "* Then as the model learns on more training examples, the training and validation error reduce slowly.\n",
    "\n",
    "These learning curves are typical of **underfitting** model."
   ]
  },
  {
   "cell_type": "markdown",
   "metadata": {},
   "source": [
    "#### 4D. **Scalability Curve** / Effect of training set size on FIT TIME\n",
    "\n",
    "We can also study how training scales as the function of number of training samples."
   ]
  },
  {
   "cell_type": "code",
   "execution_count": 22,
   "metadata": {},
   "outputs": [],
   "source": [
    "#@ title [Plot Scalability curves]\n",
    "def plot_scalability_curve(train_sizes, fit_times):\n",
    "    train_score_mean = np.mean(-train_scores, axis=1)\n",
    "    train_score_std = np.std(-train_scores, axis=1)\n",
    "\n",
    "    test_score_mean = np.mean(-test_scores, axis=1)\n",
    "    test_score_std = np.std(-test_scores, axis=1)\n",
    "\n",
    "    fit_times_mean = np.mean(fit_times, axis=1)\n",
    "    fit_times_std = np.std(fit_times, axis=1)\n",
    "\n",
    "    plt.fill_between(train_sizes,\n",
    "                    fit_times_mean - fit_times_std,\n",
    "                    fit_times_mean + fit_times_std,\n",
    "                    alpha=0.1,\n",
    "                    color='g',)\n",
    "\n",
    "    plt.plot(train_sizes, fit_times_mean, \"o-\", color='b', lw=2)\n",
    "\n",
    "    plt.xlabel(\"Training examples \")\n",
    "    plt.ylabel(\"fit time\")\n",
    "    # plt.legend(loc=\"best\")\n",
    "    \n",
    "    return plt.show()\n"
   ]
  },
  {
   "cell_type": "code",
   "execution_count": 23,
   "metadata": {},
   "outputs": [
    {
     "data": {
      "image/png": "[encoded data removed]",
      "text/plain": [
       "<Figure size 576x396 with 1 Axes>"
      ]
     },
     "metadata": {},
     "output_type": "display_data"
    }
   ],
   "source": [
    "plot_scalability_curve(train_sizes,fit_times)"
   ]
  },
  {
   "cell_type": "markdown",
   "metadata": {},
   "source": [
    "As the number of training examples grows, the time to fit also increases."
   ]
  },
  {
   "cell_type": "markdown",
   "metadata": {},
   "source": [
    "#### 4E. Model Examination\n",
    "\n",
    "Let's examine the weight vectors and how much variability exists between them across different cross-validated models."
   ]
  },
  {
   "cell_type": "code",
   "execution_count": 24,
   "metadata": {},
   "outputs": [
    {
     "data": {
      "text/plain": [
       "Index(['MedInc', 'HouseAge', 'AveRooms', 'AveBedrms', 'Population', 'AveOccup',\n",
       "       'Latitude', 'Longitude'],\n",
       "      dtype='object')"
      ]
     },
     "execution_count": 24,
     "metadata": {},
     "output_type": "execute_result"
    }
   ],
   "source": [
    "feature_names = train_features.columns\n",
    "feature_names"
   ]
  },
  {
   "cell_type": "markdown",
   "metadata": {},
   "source": [
    "For this we will first construct a dataframe of weight vectors and then plot them with `boxplot`."
   ]
  },
  {
   "cell_type": "code",
   "execution_count": 25,
   "metadata": {},
   "outputs": [
    {
     "data": {
      "image/png": "[encoded data removed]",
      "text/plain": [
       "<Figure size 864x864 with 1 Axes>"
      ]
     },
     "metadata": {},
     "output_type": "display_data"
    }
   ],
   "source": [
    "coefs = [i[-1].coef_ for i in lin_reg_cv_results[\"estimator\"]] \n",
    "weights_df = pd.DataFrame(coefs, columns=feature_names)\n",
    "\n",
    "color = {'whiskers':'black','medians':'green','caps':'blue'}\n",
    "weights_df.plot.box(color=color, vert=False,figsize=(12,12))\n",
    "\n",
    "plt.title('Linear regression coefficients')\n",
    "plt.show()"
   ]
  },
  {
   "cell_type": "markdown",
   "metadata": {},
   "source": [
    "There is not much variability in weights by different models. It can also be seen in the standard deviation of weights as seen in `std` row below"
   ]
  },
  {
   "cell_type": "code",
   "execution_count": 26,
   "metadata": {},
   "outputs": [
    {
     "data": {
      "text/html": [
       "<div>\n",
       "<style scoped>\n",
       "    .dataframe tbody tr th:only-of-type {\n",
       "        vertical-align: middle;\n",
       "    }\n",
       "\n",
       "    .dataframe tbody tr th {\n",
       "        vertical-align: top;\n",
       "    }\n",
       "\n",
       "    .dataframe thead th {\n",
       "        text-align: right;\n",
       "    }\n",
       "</style>\n",
       "<table border=\"1\" class=\"dataframe\">\n",
       "  <thead>\n",
       "    <tr style=\"text-align: right;\">\n",
       "      <th></th>\n",
       "      <th>count</th>\n",
       "      <th>mean</th>\n",
       "      <th>std</th>\n",
       "      <th>min</th>\n",
       "      <th>25%</th>\n",
       "      <th>50%</th>\n",
       "      <th>75%</th>\n",
       "      <th>max</th>\n",
       "    </tr>\n",
       "  </thead>\n",
       "  <tbody>\n",
       "    <tr>\n",
       "      <th>MedInc</th>\n",
       "      <td>10.0</td>\n",
       "      <td>0.852153</td>\n",
       "      <td>0.005763</td>\n",
       "      <td>0.843517</td>\n",
       "      <td>0.848871</td>\n",
       "      <td>0.852711</td>\n",
       "      <td>0.854743</td>\n",
       "      <td>0.861659</td>\n",
       "    </tr>\n",
       "    <tr>\n",
       "      <th>HouseAge</th>\n",
       "      <td>10.0</td>\n",
       "      <td>0.122770</td>\n",
       "      <td>0.004312</td>\n",
       "      <td>0.117394</td>\n",
       "      <td>0.119895</td>\n",
       "      <td>0.121592</td>\n",
       "      <td>0.125520</td>\n",
       "      <td>0.130560</td>\n",
       "    </tr>\n",
       "    <tr>\n",
       "      <th>AveRooms</th>\n",
       "      <td>10.0</td>\n",
       "      <td>-0.304384</td>\n",
       "      <td>0.010998</td>\n",
       "      <td>-0.318971</td>\n",
       "      <td>-0.310778</td>\n",
       "      <td>-0.305795</td>\n",
       "      <td>-0.302980</td>\n",
       "      <td>-0.278426</td>\n",
       "    </tr>\n",
       "    <tr>\n",
       "      <th>AveBedrms</th>\n",
       "      <td>10.0</td>\n",
       "      <td>0.353528</td>\n",
       "      <td>0.018044</td>\n",
       "      <td>0.307474</td>\n",
       "      <td>0.349715</td>\n",
       "      <td>0.360139</td>\n",
       "      <td>0.364646</td>\n",
       "      <td>0.367952</td>\n",
       "    </tr>\n",
       "    <tr>\n",
       "      <th>Population</th>\n",
       "      <td>10.0</td>\n",
       "      <td>-0.001576</td>\n",
       "      <td>0.003254</td>\n",
       "      <td>-0.005787</td>\n",
       "      <td>-0.002688</td>\n",
       "      <td>-0.002063</td>\n",
       "      <td>-0.000350</td>\n",
       "      <td>0.005297</td>\n",
       "    </tr>\n",
       "    <tr>\n",
       "      <th>AveOccup</th>\n",
       "      <td>10.0</td>\n",
       "      <td>-0.037059</td>\n",
       "      <td>0.008582</td>\n",
       "      <td>-0.047584</td>\n",
       "      <td>-0.042486</td>\n",
       "      <td>-0.042325</td>\n",
       "      <td>-0.027562</td>\n",
       "      <td>-0.026331</td>\n",
       "    </tr>\n",
       "    <tr>\n",
       "      <th>Latitude</th>\n",
       "      <td>10.0</td>\n",
       "      <td>-0.894011</td>\n",
       "      <td>0.009975</td>\n",
       "      <td>-0.908058</td>\n",
       "      <td>-0.901411</td>\n",
       "      <td>-0.895370</td>\n",
       "      <td>-0.883967</td>\n",
       "      <td>-0.881884</td>\n",
       "    </tr>\n",
       "    <tr>\n",
       "      <th>Longitude</th>\n",
       "      <td>10.0</td>\n",
       "      <td>-0.869753</td>\n",
       "      <td>0.009097</td>\n",
       "      <td>-0.884206</td>\n",
       "      <td>-0.876542</td>\n",
       "      <td>-0.869631</td>\n",
       "      <td>-0.862110</td>\n",
       "      <td>-0.857844</td>\n",
       "    </tr>\n",
       "  </tbody>\n",
       "</table>\n",
       "</div>"
      ],
      "text/plain": [
       "            count      mean       std       min       25%       50%       75%  \\\n",
       "MedInc       10.0  0.852153  0.005763  0.843517  0.848871  0.852711  0.854743   \n",
       "HouseAge     10.0  0.122770  0.004312  0.117394  0.119895  0.121592  0.125520   \n",
       "AveRooms     10.0 -0.304384  0.010998 -0.318971 -0.310778 -0.305795 -0.302980   \n",
       "AveBedrms    10.0  0.353528  0.018044  0.307474  0.349715  0.360139  0.364646   \n",
       "Population   10.0 -0.001576  0.003254 -0.005787 -0.002688 -0.002063 -0.000350   \n",
       "AveOccup     10.0 -0.037059  0.008582 -0.047584 -0.042486 -0.042325 -0.027562   \n",
       "Latitude     10.0 -0.894011  0.009975 -0.908058 -0.901411 -0.895370 -0.883967   \n",
       "Longitude    10.0 -0.869753  0.009097 -0.884206 -0.876542 -0.869631 -0.862110   \n",
       "\n",
       "                 max  \n",
       "MedInc      0.861659  \n",
       "HouseAge    0.130560  \n",
       "AveRooms   -0.278426  \n",
       "AveBedrms   0.367952  \n",
       "Population  0.005297  \n",
       "AveOccup   -0.026331  \n",
       "Latitude   -0.881884  \n",
       "Longitude  -0.857844  "
      ]
     },
     "execution_count": 26,
     "metadata": {},
     "output_type": "execute_result"
    }
   ],
   "source": [
    "weights_df.describe().T"
   ]
  },
  {
   "cell_type": "markdown",
   "metadata": {},
   "source": [
    "#### 4F. Model Selection\n",
    "\n",
    "Let's select the model with the lowest cross validated test error as the best performance model."
   ]
  },
  {
   "cell_type": "code",
   "execution_count": 27,
   "metadata": {},
   "outputs": [
    {
     "data": {
      "text/plain": [
       "[Pipeline(steps=[('feature_scaling', StandardScaler()),\n",
       "                 ('lin_reg', LinearRegression())]),\n",
       " Pipeline(steps=[('feature_scaling', StandardScaler()),\n",
       "                 ('lin_reg', LinearRegression())]),\n",
       " Pipeline(steps=[('feature_scaling', StandardScaler()),\n",
       "                 ('lin_reg', LinearRegression())]),\n",
       " Pipeline(steps=[('feature_scaling', StandardScaler()),\n",
       "                 ('lin_reg', LinearRegression())]),\n",
       " Pipeline(steps=[('feature_scaling', StandardScaler()),\n",
       "                 ('lin_reg', LinearRegression())]),\n",
       " Pipeline(steps=[('feature_scaling', StandardScaler()),\n",
       "                 ('lin_reg', LinearRegression())]),\n",
       " Pipeline(steps=[('feature_scaling', StandardScaler()),\n",
       "                 ('lin_reg', LinearRegression())]),\n",
       " Pipeline(steps=[('feature_scaling', StandardScaler()),\n",
       "                 ('lin_reg', LinearRegression())]),\n",
       " Pipeline(steps=[('feature_scaling', StandardScaler()),\n",
       "                 ('lin_reg', LinearRegression())]),\n",
       " Pipeline(steps=[('feature_scaling', StandardScaler()),\n",
       "                 ('lin_reg', LinearRegression())])]"
      ]
     },
     "execution_count": 27,
     "metadata": {},
     "output_type": "execute_result"
    }
   ],
   "source": [
    "lin_reg_cv_results['estimator']"
   ]
  },
  {
   "cell_type": "code",
   "execution_count": 28,
   "metadata": {},
   "outputs": [],
   "source": [
    "best_model_index = np.argmin(test_error)\n",
    "selected_model = lin_reg_cv_results['estimator'][best_model_index]"
   ]
  },
  {
   "cell_type": "markdown",
   "metadata": {},
   "source": [
    "Let's examine the model coefficients and intercepts :"
   ]
  },
  {
   "cell_type": "code",
   "execution_count": 29,
   "metadata": {},
   "outputs": [
    {
     "name": "stdout",
     "output_type": "stream",
     "text": [
      "Intercept (w_0) : 2.0779898917958657\n",
      "\n",
      "Coefficients (w_1,w_2.....,w_m) : \n",
      " [ 8.44324888e-01  1.18463901e-01 -3.04619574e-01  3.56620503e-01\n",
      "  1.74458509e-04 -4.23964612e-02 -8.96045642e-01 -8.68906479e-01]\n"
     ]
    }
   ],
   "source": [
    "print('Intercept (w_0) :',selected_model['lin_reg'].intercept_)\n",
    "print()\n",
    "print('Coefficients (w_1,w_2.....,w_m) : \\n',selected_model['lin_reg'].coef_)"
   ]
  },
  {
   "cell_type": "markdown",
   "metadata": {},
   "source": [
    "#### 4G. Model Performance\n",
    "\n",
    "Towards this, let's first obtain the predictions for test points in cross validation."
   ]
  },
  {
   "cell_type": "code",
   "execution_count": 30,
   "metadata": {},
   "outputs": [],
   "source": [
    "from sklearn.model_selection import cross_val_predict\n",
    "\n",
    "cv_predictions = cross_val_predict(lin_reg_pipeline, train_features, train_labels)"
   ]
  },
  {
   "cell_type": "code",
   "execution_count": 31,
   "metadata": {},
   "outputs": [
    {
     "data": {
      "image/png": "[encoded data removed]",
      "text/plain": [
       "<Figure size 576x396 with 1 Axes>"
      ]
     },
     "metadata": {},
     "output_type": "display_data"
    }
   ],
   "source": [
    "mse_cv = mean_squared_error(train_labels, cv_predictions)\n",
    "\n",
    "plt.scatter(train_labels, cv_predictions, color='blue')\n",
    "plt.plot(train_labels, train_labels, 'r-')\n",
    "\n",
    "plt.title(f'Mean squared error = {mse_cv:.2f}', size=18)\n",
    "plt.xlabel('Actual Median House value', size=12)\n",
    "plt.ylabel('Predicted Median House value', size=12)\n",
    "plt.show()"
   ]
  },
  {
   "cell_type": "markdown",
   "metadata": {},
   "source": [
    "* The model seems to be all over the place in its predictions for examples with label 5. \n",
    "\n",
    "* There are some negative predictions. We can fix this by adding a constraints on the weights to be positive.\n",
    "\n",
    "\n",
    "At this stage, we should perform error analysis and check where the predictions are going wrong. \n",
    "\n",
    "We can revisit feature construction, preprocessing or model stages and make the necessary course corrections to get better performance."
   ]
  },
  {
   "cell_type": "markdown",
   "metadata": {},
   "source": [
    "### STEP 5 : **Predictions**\n",
    "\n",
    "We can use the best performing model from cross validation for getting predictions on the test set."
   ]
  },
  {
   "cell_type": "code",
   "execution_count": 32,
   "metadata": {},
   "outputs": [
    {
     "data": {
      "text/plain": [
       "array([0.73548515, 1.7725621 , 2.70011199, 2.83716602, 2.60743151])"
      ]
     },
     "execution_count": 32,
     "metadata": {},
     "output_type": "execute_result"
    }
   ],
   "source": [
    "test_predictions_cv = selected_model.predict(test_features)\n",
    "test_predictions_cv[:5]"
   ]
  },
  {
   "cell_type": "code",
   "execution_count": 33,
   "metadata": {},
   "outputs": [
    {
     "data": {
      "text/plain": [
       "array([0.72412832, 1.76677807, 2.71151581, 2.83601179, 2.603755  ])"
      ]
     },
     "execution_count": 33,
     "metadata": {},
     "output_type": "execute_result"
    }
   ],
   "source": [
    "test_predictions = lin_reg_pipeline.predict(test_features)\n",
    "test_predictions[:5]"
   ]
  },
  {
   "cell_type": "markdown",
   "metadata": {},
   "source": [
    "### STEP 6 : **Report Model Performance**\n",
    "\n",
    "We report the model perfromance on the test set."
   ]
  },
  {
   "cell_type": "code",
   "execution_count": 34,
   "metadata": {},
   "outputs": [
    {
     "name": "stdout",
     "output_type": "stream",
     "text": [
      "R2 score for the best model obtained via cross validation : 0.5923577635319087\n",
      "R2 score for model w/o cv : 0.5910509795491352\n"
     ]
    }
   ],
   "source": [
    "score_cv = selected_model.score(test_features, test_labels)\n",
    "score = lin_reg_pipeline.score(test_features, test_labels)\n",
    "\n",
    "print('R2 score for the best model obtained via cross validation :', score_cv)\n",
    "print('R2 score for model w/o cv :', score)"
   ]
  },
  {
   "cell_type": "markdown",
   "metadata": {},
   "source": [
    "Alternatively we can use any other metric of interest and report performance based on that. \n",
    "\n",
    "For example, the mean squared error is as follows:"
   ]
  },
  {
   "cell_type": "code",
   "execution_count": 35,
   "metadata": {},
   "outputs": [
    {
     "name": "stdout",
     "output_type": "stream",
     "text": [
      "MSE for the best model obtained via cross validation : 0.5393995876218524\n",
      "MSE for model w/o cv :  0.5411287478470688\n"
     ]
    }
   ],
   "source": [
    "mse_cv = mean_squared_error(test_labels, test_predictions_cv)\n",
    "mse = mean_squared_error(test_labels, test_predictions)\n",
    "\n",
    "print('MSE for the best model obtained via cross validation :', mse_cv)\n",
    "print('MSE for model w/o cv : ', mse)"
   ]
  },
  {
   "cell_type": "markdown",
   "metadata": {},
   "source": [
    "#### Testing Model on other metrics "
   ]
  },
  {
   "cell_type": "code",
   "execution_count": 36,
   "metadata": {},
   "outputs": [
    {
     "data": {
      "text/plain": [
       "0.660514059153199"
      ]
     },
     "execution_count": 36,
     "metadata": {},
     "output_type": "execute_result"
    }
   ],
   "source": [
    "from sklearn.datasets import fetch_california_housing\n",
    "from sklearn.preprocessing import StandardScaler\n",
    "\n",
    "X, y = fetch_california_housing(as_frame=True, return_X_y=True)\n",
    "X_train, X_test, y_train, y_test = train_test_split(\n",
    "    X, y, shuffle=False, test_size=0.2, random_state=0)\n",
    "\n",
    "lin_reg_pipeline = Pipeline([\n",
    "    ('scaling', StandardScaler()),\n",
    "    ('lin_reg', LinearRegression())\n",
    "])\n",
    "\n",
    "lin_reg_pipeline.fit(X_train, y_train)\n",
    "test_score = lin_reg_pipeline.score(X_test, y_test)\n",
    "test_score\n"
   ]
  },
  {
   "cell_type": "code",
   "execution_count": 37,
   "metadata": {},
   "outputs": [
    {
     "data": {
      "text/plain": [
       "0.703338350752188"
      ]
     },
     "execution_count": 37,
     "metadata": {},
     "output_type": "execute_result"
    }
   ],
   "source": [
    "y_pred = lin_reg_pipeline.predict(X_test)\n",
    "mse = mean_squared_error(y_test, y_pred)\n",
    "np.sqrt(mse)"
   ]
  },
  {
   "cell_type": "code",
   "execution_count": 38,
   "metadata": {},
   "outputs": [
    {
     "data": {
      "text/plain": [
       "0.6605500501742702"
      ]
     },
     "execution_count": 38,
     "metadata": {},
     "output_type": "execute_result"
    }
   ],
   "source": [
    "explained_variance_score(y_test, y_pred)"
   ]
  },
  {
   "cell_type": "code",
   "execution_count": 39,
   "metadata": {},
   "outputs": [
    {
     "data": {
      "text/plain": [
       "7.260453292958401"
      ]
     },
     "execution_count": 39,
     "metadata": {},
     "output_type": "execute_result"
    }
   ],
   "source": [
    "max_error(y_test,y_pred)"
   ]
  },
  {
   "cell_type": "code",
   "execution_count": 40,
   "metadata": {},
   "outputs": [
    {
     "data": {
      "text/plain": [
       "0.5168526993787042"
      ]
     },
     "execution_count": 40,
     "metadata": {},
     "output_type": "execute_result"
    }
   ],
   "source": [
    "mean_absolute_error(y_test, y_pred)"
   ]
  },
  {
   "cell_type": "code",
   "execution_count": 41,
   "metadata": {},
   "outputs": [
    {
     "data": {
      "text/plain": [
       "0.4946848356388078"
      ]
     },
     "execution_count": 41,
     "metadata": {},
     "output_type": "execute_result"
    }
   ],
   "source": [
    "mean_squared_error(y_test, y_pred)"
   ]
  },
  {
   "cell_type": "markdown",
   "metadata": {},
   "source": [
    "### **BASELINE MODELS**\n",
    "\n",
    "Now, we will build a couple of baseline models using `DummyRegression` and `permutation_test_score`. \n",
    "\n",
    "We will compare performance of our linear regression model with these two baselines."
   ]
  },
  {
   "cell_type": "markdown",
   "metadata": {},
   "source": [
    "We will use `ShuffleSplit` as a cross validation strategy "
   ]
  },
  {
   "cell_type": "code",
   "execution_count": 42,
   "metadata": {},
   "outputs": [],
   "source": [
    "shuffle_split_cv = ShuffleSplit(n_splits=10, test_size=0.2, random_state=0)"
   ]
  },
  {
   "cell_type": "markdown",
   "metadata": {},
   "source": [
    "Let's load the data and split it into training and test."
   ]
  },
  {
   "cell_type": "code",
   "execution_count": 43,
   "metadata": {},
   "outputs": [],
   "source": [
    "features, labels = fetch_california_housing(as_frame=True, return_X_y=True)\n",
    "train_features, test_features, train_labels, test_labels = train_test_split(\n",
    "    features, labels,  random_state=42)"
   ]
  },
  {
   "cell_type": "markdown",
   "metadata": {},
   "source": [
    "#### 1. Linear Regression Classifier\n",
    "\n",
    "\n",
    "* Build linear regression model with feature scaling as part of a pipeline.\n",
    "\n",
    "* Train the model with 10-fold cross validation via ShuffleSplit.\n",
    "\n",
    "* Capture errors on different folds."
   ]
  },
  {
   "cell_type": "code",
   "execution_count": 44,
   "metadata": {},
   "outputs": [
    {
     "data": {
      "text/plain": [
       "dict_keys(['fit_time', 'score_time', 'test_score'])"
      ]
     },
     "execution_count": 44,
     "metadata": {},
     "output_type": "execute_result"
    }
   ],
   "source": [
    "lin_reg_pipeline = Pipeline([\n",
    "    ('feature scaling', StandardScaler()),\n",
    "    ('lin_reg', LinearRegression())\n",
    "])\n",
    "\n",
    "lin_reg_cv_results = cross_validate(lin_reg_pipeline, train_features,       train_labels, cv=shuffle_split_cv, scoring='neg_mean_absolute_error', n_jobs=-1)\n",
    "\n",
    "lin_reg_error = pd.Series(-lin_reg_cv_results['test_score'],\n",
    "                           name='Linear regressor error')\n",
    "\n",
    "lin_reg_cv_results.keys()"
   ]
  },
  {
   "cell_type": "markdown",
   "metadata": {},
   "source": [
    "#### 2. Dummy Regression Classifier"
   ]
  },
  {
   "cell_type": "code",
   "execution_count": 45,
   "metadata": {},
   "outputs": [],
   "source": [
    "def dummy_regressor_baseline(strategy, constant_val=None, quantile_val=None):\n",
    "    baseline_model_median = DummyRegressor(strategy=strategy,\n",
    "                                            constant=constant_val,\n",
    "                                            quantile=quantile_val)\n",
    "\n",
    "    baseline_median_cv_results = cross_validate(\n",
    "        baseline_model_median, train_features, train_labels, cv=shuffle_split_cv, n_jobs=-1,  scoring='neg_mean_absolute_error')\n",
    "\n",
    "    return pd.Series(-baseline_median_cv_results['test_score'], name=\"Dummy regressor error\")\n"
   ]
  },
  {
   "cell_type": "code",
   "execution_count": 46,
   "metadata": {},
   "outputs": [],
   "source": [
    "baseline_median_cv_results_errors = dummy_regressor_baseline(strategy='median')\n",
    "\n",
    "baseline_mean_cv_results_errors = dummy_regressor_baseline(strategy='mean')\n",
    "\n",
    "baseline_constant_cv_results_errors = dummy_regressor_baseline(\n",
    "    strategy='constant', constant_val=2)\n",
    "\n",
    "baseline_quantile_cv_results_errors = dummy_regressor_baseline(\n",
    "    strategy='quantile', quantile_val=0.55)"
   ]
  },
  {
   "cell_type": "markdown",
   "metadata": {},
   "source": [
    "Let's compare performance of these Dummy Regressors:"
   ]
  },
  {
   "cell_type": "code",
   "execution_count": 47,
   "metadata": {},
   "outputs": [
    {
     "data": {
      "text/html": [
       "<div>\n",
       "<style scoped>\n",
       "    .dataframe tbody tr th:only-of-type {\n",
       "        vertical-align: middle;\n",
       "    }\n",
       "\n",
       "    .dataframe tbody tr th {\n",
       "        vertical-align: top;\n",
       "    }\n",
       "\n",
       "    .dataframe thead th {\n",
       "        text-align: right;\n",
       "    }\n",
       "</style>\n",
       "<table border=\"1\" class=\"dataframe\">\n",
       "  <thead>\n",
       "    <tr style=\"text-align: right;\">\n",
       "      <th></th>\n",
       "      <th>Median CV</th>\n",
       "      <th>Mean CV</th>\n",
       "      <th>Constant CV</th>\n",
       "      <th>Quantile CV</th>\n",
       "    </tr>\n",
       "  </thead>\n",
       "  <tbody>\n",
       "    <tr>\n",
       "      <th>0</th>\n",
       "      <td>0.881187</td>\n",
       "      <td>0.918341</td>\n",
       "      <td>0.902993</td>\n",
       "      <td>0.891847</td>\n",
       "    </tr>\n",
       "    <tr>\n",
       "      <th>1</th>\n",
       "      <td>0.873773</td>\n",
       "      <td>0.898484</td>\n",
       "      <td>0.886983</td>\n",
       "      <td>0.877153</td>\n",
       "    </tr>\n",
       "    <tr>\n",
       "      <th>2</th>\n",
       "      <td>0.876366</td>\n",
       "      <td>0.894307</td>\n",
       "      <td>0.885488</td>\n",
       "      <td>0.877260</td>\n",
       "    </tr>\n",
       "    <tr>\n",
       "      <th>3</th>\n",
       "      <td>0.892083</td>\n",
       "      <td>0.915112</td>\n",
       "      <td>0.904889</td>\n",
       "      <td>0.895924</td>\n",
       "    </tr>\n",
       "    <tr>\n",
       "      <th>4</th>\n",
       "      <td>0.876835</td>\n",
       "      <td>0.909209</td>\n",
       "      <td>0.895593</td>\n",
       "      <td>0.884722</td>\n",
       "    </tr>\n",
       "    <tr>\n",
       "      <th>5</th>\n",
       "      <td>0.874685</td>\n",
       "      <td>0.903733</td>\n",
       "      <td>0.890999</td>\n",
       "      <td>0.880856</td>\n",
       "    </tr>\n",
       "    <tr>\n",
       "      <th>6</th>\n",
       "      <td>0.864097</td>\n",
       "      <td>0.902037</td>\n",
       "      <td>0.886215</td>\n",
       "      <td>0.874646</td>\n",
       "    </tr>\n",
       "    <tr>\n",
       "      <th>7</th>\n",
       "      <td>0.888523</td>\n",
       "      <td>0.917216</td>\n",
       "      <td>0.904945</td>\n",
       "      <td>0.894905</td>\n",
       "    </tr>\n",
       "    <tr>\n",
       "      <th>8</th>\n",
       "      <td>0.890963</td>\n",
       "      <td>0.921880</td>\n",
       "      <td>0.908874</td>\n",
       "      <td>0.898323</td>\n",
       "    </tr>\n",
       "    <tr>\n",
       "      <th>9</th>\n",
       "      <td>0.886765</td>\n",
       "      <td>0.919369</td>\n",
       "      <td>0.905994</td>\n",
       "      <td>0.895436</td>\n",
       "    </tr>\n",
       "  </tbody>\n",
       "</table>\n",
       "</div>"
      ],
      "text/plain": [
       "   Median CV   Mean CV  Constant CV  Quantile CV\n",
       "0   0.881187  0.918341     0.902993     0.891847\n",
       "1   0.873773  0.898484     0.886983     0.877153\n",
       "2   0.876366  0.894307     0.885488     0.877260\n",
       "3   0.892083  0.915112     0.904889     0.895924\n",
       "4   0.876835  0.909209     0.895593     0.884722\n",
       "5   0.874685  0.903733     0.890999     0.880856\n",
       "6   0.864097  0.902037     0.886215     0.874646\n",
       "7   0.888523  0.917216     0.904945     0.894905\n",
       "8   0.890963  0.921880     0.908874     0.898323\n",
       "9   0.886765  0.919369     0.905994     0.895436"
      ]
     },
     "execution_count": 47,
     "metadata": {},
     "output_type": "execute_result"
    }
   ],
   "source": [
    "dummy_error_df = pd.concat([baseline_median_cv_results_errors,\n",
    "                            baseline_mean_cv_results_errors,\n",
    "                            baseline_constant_cv_results_errors,\n",
    "                            baseline_quantile_cv_results_errors], axis=1)\n",
    "\n",
    "dummy_error_df.columns = ['Median CV', 'Mean CV', 'Constant CV', 'Quantile CV']\n",
    "dummy_error_df"
   ]
  },
  {
   "cell_type": "markdown",
   "metadata": {},
   "source": [
    "Plotting erros using `barplot`"
   ]
  },
  {
   "cell_type": "code",
   "execution_count": 48,
   "metadata": {},
   "outputs": [
    {
     "data": {
      "image/png": "[encoded data removed]",
      "text/plain": [
       "<Figure size 576x396 with 1 Axes>"
      ]
     },
     "metadata": {},
     "output_type": "display_data"
    }
   ],
   "source": [
    "dummy_error_df.plot.hist(bins=50, density=True, edgecolor='black')\n",
    "\n",
    "plt.legend(bbox_to_anchor=(1.05,0.8), loc='upper left')\n",
    "plt.xlabel('Mean absolute error(k$)', size=12)\n",
    "plt.ylabel('Frequency', size=12)\n",
    "plt.title('Distribution of the testing errors' ,size=16)\n",
    "plt.show()"
   ]
  },
  {
   "cell_type": "markdown",
   "metadata": {},
   "source": [
    "#### Permutation_test_score \n",
    "\n",
    "It permutes the target to generate randomized data and computes the empirical p-value against the null hypothesis, that features and targets are independent.\n",
    "\n",
    "Here we are interested in `permutation_score` returned by this API, which indicates score of the model on different permutations."
   ]
  },
  {
   "cell_type": "code",
   "execution_count": 49,
   "metadata": {},
   "outputs": [],
   "source": [
    "score, permutation_score, pvalue = permutation_test_score(\n",
    "    lin_reg_pipeline, train_features, train_labels, cv=shuffle_split_cv, scoring='neg_mean_absolute_error', n_jobs=-1, n_permutations=30)\n",
    "\n",
    "permutation_errors = pd.Series(-permutation_score, name='Permuted error')"
   ]
  },
  {
   "cell_type": "code",
   "execution_count": 50,
   "metadata": {},
   "outputs": [
    {
     "name": "stdout",
     "output_type": "stream",
     "text": [
      "Permutation test score :\n",
      " [-0.91446539 -0.91608713 -0.91501122 -0.91112203 -0.91326112 -0.91428719\n",
      " -0.91694297 -0.90660687 -0.90873595 -0.91546138 -0.9084695  -0.91174023\n",
      " -0.91857102 -0.91467076 -0.90396709 -0.91239289 -0.91095499 -0.91729623\n",
      " -0.90529415 -0.91436609 -0.91993036 -0.91661883 -0.91104746 -0.91563156\n",
      " -0.91014294 -0.91526135 -0.90680247 -0.90796435 -0.91032999 -0.91545574]\n"
     ]
    }
   ],
   "source": [
    "print('Permutation test score :\\n', permutation_score)"
   ]
  },
  {
   "cell_type": "markdown",
   "metadata": {},
   "source": [
    "#### Model Comparision "
   ]
  },
  {
   "cell_type": "code",
   "execution_count": 51,
   "metadata": {},
   "outputs": [
    {
     "data": {
      "image/png": "[encoded data removed]",
      "text/plain": [
       "<Figure size 576x396 with 1 Axes>"
      ]
     },
     "metadata": {},
     "output_type": "display_data"
    }
   ],
   "source": [
    "dummy_error_df.plot.hist(bins=50, density=True, edgecolor='black')\n",
    "\n",
    "plt.legend(bbox_to_anchor=(1.05,0.8), loc='upper left')\n",
    "plt.xlabel('Mean absolute error(k$)', size=12) \n",
    "plt.ylabel('Frequency', size=12)\n",
    "plt.title('Distribution of the testing errors' ,size=16)\n",
    "plt.show()"
   ]
  },
  {
   "cell_type": "code",
   "execution_count": 52,
   "metadata": {},
   "outputs": [],
   "source": [
    "errors_df = pd.concat([lin_reg_error, baseline_median_cv_results_errors,permutation_errors], axis=1)"
   ]
  },
  {
   "cell_type": "code",
   "execution_count": 53,
   "metadata": {},
   "outputs": [
    {
     "data": {
      "image/png": "[encoded data removed]",
      "text/plain": [
       "<Figure size 576x396 with 1 Axes>"
      ]
     },
     "metadata": {},
     "output_type": "display_data"
    }
   ],
   "source": [
    "errors_df.plot.hist(bins=50, density=True, edgecolor='black')\n",
    "\n",
    "plt.legend(bbox_to_anchor=(1.05, 0.8), loc='upper left')\n",
    "plt.xlabel('Mean absolute error(k$)', size=12)\n",
    "plt.ylabel('Frequency', size=12)\n",
    "plt.title('Distribution of the testing errors', size=16)\n",
    "plt.show()\n"
   ]
  }
 ],
 "metadata": {
  "kernelspec": {
   "display_name": "Python 3.9.7 ('tensorflow')",
   "language": "python",
   "name": "python3"
  },
  "language_info": {
   "codemirror_mode": {
    "name": "ipython",
    "version": 3
   },
   "file_extension": ".py",
   "mimetype": "text/x-python",
   "name": "python",
   "nbconvert_exporter": "python",
   "pygments_lexer": "ipython3",
   "version": "3.9.7"
  },
  "orig_nbformat": 4,
  "vscode": {
   "interpreter": {
    "hash": "32f02dc107888b055323539767db1f9cf579f03b0ed3a3ace7986ed2d38433ec"
   }
  }
 },
 "nbformat": 4,
 "nbformat_minor": 2
}
