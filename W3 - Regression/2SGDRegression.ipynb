{
 "cells": [
  {
   "cell_type": "markdown",
   "metadata": {},
   "source": [
    "### **Linear regression with iterative optimization: SGDRegressor** \n",
    "\n",
    "In this notebook, we will build linear regression model, with `SGDRegressor`. \n",
    "\n",
    "SGD offers a lot of control over optimization procedure through a number of hyperparameters. However, we need to set them to right values in order to make it work for training the model."
   ]
  },
  {
   "cell_type": "markdown",
   "metadata": {},
   "source": [
    "### Importing the libraries"
   ]
  },
  {
   "cell_type": "code",
   "execution_count": 1,
   "metadata": {},
   "outputs": [],
   "source": [
    "import numpy as np\n",
    "import pandas as pd\n",
    "import matplotlib.pyplot as plt\n",
    "import seaborn as sns\n",
    "\n",
    "from sklearn.datasets import fetch_california_housing\n",
    "from sklearn.linear_model import LinearRegression\n",
    "from sklearn.linear_model import SGDRegressor\n",
    "\n",
    "from sklearn.model_selection import train_test_split\n",
    "from sklearn.model_selection import cross_validate\n",
    "from sklearn.model_selection import cross_val_score\n",
    "from sklearn.model_selection import learning_curve\n",
    "from sklearn.model_selection import validation_curve\n",
    "from sklearn.model_selection import ShuffleSplit\n",
    "from sklearn.model_selection import permutation_test_score\n",
    "\n",
    "from sklearn.metrics import mean_squared_error\n",
    "from sklearn.metrics import mean_absolute_error\n",
    "from sklearn.metrics import mean_squared_error\n",
    "from sklearn.metrics import mean_absolute_percentage_error\n",
    "from sklearn.metrics import explained_variance_score\n",
    "from sklearn.metrics import max_error\n",
    "\n",
    "from sklearn.pipeline import Pipeline\n",
    "from sklearn.preprocessing import StandardScaler\n",
    "\n",
    "from sklearn.dummy import DummyRegressor"
   ]
  },
  {
   "cell_type": "code",
   "execution_count": 2,
   "metadata": {},
   "outputs": [],
   "source": [
    "np.random.seed(306)\n",
    "plt.style.use('seaborn')"
   ]
  },
  {
   "cell_type": "markdown",
   "metadata": {},
   "source": [
    "We will use `ShuffleSplit` as a cross validation strategy."
   ]
  },
  {
   "cell_type": "code",
   "execution_count": 3,
   "metadata": {},
   "outputs": [],
   "source": [
    "shuffle_split_cv = ShuffleSplit(n_splits=10, test_size=0.2, random_state=0)"
   ]
  },
  {
   "cell_type": "markdown",
   "metadata": {},
   "source": [
    "### STEP 1:  **Load the dataset**"
   ]
  },
  {
   "cell_type": "code",
   "execution_count": 4,
   "metadata": {},
   "outputs": [],
   "source": [
    "features ,labels = fetch_california_housing(as_frame=True, return_X_y=True)"
   ]
  },
  {
   "cell_type": "markdown",
   "metadata": {},
   "source": [
    "### STEP 2 :  **Preprocessing**"
   ]
  },
  {
   "cell_type": "markdown",
   "metadata": {},
   "source": [
    "Split data into training and test sets."
   ]
  },
  {
   "cell_type": "code",
   "execution_count": 5,
   "metadata": {},
   "outputs": [],
   "source": [
    "com_train_features, test_features, com_train_labels, test_labels = train_test_split(features, labels, random_state=42)"
   ]
  },
  {
   "cell_type": "markdown",
   "metadata": {},
   "source": [
    "Divide the training data into train and dev sets."
   ]
  },
  {
   "cell_type": "code",
   "execution_count": 6,
   "metadata": {},
   "outputs": [],
   "source": [
    "train_features ,dev_features, train_labels, dev_labels = train_test_split(\n",
    "    com_train_features, com_train_labels, random_state=42)"
   ]
  },
  {
   "cell_type": "markdown",
   "metadata": {},
   "source": [
    "### STEP 3 :  **Model Building**"
   ]
  },
  {
   "cell_type": "markdown",
   "metadata": {},
   "source": [
    "#### **Baseline SGDRegressor**\n",
    "\n",
    "* Step 1 : To begin with, we instantiate a baseline `SGDRegressor` model with default parameters.\n",
    "\n",
    "* Step 2 : Train the model with training feature matrix and labels.\n",
    "\n",
    "* Step 3 : Obtain the score on the training and dev data."
   ]
  },
  {
   "cell_type": "code",
   "execution_count": 7,
   "metadata": {},
   "outputs": [
    {
     "name": "stdout",
     "output_type": "stream",
     "text": [
      "Train MAE:  309190327803747.2\n",
      "Dev MAE:  311959782899622.1\n"
     ]
    }
   ],
   "source": [
    "sgd = SGDRegressor(random_state=42)\n",
    "sgd.fit(train_features, train_labels) \n",
    "\n",
    "train_mae = mean_absolute_error(train_labels, sgd.predict(train_features)) \n",
    "dev_mae = mean_absolute_error(dev_labels, sgd.predict(dev_features)) \n",
    "\n",
    "print('Train MAE: ', train_mae)\n",
    "print('Dev MAE: ', dev_mae)"
   ]
  },
  {
   "cell_type": "markdown",
   "metadata": {},
   "source": [
    "We can observe that the mean absolute error is too high. The baseline model doesn't train well. This may happen due to large learning rate.\n",
    "\n",
    "Let's investigate this issue by training the model step by step and recording training loss in each step."
   ]
  },
  {
   "cell_type": "markdown",
   "metadata": {},
   "source": [
    "#### **Adding a feature scaling step** \n",
    "\n",
    "We know that, SGD is sensitive to feature scaling. Let's add a feature scaling step and check if we get better MAE."
   ]
  },
  {
   "cell_type": "code",
   "execution_count": 8,
   "metadata": {},
   "outputs": [
    {
     "name": "stdout",
     "output_type": "stream",
     "text": [
      "Train MAE:  309190327803747.2\n",
      "Dev MAE:  311959782899622.1\n"
     ]
    }
   ],
   "source": [
    "sgd_pipeline = Pipeline([\n",
    "    ('scaler' , StandardScaler()),\n",
    "    ('sgd' , SGDRegressor())\n",
    "])\n",
    "\n",
    "sgd_pipeline.fit(train_features, train_labels) \n",
    "\n",
    "train_mae = mean_absolute_error(train_labels, sgd.predict(train_features))\n",
    "dev_mae = mean_absolute_error(dev_labels, sgd.predict(dev_features))\n",
    "\n",
    "print('Train MAE: ', train_mae)\n",
    "print('Dev MAE: ', dev_mae)"
   ]
  },
  {
   "cell_type": "markdown",
   "metadata": {},
   "source": [
    "The error is still high. \n",
    "\n",
    "**Let's run `SGDRegressor` step by step and investigate issues with training :** \n",
    "\n",
    "* Step 1 : Instantiate `SGDRegressor`  with `warm_start = True` and `tol=-np.infty`.\n",
    "\n",
    "* Step 2 : Train SGD step by step and record regression loss in each step.\n",
    "\n",
    "* Step 3 : Plot learning curves and see if there are any issues in training."
   ]
  },
  {
   "cell_type": "code",
   "execution_count": 9,
   "metadata": {},
   "outputs": [
    {
     "data": {
      "image/png": "[encoded data removed]",
      "text/plain": [
       "<Figure size 576x396 with 1 Axes>"
      ]
     },
     "metadata": {},
     "output_type": "display_data"
    }
   ],
   "source": [
    "eta0 = 1e-2 \n",
    "sgd_pipeline = Pipeline([\n",
    "                        ('scaler', StandardScaler()),\n",
    "                        ('sgd',SGDRegressor(max_iter=1, tol = -np.infty, warm_start=True, random_state=42))\n",
    "])\n",
    "\n",
    "loss = [] \n",
    "\n",
    "for epoch in range(100):\n",
    "    sgd_pipeline.fit(train_features, train_labels) #continues where it left off \n",
    "    loss.append(mean_squared_error(train_labels, sgd_pipeline.predict(train_features))) \n",
    "\n",
    "plt.plot(np.arange(len(loss)), loss, 'g-')\n",
    "\n",
    "plt.xlabel('Number of iterations ')\n",
    "plt.ylabel('MSE')\n",
    "plt.title(f'Learning curve: eta0={eta0:.3f}')\n",
    "plt.show()"
   ]
  },
  {
   "cell_type": "code",
   "execution_count": 10,
   "metadata": {},
   "outputs": [
    {
     "data": {
      "image/png": "[encoded data removed]",
      "text/plain": [
       "<Figure size 576x396 with 1 Axes>"
      ]
     },
     "metadata": {},
     "output_type": "display_data"
    }
   ],
   "source": [
    "eta0 = 1e-3\n",
    "sgd_pipeline = Pipeline([\n",
    "                        ('feature_scaling', StandardScaler()),\n",
    "                        ('sgd',SGDRegressor(max_iter=1, tol = -np.infty, warm_start=True, eta0=eta0,random_state=42))\n",
    "])\n",
    "\n",
    "loss = [] \n",
    "\n",
    "for epoch in range(100):\n",
    "    sgd_pipeline.fit(train_features, train_labels) \n",
    "    loss.append(mean_squared_error(train_labels, sgd_pipeline.predict(train_features))) \n",
    "\n",
    "plt.plot(np.arange(len(loss)), loss, 'g-')\n",
    "\n",
    "plt.xlabel('Number of iterations ')\n",
    "plt.ylabel('MSE')\n",
    "plt.title(f'Learning curve: eta0={eta0:.3f}')\n",
    "plt.show()"
   ]
  },
  {
   "cell_type": "markdown",
   "metadata": {},
   "source": [
    "The is an ideal learning curve where the train loss reduces monotonically as the training progresses."
   ]
  },
  {
   "cell_type": "code",
   "execution_count": 11,
   "metadata": {},
   "outputs": [
    {
     "name": "stdout",
     "output_type": "stream",
     "text": [
      "Number of iteration before reaching convergence criteria : 1\n",
      "Number of weight updates :  11611.0\n"
     ]
    }
   ],
   "source": [
    "print(\"Number of iteration before reaching convergence criteria :\",sgd_pipeline[-1].n_iter_)\n",
    "\n",
    "print(\"Number of weight updates : \", sgd_pipeline[-1].t_)"
   ]
  },
  {
   "cell_type": "markdown",
   "metadata": {},
   "source": [
    "**Checking train and dev mean absolute error.**"
   ]
  },
  {
   "cell_type": "code",
   "execution_count": 12,
   "metadata": {},
   "outputs": [
    {
     "name": "stdout",
     "output_type": "stream",
     "text": [
      "Train MAE:  0.5333732983042573\n",
      "Dev MAE:  0.5190150280908042\n"
     ]
    }
   ],
   "source": [
    "train_mae = mean_absolute_error(train_labels, sgd_pipeline.predict(train_features))\n",
    "dev_mae = mean_absolute_error(dev_labels, sgd_pipeline.predict(dev_features))\n",
    "\n",
    "print('Train MAE: ', train_mae)\n",
    "print('Dev MAE: ', dev_mae)"
   ]
  },
  {
   "cell_type": "markdown",
   "metadata": {},
   "source": [
    "#### **Fixing learning rate through validation curves**\n",
    "\n",
    "\n",
    "* Step 1 : Provide the list of values to be tried for a hyperparameter.\n",
    "\n",
    "* Step 2 : Instantiate an object of `validation_curve` with estimator, training features and label. Set `scoring` parameter to relevant score.\n",
    "\n",
    "* Step 3 : Convert scores to error. \n",
    "\n",
    "* Step 4 : Plot validation curve with the value of hyper-parameter on x-axis and error on the y-axis\n",
    "\n",
    "* Step 5 : Fix the hyper-parameter value where the test error is the least."
   ]
  },
  {
   "cell_type": "code",
   "execution_count": 13,
   "metadata": {},
   "outputs": [
    {
     "name": "stdout",
     "output_type": "stream",
     "text": [
      "Wall time: 1.86 s\n"
     ]
    }
   ],
   "source": [
    "%%time\n",
    "eta0 = [1e-5, 1e-4, 1e-3, 1e-2]\n",
    "\n",
    "train_scores, test_scores = validation_curve(\n",
    "    sgd_pipeline, com_train_features, com_train_labels, param_name=\"sgd__eta0\", param_range=eta0, cv=shuffle_split_cv, scoring='neg_mean_squared_error', n_jobs=2\n",
    ")"
   ]
  },
  {
   "cell_type": "code",
   "execution_count": 14,
   "metadata": {},
   "outputs": [
    {
     "data": {
      "image/png": "[encoded data removed]",
      "text/plain": [
       "<Figure size 576x396 with 1 Axes>"
      ]
     },
     "metadata": {},
     "output_type": "display_data"
    }
   ],
   "source": [
    "train_errors, test_errors = -train_scores, -test_scores\n",
    "\n",
    "plt.plot(eta0, train_errors.mean(axis=1),'g-x',label='Training error')\n",
    "plt.plot(eta0, test_errors.mean(axis=1),'r--x', label='Test error')\n",
    "\n",
    "plt.legend() \n",
    "plt.xlabel('eta0')\n",
    "plt.ylabel('Mean absolute error')\n",
    "plt.title('Validation curve for SGD')\n",
    "plt.show()"
   ]
  },
  {
   "cell_type": "markdown",
   "metadata": {},
   "source": [
    "For `eta0=1e-3`, the test error is the least and hence we select that value as the value for `eta0`. \n",
    "\n",
    "Next we also plot standard deviation in errors."
   ]
  },
  {
   "cell_type": "code",
   "execution_count": 15,
   "metadata": {},
   "outputs": [
    {
     "data": {
      "image/png": "[encoded data removed]",
      "text/plain": [
       "<Figure size 576x396 with 1 Axes>"
      ]
     },
     "metadata": {},
     "output_type": "display_data"
    }
   ],
   "source": [
    "plt.errorbar(eta0, train_errors.mean(axis=1), yerr=train_errors.std(axis=1), label='Training error')\n",
    "\n",
    "plt.errorbar(eta0, test_errors.mean(axis=1),yerr=test_errors.std(axis=1), label='Testing error')\n",
    "\n",
    "plt.legend(loc='best') \n",
    "plt.xlabel('eta0')\n",
    "plt.ylabel('Mean absolute error')\n",
    "plt.title('Validation curve for SGD')\n",
    "plt.show()"
   ]
  },
  {
   "cell_type": "markdown",
   "metadata": {},
   "source": [
    "#### **Experimenting with learning rate parameter**"
   ]
  },
  {
   "cell_type": "markdown",
   "metadata": {},
   "source": [
    "##### 1. No learning rate parameter"
   ]
  },
  {
   "cell_type": "code",
   "execution_count": 16,
   "metadata": {},
   "outputs": [
    {
     "name": "stdout",
     "output_type": "stream",
     "text": [
      "Train MAE:  0.5433287489797834\n",
      "Dev MAE:  0.5345612073911922\n",
      "\n",
      "Number of SGD iterations : 35\n",
      "Number of weight updates :  406351.0\n"
     ]
    }
   ],
   "source": [
    "sgd_pipeline = Pipeline([\n",
    "    (\"scaler\", StandardScaler()),\n",
    "    (\"sgd\", SGDRegressor(max_iter=500,\n",
    "                        early_stopping=True,\n",
    "                        eta0=1e-3,\n",
    "                        tol=1e-3,\n",
    "                        validation_fraction=0.2,\n",
    "                        n_iter_no_change=5,\n",
    "                        average=10,\n",
    "                        random_state=42))\n",
    "])\n",
    "\n",
    "sgd_pipeline.fit(train_features, train_labels)\n",
    "\n",
    "train_mae = mean_absolute_error(train_labels, sgd_pipeline.predict(train_features))\n",
    "\n",
    "dev_mae = mean_absolute_error(dev_labels, sgd_pipeline.predict(dev_features))\n",
    "\n",
    "print('Train MAE: ', train_mae)\n",
    "print('Dev MAE: ', dev_mae)\n",
    "print()\n",
    "\n",
    "# development set dev set\n",
    "print('Number of SGD iterations :', sgd_pipeline[-1].n_iter_)\n",
    "print('Number of weight updates : ', sgd_pipeline[-1].t_)"
   ]
  },
  {
   "cell_type": "markdown",
   "metadata": {},
   "source": [
    "##### 2. learning rate = 'constant'"
   ]
  },
  {
   "cell_type": "code",
   "execution_count": 17,
   "metadata": {},
   "outputs": [
    {
     "name": "stdout",
     "output_type": "stream",
     "text": [
      "Train MAE:  0.5528203432984674\n",
      "Dev MAE:  0.5689568216133667\n",
      "\n",
      "Number of SGD iterations : 11\n",
      "Number of weight updates :  127711.0\n"
     ]
    }
   ],
   "source": [
    "sgd_pipeline = Pipeline([\n",
    "    (\"scaler\", StandardScaler()),\n",
    "    (\"sgd\", SGDRegressor(max_iter=500,\n",
    "                         early_stopping=True,\n",
    "                         eta0=1e-3,\n",
    "                         tol=1e-3,\n",
    "                         learning_rate= 'constant',\n",
    "                         validation_fraction=0.2,\n",
    "                         n_iter_no_change=5,\n",
    "                         average=10,\n",
    "                         random_state=42))\n",
    "])\n",
    "\n",
    "sgd_pipeline.fit(train_features, train_labels)\n",
    "\n",
    "train_mae = mean_absolute_error(\n",
    "    train_labels, sgd_pipeline.predict(train_features))\n",
    "\n",
    "dev_mae = mean_absolute_error(dev_labels, sgd_pipeline.predict(dev_features))\n",
    "\n",
    "print('Train MAE: ', train_mae)\n",
    "print('Dev MAE: ', dev_mae)\n",
    "print()\n",
    "\n",
    "# development set dev set\n",
    "print('Number of SGD iterations :', sgd_pipeline[-1].n_iter_)\n",
    "print('Number of weight updates : ', sgd_pipeline[-1].t_)\n"
   ]
  },
  {
   "cell_type": "markdown",
   "metadata": {},
   "source": [
    "##### 3. learning rate = 'adaptive'"
   ]
  },
  {
   "cell_type": "code",
   "execution_count": 18,
   "metadata": {},
   "outputs": [
    {
     "name": "stdout",
     "output_type": "stream",
     "text": [
      "Train MAE:  0.5375525445454805\n",
      "Dev MAE:  0.5200254740759911\n",
      "\n",
      "Number of SGD iterations : 40\n",
      "Number of weight updates :  464401.0\n"
     ]
    }
   ],
   "source": [
    "sgd_pipeline = Pipeline([\n",
    "    (\"scaler\", StandardScaler()),\n",
    "    (\"sgd\", SGDRegressor(max_iter=500,\n",
    "                         early_stopping=True,\n",
    "                         eta0=1e-3,\n",
    "                         tol=1e-3,\n",
    "                         learning_rate='adaptive',\n",
    "                         validation_fraction=0.2,\n",
    "                         n_iter_no_change=5,\n",
    "                         average=10,\n",
    "                         random_state=42))\n",
    "])\n",
    "\n",
    "sgd_pipeline.fit(train_features, train_labels)\n",
    "\n",
    "train_mae = mean_absolute_error(\n",
    "    train_labels, sgd_pipeline.predict(train_features))\n",
    "\n",
    "dev_mae = mean_absolute_error(dev_labels, sgd_pipeline.predict(dev_features))\n",
    "\n",
    "print('Train MAE: ', train_mae)\n",
    "print('Dev MAE: ', dev_mae)\n",
    "print()\n",
    "\n",
    "# development set dev set\n",
    "print('Number of SGD iterations :', sgd_pipeline[-1].n_iter_)\n",
    "print('Number of weight updates : ', sgd_pipeline[-1].t_)\n"
   ]
  },
  {
   "cell_type": "markdown",
   "metadata": {},
   "source": [
    "#### **Setting `max_iters` parameter**"
   ]
  },
  {
   "cell_type": "code",
   "execution_count": 19,
   "metadata": {},
   "outputs": [
    {
     "data": {
      "text/plain": [
       "65.0"
      ]
     },
     "execution_count": 19,
     "metadata": {},
     "output_type": "execute_result"
    }
   ],
   "source": [
    "max_iter = np.ceil(1e6/com_train_features.shape[0])\n",
    "max_iter"
   ]
  },
  {
   "cell_type": "code",
   "execution_count": 20,
   "metadata": {},
   "outputs": [
    {
     "name": "stdout",
     "output_type": "stream",
     "text": [
      "Train MAE:  0.5375525445454805\n",
      "Dev MAE:  0.5200254740759911\n",
      "\n",
      "Number of SGD iterations : 40\n",
      "Number of weight updates :  464401.0\n"
     ]
    }
   ],
   "source": [
    "sgd_pipeline = Pipeline([\n",
    "    (\"scaler\", StandardScaler()),\n",
    "    (\"sgd\", SGDRegressor(max_iter=max_iter,\n",
    "                         early_stopping=True,\n",
    "                         eta0=1e-3,\n",
    "                         tol=1e-3,\n",
    "                         learning_rate='adaptive',\n",
    "                         validation_fraction=0.2,\n",
    "                         n_iter_no_change=5,\n",
    "                         average=10,\n",
    "                         random_state=42))\n",
    "])\n",
    "\n",
    "sgd_pipeline.fit(train_features, train_labels)\n",
    "\n",
    "train_mae = mean_absolute_error(\n",
    "    train_labels, sgd_pipeline.predict(train_features))\n",
    "\n",
    "dev_mae = mean_absolute_error(dev_labels, sgd_pipeline.predict(dev_features))\n",
    "\n",
    "print('Train MAE: ', train_mae)\n",
    "print('Dev MAE: ', dev_mae)\n",
    "print()\n",
    "\n",
    "# development set dev set\n",
    "print('Number of SGD iterations :', sgd_pipeline[-1].n_iter_)\n",
    "print('Number of weight updates : ', sgd_pipeline[-1].t_)"
   ]
  },
  {
   "cell_type": "markdown",
   "metadata": {},
   "source": [
    "### SUMMARY : \n",
    "\n",
    "In this notebook, we saw:\n",
    "\n",
    "* how to build `SGDRegressor` model.\n",
    "\n",
    "* how to tune the learning rate.\n",
    "\n",
    "* how to use different `learning_rates` and their impact on convergence.\n",
    "\n",
    "* how to use early stopping and averaged SGD\n",
    "\n",
    "* how to tune hyper-parameters using `validation_curves`."
   ]
  }
 ],
 "metadata": {
  "kernelspec": {
   "display_name": "Python 3.9.7 ('tensorflow')",
   "language": "python",
   "name": "python3"
  },
  "language_info": {
   "codemirror_mode": {
    "name": "ipython",
    "version": 3
   },
   "file_extension": ".py",
   "mimetype": "text/x-python",
   "name": "python",
   "nbconvert_exporter": "python",
   "pygments_lexer": "ipython3",
   "version": "3.9.7"
  },
  "orig_nbformat": 4,
  "vscode": {
   "interpreter": {
    "hash": "32f02dc107888b055323539767db1f9cf579f03b0ed3a3ace7986ed2d38433ec"
   }
  }
 },
 "nbformat": 4,
 "nbformat_minor": 2
}
