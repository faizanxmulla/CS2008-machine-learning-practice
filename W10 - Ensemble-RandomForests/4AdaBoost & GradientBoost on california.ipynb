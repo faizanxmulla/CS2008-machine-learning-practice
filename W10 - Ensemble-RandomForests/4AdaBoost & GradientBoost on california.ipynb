{
 "cells": [
  {
   "cell_type": "markdown",
   "metadata": {},
   "source": [
    "### **Objective**\n",
    "\n",
    "In this notebook, we will apply ensemble techniques regression problem in california housing dataset.\n"
   ]
  },
  {
   "cell_type": "markdown",
   "metadata": {},
   "source": [
    "We have already applied different regressors on california housing dataset. In this notebook, we will make use of : \n",
    "\n",
    "  * AdaBoost regressor \n",
    "\n",
    "  * Gradient Boosting regressor \n",
    "\n",
    "  * XGBoost regressor "
   ]
  },
  {
   "cell_type": "markdown",
   "metadata": {},
   "source": [
    "### **Importing basic libraries**"
   ]
  },
  {
   "cell_type": "code",
   "execution_count": 1,
   "metadata": {},
   "outputs": [
    {
     "name": "stderr",
     "output_type": "stream",
     "text": [
      "c:\\Users\\faizan\\anaconda3\\envs\\tensorflow\\lib\\site-packages\\xgboost\\compat.py:36: FutureWarning: pandas.Int64Index is deprecated and will be removed from pandas in a future version. Use pandas.Index with the appropriate dtype instead.\n",
      "  from pandas import MultiIndex, Int64Index\n"
     ]
    }
   ],
   "source": [
    "import numpy as np\n",
    "import pandas as pd\n",
    "\n",
    "from sklearn.datasets import fetch_california_housing\n",
    "from sklearn.ensemble import AdaBoostRegressor, GradientBoostingRegressor\n",
    "from xgboost import XGBRegressor\n",
    "\n",
    "from sklearn.metrics import mean_absolute_error\n",
    "from sklearn.model_selection import cross_validate\n",
    "from sklearn.model_selection import train_test_split\n",
    "from sklearn.model_selection import RandomizedSearchCV\n",
    "from sklearn.model_selection import ShuffleSplit\n",
    "\n",
    "import warnings \n",
    "warnings.filterwarnings('ignore')"
   ]
  },
  {
   "cell_type": "code",
   "execution_count": 2,
   "metadata": {},
   "outputs": [],
   "source": [
    "np.random.seed(306)"
   ]
  },
  {
   "cell_type": "markdown",
   "metadata": {},
   "source": [
    "Let's use `ShuffleSplit` as cv with 10 splits and 20% examples set aside as text examples."
   ]
  },
  {
   "cell_type": "code",
   "execution_count": 3,
   "metadata": {},
   "outputs": [],
   "source": [
    "cv = ShuffleSplit(n_splits=10, test_size=0.2, random_state=42)"
   ]
  },
  {
   "cell_type": "markdown",
   "metadata": {},
   "source": [
    "Let's download the data and split it into training and test sets."
   ]
  },
  {
   "cell_type": "code",
   "execution_count": 4,
   "metadata": {},
   "outputs": [],
   "source": [
    "features, labels = fetch_california_housing(as_frame=True, return_X_y=True)\n",
    "labels *= 100\n"
   ]
  },
  {
   "cell_type": "code",
   "execution_count": 5,
   "metadata": {},
   "outputs": [],
   "source": [
    "com_train_features, test_features, com_train_labels, test_labels = train_test_split(\n",
    "    features, labels, random_state=42)\n",
    "\n",
    "train_features, dev_features, train_labels, dev_labels = train_test_split(\n",
    "    com_train_features, com_train_labels, random_state=42)\n"
   ]
  },
  {
   "cell_type": "markdown",
   "metadata": {},
   "source": [
    "### **Training different Regressors**\n",
    "\n",
    "Let's train different regressors :"
   ]
  },
  {
   "cell_type": "code",
   "execution_count": 6,
   "metadata": {},
   "outputs": [],
   "source": [
    "def train_regressor(estimator, X_train, y_train, cv, name):\n",
    "    cv_results = cross_validate(estimator,\n",
    "                                X_train,\n",
    "                                y_train,\n",
    "                                cv=cv,\n",
    "                                scoring='neg_mean_absolute_error',\n",
    "                                return_train_score=True,\n",
    "                                return_estimator=True)\n",
    "\n",
    "    cv_train_error = -1 * cv_results['train_score']\n",
    "    cv_test_error = -1 * cv_results['test_score']\n",
    "\n",
    "    print(f'On an average, {name} makes an error of ',\n",
    "          f'{cv_train_error.mean():.3f} (+/-) {cv_train_error.std():.3f} on the training set.')\n",
    "\n",
    "    print(f'On an average, {name} makes an error of ',\n",
    "          f'{cv_test_error.mean():.3f} (+/-) {cv_test_error.std():.3f} on the testing set.')\n"
   ]
  },
  {
   "cell_type": "markdown",
   "metadata": {},
   "source": [
    "#### **AdaBoost Regressor**"
   ]
  },
  {
   "cell_type": "code",
   "execution_count": 7,
   "metadata": {},
   "outputs": [
    {
     "name": "stdout",
     "output_type": "stream",
     "text": [
      "On an average, AdaBoostRegressor makes an error of  73.263 (+/-) 6.031 on the training set.\n",
      "On an average, AdaBoostRegressor makes an error of  73.623 (+/-) 6.057 on the testing set.\n"
     ]
    }
   ],
   "source": [
    "train_regressor(AdaBoostRegressor(), com_train_features,com_train_labels, cv, 'AdaBoostRegressor')"
   ]
  },
  {
   "cell_type": "markdown",
   "metadata": {},
   "source": [
    "#### **Gradient Boosting Regressor**"
   ]
  },
  {
   "cell_type": "code",
   "execution_count": 8,
   "metadata": {},
   "outputs": [
    {
     "name": "stdout",
     "output_type": "stream",
     "text": [
      "On an average, GradientBoostingRegressor makes an error of  35.394 (+/-) 0.273 on the training set.\n",
      "On an average, GradientBoostingRegressor makes an error of  36.773 (+/-) 0.723 on the testing set.\n"
     ]
    }
   ],
   "source": [
    "train_regressor(GradientBoostingRegressor(), com_train_features,\n",
    "com_train_labels, cv, 'GradientBoostingRegressor')"
   ]
  },
  {
   "cell_type": "markdown",
   "metadata": {},
   "source": [
    "#### **XGBoost Regressor**"
   ]
  },
  {
   "cell_type": "code",
   "execution_count": 9,
   "metadata": {},
   "outputs": [
    {
     "name": "stdout",
     "output_type": "stream",
     "text": [
      "On an average, XGBoostRegressor makes an error of  18.308 (+/-) 0.182 on the training set.\n",
      "On an average, XGBoostRegressor makes an error of  31.845 (+/-) 0.753 on the testing set.\n"
     ]
    }
   ],
   "source": [
    "train_regressor(XGBRegressor(), com_train_features,\n",
    "                com_train_labels, cv, 'XGBoostRegressor')\n"
   ]
  }
 ],
 "metadata": {
  "kernelspec": {
   "display_name": "Python 3.9.7 ('tensorflow')",
   "language": "python",
   "name": "python3"
  },
  "language_info": {
   "codemirror_mode": {
    "name": "ipython",
    "version": 3
   },
   "file_extension": ".py",
   "mimetype": "text/x-python",
   "name": "python",
   "nbconvert_exporter": "python",
   "pygments_lexer": "ipython3",
   "version": "3.9.7"
  },
  "orig_nbformat": 4,
  "vscode": {
   "interpreter": {
    "hash": "32f02dc107888b055323539767db1f9cf579f03b0ed3a3ace7986ed2d38433ec"
   }
  }
 },
 "nbformat": 4,
 "nbformat_minor": 2
}
