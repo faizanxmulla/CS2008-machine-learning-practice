{
 "cells": [
  {
   "cell_type": "markdown",
   "metadata": {},
   "source": [
    "### **Objective**\n",
    "\n",
    "In this notebook, we will implement **multiclass MNIST digit recognition classifier** with **decision trees** and **ensemble techniques**.\n"
   ]
  },
  {
   "cell_type": "markdown",
   "metadata": {},
   "source": [
    "### **Importing basic libraries**"
   ]
  },
  {
   "cell_type": "code",
   "execution_count": 1,
   "metadata": {},
   "outputs": [],
   "source": [
    "import numpy as np \n",
    "import pandas as pd \n",
    "import matplotlib.pyplot as plt\n",
    "import seaborn as sns\n",
    "\n",
    "# dataset loading through mnist\n",
    "from keras.datasets import mnist\n",
    "\n",
    "#training three classifiers: decision tree, bagging and random forest.\n",
    "from sklearn.ensemble import BaggingClassifier\n",
    "from sklearn.ensemble import RandomForestClassifier\n",
    "from sklearn.tree import DecisionTreeClassifier\n",
    "\n",
    "# model selection utilitities for training and test split and cross validation\n",
    "from sklearn.model_selection import train_test_split\n",
    "from sklearn.model_selection import cross_validate\n",
    "from sklearn.model_selection import cross_val_score\n",
    "from sklearn.model_selection import ShuffleSplit\n",
    "\n",
    "\n",
    "from sklearn.metrics import confusion_matrix, ConfusionMatrixDisplay\n",
    "from sklearn.metrics import classification_report\n",
    "\n",
    "from sklearn.pipeline import Pipeline"
   ]
  },
  {
   "cell_type": "markdown",
   "metadata": {},
   "source": [
    "### **Loading MNIST dataset** \n",
    "\n",
    "We begin by loading the MNIST dataset with `load_data` in `mnist` class.\n",
    "\n",
    "We obtain :\n",
    "\n",
    " * Training feature matrix and labels \n",
    "\n",
    " * Test feature matrix and labels "
   ]
  },
  {
   "cell_type": "code",
   "execution_count": 2,
   "metadata": {},
   "outputs": [],
   "source": [
    "(X_train, y_train), (X_test, y_test) = mnist.load_data()\n",
    "data = mnist.load_data()"
   ]
  },
  {
   "cell_type": "code",
   "execution_count": 3,
   "metadata": {},
   "outputs": [
    {
     "data": {
      "image/png": "[encoded data removed]",
      "text/plain": [
       "<Figure size 432x288 with 1 Axes>"
      ]
     },
     "metadata": {
      "needs_background": "light"
     },
     "output_type": "display_data"
    }
   ],
   "source": [
    "plt.imshow(X_train[0])\n",
    "plt.show()"
   ]
  },
  {
   "cell_type": "markdown",
   "metadata": {},
   "source": [
    "* There are 60000 examples in training set and 10000 examples in the test set.\n",
    "\n",
    "* Each example is a grey scale image of size 28 X 28. \n",
    "\n",
    "* There are 10 different labels - one for each digit - 0 to 9."
   ]
  },
  {
   "cell_type": "code",
   "execution_count": 4,
   "metadata": {},
   "outputs": [
    {
     "name": "stdout",
     "output_type": "stream",
     "text": [
      "Shape of training data :  (60000, 28, 28)\n",
      "Shape of training labels :  (60000,)\n",
      "\n",
      "Shape of testing data :  (10000, 28, 28)\n",
      "Shape of testing labels :  (10000,)\n"
     ]
    }
   ],
   "source": [
    "print('Shape of training data : ', X_train.shape)\n",
    "print('Shape of training labels : ', y_train.shape)\n",
    "print()\n",
    "print('Shape of testing data : ', X_test.shape)\n",
    "print('Shape of testing labels : ', y_test.shape)"
   ]
  },
  {
   "cell_type": "markdown",
   "metadata": {},
   "source": [
    "Before using the dataset for training and evaluation, we need to flatten it into a vector. \n",
    "\n",
    "After flattening, we have training and test examples represented with a vector of 784 features. \n",
    "\n",
    "Each feature records pixel intensity in each of 28 X 28 pixel.\n",
    "\n",
    "We normalize the pixel intensity by dividing it with the maximum value i.e. 255. In that sense we have each feature value in the range 0 to 1."
   ]
  },
  {
   "cell_type": "code",
   "execution_count": 5,
   "metadata": {},
   "outputs": [],
   "source": [
    "# Flatten each input image into a vector of length 784.\n",
    "X_train = X_train.reshape(X_train.shape[0], 28*28)\n",
    "X_test = X_test.reshape(X_test.shape[0], 28*28)"
   ]
  },
  {
   "cell_type": "code",
   "execution_count": 6,
   "metadata": {},
   "outputs": [],
   "source": [
    "# Normalizing\n",
    "X_train = X_train/255\n",
    "X_test = X_test/255"
   ]
  },
  {
   "cell_type": "code",
   "execution_count": 7,
   "metadata": {},
   "outputs": [
    {
     "name": "stdout",
     "output_type": "stream",
     "text": [
      "Shape of training data after flattening :  (60000, 784)\n",
      "Shape of testing data after flattening :  (10000, 784)\n"
     ]
    }
   ],
   "source": [
    "print('Shape of training data after flattening : ', X_train.shape) \n",
    "print('Shape of testing data after flattening : ', X_test.shape)"
   ]
  },
  {
   "cell_type": "markdown",
   "metadata": {},
   "source": [
    "We use ShuffleSplit cross validation with 10 splits and 20% data set aside for model evaluation as a test data ."
   ]
  },
  {
   "cell_type": "code",
   "execution_count": 8,
   "metadata": {},
   "outputs": [],
   "source": [
    "cv = ShuffleSplit(n_splits=10,test_size=0.2, random_state=42)"
   ]
  },
  {
   "cell_type": "markdown",
   "metadata": {},
   "source": [
    "### **Model Building**\n",
    "\n",
    "We define two functions :\n"
   ]
  },
  {
   "cell_type": "markdown",
   "metadata": {},
   "source": [
    "\n",
    "1. **train_classifiers** function : \n",
    "\n",
    "* It contains a common code for training classifiers for MNIST multiclass classification problem. \n",
    "\n",
    "* It takes `estimator`, feature matrix, labels, cross validation strategy and name of the classifier as input.\n",
    "\n",
    "* It first fits the estimator with feature matrix and labels.\n",
    "\n",
    "* It obtains cross validated `f1_macro` score for training set with 10-fold `ShuffleSplit` cross validation and prints it."
   ]
  },
  {
   "cell_type": "code",
   "execution_count": 9,
   "metadata": {},
   "outputs": [],
   "source": [
    "def train_classifiers(estimator, X_train, y_train, cv, name):\n",
    "    estimator.fit(X_train, y_train)\n",
    "    cv_train_score = cross_val_score(\n",
    "        estimator, X_train, y_train, cv=cv, scoring='f1_macro')\n",
    "\n",
    "    print(\n",
    "        f'On an average, {name} model has f1 score of 'f'{cv_train_score.mean():.3f} (+/-) {cv_train_score.std():.3f} on the training set')\n"
   ]
  },
  {
   "cell_type": "markdown",
   "metadata": {},
   "source": [
    "2. `eval` function : \n",
    "\n",
    "* It takes estimator, test feature matrix and labels as input and produce classification report and confusion matrix.\n",
    "\n",
    "* It first predicts labels for the test set.\n",
    "\n",
    "* Then it uses these predicted reports for calculating various evaluation metrics like precision, recall, f1 score and accuracy for each of the 10 classes.\n",
    "\n",
    "* It also obtains a confusion matrix by comparing these predictions iwth the actual labels and displays it with `ConfusionMatrixDisplay` utility."
   ]
  },
  {
   "cell_type": "code",
   "execution_count": 10,
   "metadata": {},
   "outputs": [],
   "source": [
    "def eval(estimator, X_test ,y_test):\n",
    "    y_pred = estimator.predict(X_test)\n",
    "\n",
    "    print('Classification Report :')\n",
    "    print(classification_report(y_test ,y_pred))\n",
    "\n",
    "    print('Confusion Matrix : ')\n",
    "    sns.heatmap(confusion_matrix(y_test ,y_pred) ,cmap='Blues',annot=True ,cbar=True ,fmt='.5g')\n",
    "    # ConfusionMatrixDisplay.from_predictions(y_test, y_pred)\n",
    "    plt.show()"
   ]
  },
  {
   "cell_type": "markdown",
   "metadata": {},
   "source": [
    "Let's train three classifiers with default parameters.\n",
    "\n",
    " * **Decision tree** \n",
    "\n",
    " * **Bagging classifier** - which uses decision tree as a default classifier and trains multiple decision tree classifiers on different bags obtained through boostrap sampling of training set.\n",
    "\n",
    " * **Random forest classifier** - which is also a bagging technique, which trains different decision tree classifiers by randomly selecting attributes for splitting on bags of boostrap sample of training set."
   ]
  },
  {
   "cell_type": "markdown",
   "metadata": {},
   "source": [
    "### **Decision trees for MNIST multiclass classification**\n",
    "\n",
    "We instantiate a decision tree classifier with default parameters and train it. \n",
    "\n",
    "The `train_classifier` function prints the mean of cross validated accuracy and standard deviation of the trained classifier on the training set."
   ]
  },
  {
   "cell_type": "code",
   "execution_count": 11,
   "metadata": {},
   "outputs": [
    {
     "name": "stdout",
     "output_type": "stream",
     "text": [
      "On an average, decision tree model has f1 score of 0.867 (+/-) 0.004 on the training set\n"
     ]
    }
   ],
   "source": [
    "dt_pipeline = Pipeline([('classifier', DecisionTreeClassifier())])\n",
    "\n",
    "train_classifiers(dt_pipeline, X_train,\n",
    "                  y_train.ravel(), cv, 'decision tree')"
   ]
  },
  {
   "cell_type": "markdown",
   "metadata": {},
   "source": [
    "Let's evaluate the trained classifier on the test set."
   ]
  },
  {
   "cell_type": "code",
   "execution_count": 12,
   "metadata": {},
   "outputs": [
    {
     "name": "stdout",
     "output_type": "stream",
     "text": [
      "Classification Report :\n",
      "              precision    recall  f1-score   support\n",
      "\n",
      "           0       0.92      0.93      0.93       980\n",
      "           1       0.95      0.96      0.96      1135\n",
      "           2       0.86      0.85      0.85      1032\n",
      "           3       0.83      0.85      0.84      1010\n",
      "           4       0.87      0.88      0.87       982\n",
      "           5       0.83      0.83      0.83       892\n",
      "           6       0.89      0.88      0.88       958\n",
      "           7       0.91      0.89      0.90      1028\n",
      "           8       0.83      0.80      0.81       974\n",
      "           9       0.86      0.85      0.85      1009\n",
      "\n",
      "    accuracy                           0.87     10000\n",
      "   macro avg       0.87      0.87      0.87     10000\n",
      "weighted avg       0.87      0.87      0.87     10000\n",
      "\n",
      "Confusion Matrix : \n"
     ]
    },
    {
     "data": {
      "image/png": "[encoded data removed]",
      "text/plain": [
       "<Figure size 432x288 with 2 Axes>"
      ]
     },
     "metadata": {
      "needs_background": "light"
     },
     "output_type": "display_data"
    }
   ],
   "source": [
    "eval(dt_pipeline, X_test, y_test)"
   ]
  },
  {
   "cell_type": "markdown",
   "metadata": {},
   "source": [
    "### **MNIST classification with Bagging**\n",
    "\n",
    "First instantiate a bagging classifier object with default parameters and train it.\n",
    "\n",
    "Observe the mean `f1_score` and its standard deviation obtained by the classifier based 10-fold cross validation of the training set."
   ]
  },
  {
   "cell_type": "code",
   "execution_count": 13,
   "metadata": {},
   "outputs": [
    {
     "name": "stdout",
     "output_type": "stream",
     "text": [
      "On an average, bagging model has f1 score of 0.938 (+/-) 0.003 on the training set\n"
     ]
    }
   ],
   "source": [
    "# bagging_pipeline = Pipeline([('scaler',MinMaxScaler()),('classifier',     BaggingClassifier())])\n",
    "\n",
    "bag_pipeline = Pipeline([('classifier', BaggingClassifier())])\n",
    "\n",
    "train_classifiers(bag_pipeline, X_train, y_train.ravel(), cv, 'bagging')"
   ]
  },
  {
   "cell_type": "markdown",
   "metadata": {},
   "source": [
    "Let's evaluate the trained classifier on the test set."
   ]
  },
  {
   "cell_type": "code",
   "execution_count": 14,
   "metadata": {},
   "outputs": [
    {
     "name": "stdout",
     "output_type": "stream",
     "text": [
      "Classification Report :\n",
      "              precision    recall  f1-score   support\n",
      "\n",
      "           0       0.94      0.98      0.96       980\n",
      "           1       0.97      0.99      0.98      1135\n",
      "           2       0.92      0.94      0.93      1032\n",
      "           3       0.93      0.93      0.93      1010\n",
      "           4       0.94      0.94      0.94       982\n",
      "           5       0.94      0.91      0.93       892\n",
      "           6       0.96      0.95      0.96       958\n",
      "           7       0.96      0.94      0.95      1028\n",
      "           8       0.93      0.91      0.92       974\n",
      "           9       0.94      0.93      0.93      1009\n",
      "\n",
      "    accuracy                           0.94     10000\n",
      "   macro avg       0.94      0.94      0.94     10000\n",
      "weighted avg       0.94      0.94      0.94     10000\n",
      "\n",
      "Confusion Matrix : \n"
     ]
    },
    {
     "data": {
      "image/png": "[encoded data removed]",
      "text/plain": [
       "<Figure size 432x288 with 2 Axes>"
      ]
     },
     "metadata": {
      "needs_background": "light"
     },
     "output_type": "display_data"
    }
   ],
   "source": [
    "eval(bag_pipeline, X_test, y_test)"
   ]
  },
  {
   "cell_type": "markdown",
   "metadata": {},
   "source": [
    "### **Random forest for MNIST multiclass classification** \n",
    "\n",
    "Let's instantiate a random forest classifier object with default parameters and train it.\n",
    "\n",
    "Observe the mean `f1_score` and its standard deviation obtained by the classifier based 10-fold cross validation of the training set."
   ]
  },
  {
   "cell_type": "code",
   "execution_count": 15,
   "metadata": {},
   "outputs": [
    {
     "name": "stdout",
     "output_type": "stream",
     "text": [
      "On an average, random forest model has f1 score of 0.967 (+/-) 0.001 on the training set\n"
     ]
    }
   ],
   "source": [
    "rf_pipeline = Pipeline([('classifier', RandomForestClassifier())]) \n",
    "\n",
    "train_classifiers(rf_pipeline,X_train, y_train.ravel(), cv, 'random forest')"
   ]
  },
  {
   "cell_type": "markdown",
   "metadata": {},
   "source": [
    "Now let's evaluate a random forest classifier on the test set and obtain classification report containing precision, recall, f1-score and accuracy for each class. \n",
    "\n",
    "It also calculates confusion matrix and displays it with seaborn heatmap utility."
   ]
  },
  {
   "cell_type": "code",
   "execution_count": 16,
   "metadata": {},
   "outputs": [
    {
     "name": "stdout",
     "output_type": "stream",
     "text": [
      "Classification Report :\n",
      "              precision    recall  f1-score   support\n",
      "\n",
      "           0       0.97      0.99      0.98       980\n",
      "           1       0.99      0.99      0.99      1135\n",
      "           2       0.96      0.97      0.96      1032\n",
      "           3       0.96      0.96      0.96      1010\n",
      "           4       0.97      0.98      0.97       982\n",
      "           5       0.97      0.96      0.97       892\n",
      "           6       0.97      0.98      0.98       958\n",
      "           7       0.97      0.96      0.97      1028\n",
      "           8       0.96      0.96      0.96       974\n",
      "           9       0.96      0.95      0.96      1009\n",
      "\n",
      "    accuracy                           0.97     10000\n",
      "   macro avg       0.97      0.97      0.97     10000\n",
      "weighted avg       0.97      0.97      0.97     10000\n",
      "\n",
      "Confusion Matrix : \n"
     ]
    },
    {
     "data": {
      "image/png": "[encoded data removed]",
      "text/plain": [
       "<Figure size 432x288 with 2 Axes>"
      ]
     },
     "metadata": {
      "needs_background": "light"
     },
     "output_type": "display_data"
    }
   ],
   "source": [
    "eval(rf_pipeline, X_test, y_test)"
   ]
  },
  {
   "cell_type": "markdown",
   "metadata": {},
   "source": [
    "## **Summary** \n",
    "\n",
    "* We trained three multi-class classifiers for handwritten digit recognition.\n",
    "\n",
    "* The **decision tree classifier** is a baseline classifier, which obtained accuracy of **87%** on the test set.\n",
    "\n",
    "* Using **bagging** and training the same decision tree classifier gave us an increase of 7 percentage point in the accuracy, which translates to **94%** accuracy on the test set.\n",
    "\n",
    "* Finally, the **random forest classifier** pushed that further to **97%**.\n",
    "\n",
    "* We can see that how ensemble techniques give better results on the classification task compared to a single classifier.\n"
   ]
  }
 ],
 "metadata": {
  "kernelspec": {
   "display_name": "Python 3.9.7 ('tensorflow')",
   "language": "python",
   "name": "python3"
  },
  "language_info": {
   "codemirror_mode": {
    "name": "ipython",
    "version": 3
   },
   "file_extension": ".py",
   "mimetype": "text/x-python",
   "name": "python",
   "nbconvert_exporter": "python",
   "pygments_lexer": "ipython3",
   "version": "3.9.7"
  },
  "orig_nbformat": 4,
  "vscode": {
   "interpreter": {
    "hash": "32f02dc107888b055323539767db1f9cf579f03b0ed3a3ace7986ed2d38433ec"
   }
  }
 },
 "nbformat": 4,
 "nbformat_minor": 2
}
